{
 "cells":[
  {
   "cell_type":"markdown",
   "source":[
    "## Reading CSV file as a Dataframe"
   ],
   "attachments":{
    
   },
   "metadata":{
    "datalore":{
     "node_id":"XXLooBKN2FTUlPGtaIiXwS",
     "type":"MD",
     "hide_input_from_viewers":true,
     "hide_output_from_viewers":true
    }
   }
  },
  {
   "cell_type":"code",
   "source":[
    "import pandas as pd\n",
    "df1 = pd.read_csv('\/data\/notebook_files\/train.csv')\n",
    "df2 = pd.read_csv('\/data\/notebook_files\/test.csv')\n",
    "combined_df = pd.concat([df1,df2], ignore_index = True)\n",
    "pd.set_option('display.max_columns', None)\n",
    "combined_df.head(5)"
   ],
   "execution_count":37,
   "outputs":[
    {
     "data":{
      "text\/html":[
       "<div>\n",
       "<style scoped>\n",
       "    .dataframe tbody tr th:only-of-type {\n",
       "        vertical-align: middle;\n",
       "    }\n",
       "\n",
       "    .dataframe tbody tr th {\n",
       "        vertical-align: top;\n",
       "    }\n",
       "\n",
       "    .dataframe thead th {\n",
       "        text-align: right;\n",
       "    }\n",
       "<\/style>\n",
       "<table border=\"1\" class=\"dataframe\">\n",
       "  <thead>\n",
       "    <tr style=\"text-align: right;\">\n",
       "      <th><\/th>\n",
       "      <th>Id<\/th>\n",
       "      <th>MSSubClass<\/th>\n",
       "      <th>MSZoning<\/th>\n",
       "      <th>LotFrontage<\/th>\n",
       "      <th>LotArea<\/th>\n",
       "      <th>Street<\/th>\n",
       "      <th>Alley<\/th>\n",
       "      <th>LotShape<\/th>\n",
       "      <th>LandContour<\/th>\n",
       "      <th>Utilities<\/th>\n",
       "      <th>LotConfig<\/th>\n",
       "      <th>LandSlope<\/th>\n",
       "      <th>Neighborhood<\/th>\n",
       "      <th>Condition1<\/th>\n",
       "      <th>Condition2<\/th>\n",
       "      <th>BldgType<\/th>\n",
       "      <th>HouseStyle<\/th>\n",
       "      <th>OverallQual<\/th>\n",
       "      <th>OverallCond<\/th>\n",
       "      <th>YearBuilt<\/th>\n",
       "      <th>YearRemodAdd<\/th>\n",
       "      <th>RoofStyle<\/th>\n",
       "      <th>RoofMatl<\/th>\n",
       "      <th>Exterior1st<\/th>\n",
       "      <th>Exterior2nd<\/th>\n",
       "      <th>MasVnrType<\/th>\n",
       "      <th>MasVnrArea<\/th>\n",
       "      <th>ExterQual<\/th>\n",
       "      <th>ExterCond<\/th>\n",
       "      <th>Foundation<\/th>\n",
       "      <th>BsmtQual<\/th>\n",
       "      <th>BsmtCond<\/th>\n",
       "      <th>BsmtExposure<\/th>\n",
       "      <th>BsmtFinType1<\/th>\n",
       "      <th>BsmtFinSF1<\/th>\n",
       "      <th>BsmtFinType2<\/th>\n",
       "      <th>BsmtFinSF2<\/th>\n",
       "      <th>BsmtUnfSF<\/th>\n",
       "      <th>TotalBsmtSF<\/th>\n",
       "      <th>Heating<\/th>\n",
       "      <th>HeatingQC<\/th>\n",
       "      <th>CentralAir<\/th>\n",
       "      <th>Electrical<\/th>\n",
       "      <th>1stFlrSF<\/th>\n",
       "      <th>2ndFlrSF<\/th>\n",
       "      <th>LowQualFinSF<\/th>\n",
       "      <th>GrLivArea<\/th>\n",
       "      <th>BsmtFullBath<\/th>\n",
       "      <th>BsmtHalfBath<\/th>\n",
       "      <th>FullBath<\/th>\n",
       "      <th>HalfBath<\/th>\n",
       "      <th>BedroomAbvGr<\/th>\n",
       "      <th>KitchenAbvGr<\/th>\n",
       "      <th>KitchenQual<\/th>\n",
       "      <th>TotRmsAbvGrd<\/th>\n",
       "      <th>Functional<\/th>\n",
       "      <th>Fireplaces<\/th>\n",
       "      <th>FireplaceQu<\/th>\n",
       "      <th>GarageType<\/th>\n",
       "      <th>GarageYrBlt<\/th>\n",
       "      <th>GarageFinish<\/th>\n",
       "      <th>GarageCars<\/th>\n",
       "      <th>GarageArea<\/th>\n",
       "      <th>GarageQual<\/th>\n",
       "      <th>GarageCond<\/th>\n",
       "      <th>PavedDrive<\/th>\n",
       "      <th>WoodDeckSF<\/th>\n",
       "      <th>OpenPorchSF<\/th>\n",
       "      <th>EnclosedPorch<\/th>\n",
       "      <th>3SsnPorch<\/th>\n",
       "      <th>ScreenPorch<\/th>\n",
       "      <th>PoolArea<\/th>\n",
       "      <th>PoolQC<\/th>\n",
       "      <th>Fence<\/th>\n",
       "      <th>MiscFeature<\/th>\n",
       "      <th>MiscVal<\/th>\n",
       "      <th>MoSold<\/th>\n",
       "      <th>YrSold<\/th>\n",
       "      <th>SaleType<\/th>\n",
       "      <th>SaleCondition<\/th>\n",
       "      <th>SalePrice<\/th>\n",
       "    <\/tr>\n",
       "  <\/thead>\n",
       "  <tbody>\n",
       "    <tr>\n",
       "      <th>0<\/th>\n",
       "      <td>1<\/td>\n",
       "      <td>60<\/td>\n",
       "      <td>RL<\/td>\n",
       "      <td>65.0<\/td>\n",
       "      <td>8450<\/td>\n",
       "      <td>Pave<\/td>\n",
       "      <td>NaN<\/td>\n",
       "      <td>Reg<\/td>\n",
       "      <td>Lvl<\/td>\n",
       "      <td>AllPub<\/td>\n",
       "      <td>Inside<\/td>\n",
       "      <td>Gtl<\/td>\n",
       "      <td>CollgCr<\/td>\n",
       "      <td>Norm<\/td>\n",
       "      <td>Norm<\/td>\n",
       "      <td>1Fam<\/td>\n",
       "      <td>2Story<\/td>\n",
       "      <td>7<\/td>\n",
       "      <td>5<\/td>\n",
       "      <td>2003<\/td>\n",
       "      <td>2003<\/td>\n",
       "      <td>Gable<\/td>\n",
       "      <td>CompShg<\/td>\n",
       "      <td>VinylSd<\/td>\n",
       "      <td>VinylSd<\/td>\n",
       "      <td>BrkFace<\/td>\n",
       "      <td>196.0<\/td>\n",
       "      <td>Gd<\/td>\n",
       "      <td>TA<\/td>\n",
       "      <td>PConc<\/td>\n",
       "      <td>Gd<\/td>\n",
       "      <td>TA<\/td>\n",
       "      <td>No<\/td>\n",
       "      <td>GLQ<\/td>\n",
       "      <td>706.0<\/td>\n",
       "      <td>Unf<\/td>\n",
       "      <td>0.0<\/td>\n",
       "      <td>150.0<\/td>\n",
       "      <td>856.0<\/td>\n",
       "      <td>GasA<\/td>\n",
       "      <td>Ex<\/td>\n",
       "      <td>Y<\/td>\n",
       "      <td>SBrkr<\/td>\n",
       "      <td>856<\/td>\n",
       "      <td>854<\/td>\n",
       "      <td>0<\/td>\n",
       "      <td>1710<\/td>\n",
       "      <td>1.0<\/td>\n",
       "      <td>0.0<\/td>\n",
       "      <td>2<\/td>\n",
       "      <td>1<\/td>\n",
       "      <td>3<\/td>\n",
       "      <td>1<\/td>\n",
       "      <td>Gd<\/td>\n",
       "      <td>8<\/td>\n",
       "      <td>Typ<\/td>\n",
       "      <td>0<\/td>\n",
       "      <td>NaN<\/td>\n",
       "      <td>Attchd<\/td>\n",
       "      <td>2003.0<\/td>\n",
       "      <td>RFn<\/td>\n",
       "      <td>2.0<\/td>\n",
       "      <td>548.0<\/td>\n",
       "      <td>TA<\/td>\n",
       "      <td>TA<\/td>\n",
       "      <td>Y<\/td>\n",
       "      <td>0<\/td>\n",
       "      <td>61<\/td>\n",
       "      <td>0<\/td>\n",
       "      <td>0<\/td>\n",
       "      <td>0<\/td>\n",
       "      <td>0<\/td>\n",
       "      <td>NaN<\/td>\n",
       "      <td>NaN<\/td>\n",
       "      <td>NaN<\/td>\n",
       "      <td>0<\/td>\n",
       "      <td>2<\/td>\n",
       "      <td>2008<\/td>\n",
       "      <td>WD<\/td>\n",
       "      <td>Normal<\/td>\n",
       "      <td>208500.0<\/td>\n",
       "    <\/tr>\n",
       "    <tr>\n",
       "      <th>1<\/th>\n",
       "      <td>2<\/td>\n",
       "      <td>20<\/td>\n",
       "      <td>RL<\/td>\n",
       "      <td>80.0<\/td>\n",
       "      <td>9600<\/td>\n",
       "      <td>Pave<\/td>\n",
       "      <td>NaN<\/td>\n",
       "      <td>Reg<\/td>\n",
       "      <td>Lvl<\/td>\n",
       "      <td>AllPub<\/td>\n",
       "      <td>FR2<\/td>\n",
       "      <td>Gtl<\/td>\n",
       "      <td>Veenker<\/td>\n",
       "      <td>Feedr<\/td>\n",
       "      <td>Norm<\/td>\n",
       "      <td>1Fam<\/td>\n",
       "      <td>1Story<\/td>\n",
       "      <td>6<\/td>\n",
       "      <td>8<\/td>\n",
       "      <td>1976<\/td>\n",
       "      <td>1976<\/td>\n",
       "      <td>Gable<\/td>\n",
       "      <td>CompShg<\/td>\n",
       "      <td>MetalSd<\/td>\n",
       "      <td>MetalSd<\/td>\n",
       "      <td>None<\/td>\n",
       "      <td>0.0<\/td>\n",
       "      <td>TA<\/td>\n",
       "      <td>TA<\/td>\n",
       "      <td>CBlock<\/td>\n",
       "      <td>Gd<\/td>\n",
       "      <td>TA<\/td>\n",
       "      <td>Gd<\/td>\n",
       "      <td>ALQ<\/td>\n",
       "      <td>978.0<\/td>\n",
       "      <td>Unf<\/td>\n",
       "      <td>0.0<\/td>\n",
       "      <td>284.0<\/td>\n",
       "      <td>1262.0<\/td>\n",
       "      <td>GasA<\/td>\n",
       "      <td>Ex<\/td>\n",
       "      <td>Y<\/td>\n",
       "      <td>SBrkr<\/td>\n",
       "      <td>1262<\/td>\n",
       "      <td>0<\/td>\n",
       "      <td>0<\/td>\n",
       "      <td>1262<\/td>\n",
       "      <td>0.0<\/td>\n",
       "      <td>1.0<\/td>\n",
       "      <td>2<\/td>\n",
       "      <td>0<\/td>\n",
       "      <td>3<\/td>\n",
       "      <td>1<\/td>\n",
       "      <td>TA<\/td>\n",
       "      <td>6<\/td>\n",
       "      <td>Typ<\/td>\n",
       "      <td>1<\/td>\n",
       "      <td>TA<\/td>\n",
       "      <td>Attchd<\/td>\n",
       "      <td>1976.0<\/td>\n",
       "      <td>RFn<\/td>\n",
       "      <td>2.0<\/td>\n",
       "      <td>460.0<\/td>\n",
       "      <td>TA<\/td>\n",
       "      <td>TA<\/td>\n",
       "      <td>Y<\/td>\n",
       "      <td>298<\/td>\n",
       "      <td>0<\/td>\n",
       "      <td>0<\/td>\n",
       "      <td>0<\/td>\n",
       "      <td>0<\/td>\n",
       "      <td>0<\/td>\n",
       "      <td>NaN<\/td>\n",
       "      <td>NaN<\/td>\n",
       "      <td>NaN<\/td>\n",
       "      <td>0<\/td>\n",
       "      <td>5<\/td>\n",
       "      <td>2007<\/td>\n",
       "      <td>WD<\/td>\n",
       "      <td>Normal<\/td>\n",
       "      <td>181500.0<\/td>\n",
       "    <\/tr>\n",
       "    <tr>\n",
       "      <th>2<\/th>\n",
       "      <td>3<\/td>\n",
       "      <td>60<\/td>\n",
       "      <td>RL<\/td>\n",
       "      <td>68.0<\/td>\n",
       "      <td>11250<\/td>\n",
       "      <td>Pave<\/td>\n",
       "      <td>NaN<\/td>\n",
       "      <td>IR1<\/td>\n",
       "      <td>Lvl<\/td>\n",
       "      <td>AllPub<\/td>\n",
       "      <td>Inside<\/td>\n",
       "      <td>Gtl<\/td>\n",
       "      <td>CollgCr<\/td>\n",
       "      <td>Norm<\/td>\n",
       "      <td>Norm<\/td>\n",
       "      <td>1Fam<\/td>\n",
       "      <td>2Story<\/td>\n",
       "      <td>7<\/td>\n",
       "      <td>5<\/td>\n",
       "      <td>2001<\/td>\n",
       "      <td>2002<\/td>\n",
       "      <td>Gable<\/td>\n",
       "      <td>CompShg<\/td>\n",
       "      <td>VinylSd<\/td>\n",
       "      <td>VinylSd<\/td>\n",
       "      <td>BrkFace<\/td>\n",
       "      <td>162.0<\/td>\n",
       "      <td>Gd<\/td>\n",
       "      <td>TA<\/td>\n",
       "      <td>PConc<\/td>\n",
       "      <td>Gd<\/td>\n",
       "      <td>TA<\/td>\n",
       "      <td>Mn<\/td>\n",
       "      <td>GLQ<\/td>\n",
       "      <td>486.0<\/td>\n",
       "      <td>Unf<\/td>\n",
       "      <td>0.0<\/td>\n",
       "      <td>434.0<\/td>\n",
       "      <td>920.0<\/td>\n",
       "      <td>GasA<\/td>\n",
       "      <td>Ex<\/td>\n",
       "      <td>Y<\/td>\n",
       "      <td>SBrkr<\/td>\n",
       "      <td>920<\/td>\n",
       "      <td>866<\/td>\n",
       "      <td>0<\/td>\n",
       "      <td>1786<\/td>\n",
       "      <td>1.0<\/td>\n",
       "      <td>0.0<\/td>\n",
       "      <td>2<\/td>\n",
       "      <td>1<\/td>\n",
       "      <td>3<\/td>\n",
       "      <td>1<\/td>\n",
       "      <td>Gd<\/td>\n",
       "      <td>6<\/td>\n",
       "      <td>Typ<\/td>\n",
       "      <td>1<\/td>\n",
       "      <td>TA<\/td>\n",
       "      <td>Attchd<\/td>\n",
       "      <td>2001.0<\/td>\n",
       "      <td>RFn<\/td>\n",
       "      <td>2.0<\/td>\n",
       "      <td>608.0<\/td>\n",
       "      <td>TA<\/td>\n",
       "      <td>TA<\/td>\n",
       "      <td>Y<\/td>\n",
       "      <td>0<\/td>\n",
       "      <td>42<\/td>\n",
       "      <td>0<\/td>\n",
       "      <td>0<\/td>\n",
       "      <td>0<\/td>\n",
       "      <td>0<\/td>\n",
       "      <td>NaN<\/td>\n",
       "      <td>NaN<\/td>\n",
       "      <td>NaN<\/td>\n",
       "      <td>0<\/td>\n",
       "      <td>9<\/td>\n",
       "      <td>2008<\/td>\n",
       "      <td>WD<\/td>\n",
       "      <td>Normal<\/td>\n",
       "      <td>223500.0<\/td>\n",
       "    <\/tr>\n",
       "    <tr>\n",
       "      <th>3<\/th>\n",
       "      <td>4<\/td>\n",
       "      <td>70<\/td>\n",
       "      <td>RL<\/td>\n",
       "      <td>60.0<\/td>\n",
       "      <td>9550<\/td>\n",
       "      <td>Pave<\/td>\n",
       "      <td>NaN<\/td>\n",
       "      <td>IR1<\/td>\n",
       "      <td>Lvl<\/td>\n",
       "      <td>AllPub<\/td>\n",
       "      <td>Corner<\/td>\n",
       "      <td>Gtl<\/td>\n",
       "      <td>Crawfor<\/td>\n",
       "      <td>Norm<\/td>\n",
       "      <td>Norm<\/td>\n",
       "      <td>1Fam<\/td>\n",
       "      <td>2Story<\/td>\n",
       "      <td>7<\/td>\n",
       "      <td>5<\/td>\n",
       "      <td>1915<\/td>\n",
       "      <td>1970<\/td>\n",
       "      <td>Gable<\/td>\n",
       "      <td>CompShg<\/td>\n",
       "      <td>Wd Sdng<\/td>\n",
       "      <td>Wd Shng<\/td>\n",
       "      <td>None<\/td>\n",
       "      <td>0.0<\/td>\n",
       "      <td>TA<\/td>\n",
       "      <td>TA<\/td>\n",
       "      <td>BrkTil<\/td>\n",
       "      <td>TA<\/td>\n",
       "      <td>Gd<\/td>\n",
       "      <td>No<\/td>\n",
       "      <td>ALQ<\/td>\n",
       "      <td>216.0<\/td>\n",
       "      <td>Unf<\/td>\n",
       "      <td>0.0<\/td>\n",
       "      <td>540.0<\/td>\n",
       "      <td>756.0<\/td>\n",
       "      <td>GasA<\/td>\n",
       "      <td>Gd<\/td>\n",
       "      <td>Y<\/td>\n",
       "      <td>SBrkr<\/td>\n",
       "      <td>961<\/td>\n",
       "      <td>756<\/td>\n",
       "      <td>0<\/td>\n",
       "      <td>1717<\/td>\n",
       "      <td>1.0<\/td>\n",
       "      <td>0.0<\/td>\n",
       "      <td>1<\/td>\n",
       "      <td>0<\/td>\n",
       "      <td>3<\/td>\n",
       "      <td>1<\/td>\n",
       "      <td>Gd<\/td>\n",
       "      <td>7<\/td>\n",
       "      <td>Typ<\/td>\n",
       "      <td>1<\/td>\n",
       "      <td>Gd<\/td>\n",
       "      <td>Detchd<\/td>\n",
       "      <td>1998.0<\/td>\n",
       "      <td>Unf<\/td>\n",
       "      <td>3.0<\/td>\n",
       "      <td>642.0<\/td>\n",
       "      <td>TA<\/td>\n",
       "      <td>TA<\/td>\n",
       "      <td>Y<\/td>\n",
       "      <td>0<\/td>\n",
       "      <td>35<\/td>\n",
       "      <td>272<\/td>\n",
       "      <td>0<\/td>\n",
       "      <td>0<\/td>\n",
       "      <td>0<\/td>\n",
       "      <td>NaN<\/td>\n",
       "      <td>NaN<\/td>\n",
       "      <td>NaN<\/td>\n",
       "      <td>0<\/td>\n",
       "      <td>2<\/td>\n",
       "      <td>2006<\/td>\n",
       "      <td>WD<\/td>\n",
       "      <td>Abnorml<\/td>\n",
       "      <td>140000.0<\/td>\n",
       "    <\/tr>\n",
       "    <tr>\n",
       "      <th>4<\/th>\n",
       "      <td>5<\/td>\n",
       "      <td>60<\/td>\n",
       "      <td>RL<\/td>\n",
       "      <td>84.0<\/td>\n",
       "      <td>14260<\/td>\n",
       "      <td>Pave<\/td>\n",
       "      <td>NaN<\/td>\n",
       "      <td>IR1<\/td>\n",
       "      <td>Lvl<\/td>\n",
       "      <td>AllPub<\/td>\n",
       "      <td>FR2<\/td>\n",
       "      <td>Gtl<\/td>\n",
       "      <td>NoRidge<\/td>\n",
       "      <td>Norm<\/td>\n",
       "      <td>Norm<\/td>\n",
       "      <td>1Fam<\/td>\n",
       "      <td>2Story<\/td>\n",
       "      <td>8<\/td>\n",
       "      <td>5<\/td>\n",
       "      <td>2000<\/td>\n",
       "      <td>2000<\/td>\n",
       "      <td>Gable<\/td>\n",
       "      <td>CompShg<\/td>\n",
       "      <td>VinylSd<\/td>\n",
       "      <td>VinylSd<\/td>\n",
       "      <td>BrkFace<\/td>\n",
       "      <td>350.0<\/td>\n",
       "      <td>Gd<\/td>\n",
       "      <td>TA<\/td>\n",
       "      <td>PConc<\/td>\n",
       "      <td>Gd<\/td>\n",
       "      <td>TA<\/td>\n",
       "      <td>Av<\/td>\n",
       "      <td>GLQ<\/td>\n",
       "      <td>655.0<\/td>\n",
       "      <td>Unf<\/td>\n",
       "      <td>0.0<\/td>\n",
       "      <td>490.0<\/td>\n",
       "      <td>1145.0<\/td>\n",
       "      <td>GasA<\/td>\n",
       "      <td>Ex<\/td>\n",
       "      <td>Y<\/td>\n",
       "      <td>SBrkr<\/td>\n",
       "      <td>1145<\/td>\n",
       "      <td>1053<\/td>\n",
       "      <td>0<\/td>\n",
       "      <td>2198<\/td>\n",
       "      <td>1.0<\/td>\n",
       "      <td>0.0<\/td>\n",
       "      <td>2<\/td>\n",
       "      <td>1<\/td>\n",
       "      <td>4<\/td>\n",
       "      <td>1<\/td>\n",
       "      <td>Gd<\/td>\n",
       "      <td>9<\/td>\n",
       "      <td>Typ<\/td>\n",
       "      <td>1<\/td>\n",
       "      <td>TA<\/td>\n",
       "      <td>Attchd<\/td>\n",
       "      <td>2000.0<\/td>\n",
       "      <td>RFn<\/td>\n",
       "      <td>3.0<\/td>\n",
       "      <td>836.0<\/td>\n",
       "      <td>TA<\/td>\n",
       "      <td>TA<\/td>\n",
       "      <td>Y<\/td>\n",
       "      <td>192<\/td>\n",
       "      <td>84<\/td>\n",
       "      <td>0<\/td>\n",
       "      <td>0<\/td>\n",
       "      <td>0<\/td>\n",
       "      <td>0<\/td>\n",
       "      <td>NaN<\/td>\n",
       "      <td>NaN<\/td>\n",
       "      <td>NaN<\/td>\n",
       "      <td>0<\/td>\n",
       "      <td>12<\/td>\n",
       "      <td>2008<\/td>\n",
       "      <td>WD<\/td>\n",
       "      <td>Normal<\/td>\n",
       "      <td>250000.0<\/td>\n",
       "    <\/tr>\n",
       "  <\/tbody>\n",
       "<\/table>\n",
       "<\/div>"
      ]
     },
     "metadata":{
      
     },
     "output_type":"display_data"
    }
   ],
   "metadata":{
    "datalore":{
     "node_id":"bPdxZ01mkgYpR0gYeNM0Ju",
     "type":"CODE",
     "hide_input_from_viewers":true,
     "hide_output_from_viewers":true
    }
   }
  },
  {
   "cell_type":"code",
   "source":[
    "df_SalePriceAscending = combined_df.sort_values(by='SalePrice', ascending=False)\n",
    "df_SalePriceAscending.head(5)"
   ],
   "execution_count":38,
   "outputs":[
    {
     "data":{
      "text\/html":[
       "<div>\n",
       "<style scoped>\n",
       "    .dataframe tbody tr th:only-of-type {\n",
       "        vertical-align: middle;\n",
       "    }\n",
       "\n",
       "    .dataframe tbody tr th {\n",
       "        vertical-align: top;\n",
       "    }\n",
       "\n",
       "    .dataframe thead th {\n",
       "        text-align: right;\n",
       "    }\n",
       "<\/style>\n",
       "<table border=\"1\" class=\"dataframe\">\n",
       "  <thead>\n",
       "    <tr style=\"text-align: right;\">\n",
       "      <th><\/th>\n",
       "      <th>Id<\/th>\n",
       "      <th>MSSubClass<\/th>\n",
       "      <th>MSZoning<\/th>\n",
       "      <th>LotFrontage<\/th>\n",
       "      <th>LotArea<\/th>\n",
       "      <th>Street<\/th>\n",
       "      <th>Alley<\/th>\n",
       "      <th>LotShape<\/th>\n",
       "      <th>LandContour<\/th>\n",
       "      <th>Utilities<\/th>\n",
       "      <th>LotConfig<\/th>\n",
       "      <th>LandSlope<\/th>\n",
       "      <th>Neighborhood<\/th>\n",
       "      <th>Condition1<\/th>\n",
       "      <th>Condition2<\/th>\n",
       "      <th>BldgType<\/th>\n",
       "      <th>HouseStyle<\/th>\n",
       "      <th>OverallQual<\/th>\n",
       "      <th>OverallCond<\/th>\n",
       "      <th>YearBuilt<\/th>\n",
       "      <th>YearRemodAdd<\/th>\n",
       "      <th>RoofStyle<\/th>\n",
       "      <th>RoofMatl<\/th>\n",
       "      <th>Exterior1st<\/th>\n",
       "      <th>Exterior2nd<\/th>\n",
       "      <th>MasVnrType<\/th>\n",
       "      <th>MasVnrArea<\/th>\n",
       "      <th>ExterQual<\/th>\n",
       "      <th>ExterCond<\/th>\n",
       "      <th>Foundation<\/th>\n",
       "      <th>BsmtQual<\/th>\n",
       "      <th>BsmtCond<\/th>\n",
       "      <th>BsmtExposure<\/th>\n",
       "      <th>BsmtFinType1<\/th>\n",
       "      <th>BsmtFinSF1<\/th>\n",
       "      <th>BsmtFinType2<\/th>\n",
       "      <th>BsmtFinSF2<\/th>\n",
       "      <th>BsmtUnfSF<\/th>\n",
       "      <th>TotalBsmtSF<\/th>\n",
       "      <th>Heating<\/th>\n",
       "      <th>HeatingQC<\/th>\n",
       "      <th>CentralAir<\/th>\n",
       "      <th>Electrical<\/th>\n",
       "      <th>1stFlrSF<\/th>\n",
       "      <th>2ndFlrSF<\/th>\n",
       "      <th>LowQualFinSF<\/th>\n",
       "      <th>GrLivArea<\/th>\n",
       "      <th>BsmtFullBath<\/th>\n",
       "      <th>BsmtHalfBath<\/th>\n",
       "      <th>FullBath<\/th>\n",
       "      <th>HalfBath<\/th>\n",
       "      <th>BedroomAbvGr<\/th>\n",
       "      <th>KitchenAbvGr<\/th>\n",
       "      <th>KitchenQual<\/th>\n",
       "      <th>TotRmsAbvGrd<\/th>\n",
       "      <th>Functional<\/th>\n",
       "      <th>Fireplaces<\/th>\n",
       "      <th>FireplaceQu<\/th>\n",
       "      <th>GarageType<\/th>\n",
       "      <th>GarageYrBlt<\/th>\n",
       "      <th>GarageFinish<\/th>\n",
       "      <th>GarageCars<\/th>\n",
       "      <th>GarageArea<\/th>\n",
       "      <th>GarageQual<\/th>\n",
       "      <th>GarageCond<\/th>\n",
       "      <th>PavedDrive<\/th>\n",
       "      <th>WoodDeckSF<\/th>\n",
       "      <th>OpenPorchSF<\/th>\n",
       "      <th>EnclosedPorch<\/th>\n",
       "      <th>3SsnPorch<\/th>\n",
       "      <th>ScreenPorch<\/th>\n",
       "      <th>PoolArea<\/th>\n",
       "      <th>PoolQC<\/th>\n",
       "      <th>Fence<\/th>\n",
       "      <th>MiscFeature<\/th>\n",
       "      <th>MiscVal<\/th>\n",
       "      <th>MoSold<\/th>\n",
       "      <th>YrSold<\/th>\n",
       "      <th>SaleType<\/th>\n",
       "      <th>SaleCondition<\/th>\n",
       "      <th>SalePrice<\/th>\n",
       "    <\/tr>\n",
       "  <\/thead>\n",
       "  <tbody>\n",
       "    <tr>\n",
       "      <th>691<\/th>\n",
       "      <td>692<\/td>\n",
       "      <td>60<\/td>\n",
       "      <td>RL<\/td>\n",
       "      <td>104.0<\/td>\n",
       "      <td>21535<\/td>\n",
       "      <td>Pave<\/td>\n",
       "      <td>NaN<\/td>\n",
       "      <td>IR1<\/td>\n",
       "      <td>Lvl<\/td>\n",
       "      <td>AllPub<\/td>\n",
       "      <td>Corner<\/td>\n",
       "      <td>Gtl<\/td>\n",
       "      <td>NoRidge<\/td>\n",
       "      <td>Norm<\/td>\n",
       "      <td>Norm<\/td>\n",
       "      <td>1Fam<\/td>\n",
       "      <td>2Story<\/td>\n",
       "      <td>10<\/td>\n",
       "      <td>6<\/td>\n",
       "      <td>1994<\/td>\n",
       "      <td>1995<\/td>\n",
       "      <td>Gable<\/td>\n",
       "      <td>WdShngl<\/td>\n",
       "      <td>HdBoard<\/td>\n",
       "      <td>HdBoard<\/td>\n",
       "      <td>BrkFace<\/td>\n",
       "      <td>1170.0<\/td>\n",
       "      <td>Ex<\/td>\n",
       "      <td>TA<\/td>\n",
       "      <td>PConc<\/td>\n",
       "      <td>Ex<\/td>\n",
       "      <td>TA<\/td>\n",
       "      <td>Gd<\/td>\n",
       "      <td>GLQ<\/td>\n",
       "      <td>1455.0<\/td>\n",
       "      <td>Unf<\/td>\n",
       "      <td>0.0<\/td>\n",
       "      <td>989.0<\/td>\n",
       "      <td>2444.0<\/td>\n",
       "      <td>GasA<\/td>\n",
       "      <td>Ex<\/td>\n",
       "      <td>Y<\/td>\n",
       "      <td>SBrkr<\/td>\n",
       "      <td>2444<\/td>\n",
       "      <td>1872<\/td>\n",
       "      <td>0<\/td>\n",
       "      <td>4316<\/td>\n",
       "      <td>0.0<\/td>\n",
       "      <td>1.0<\/td>\n",
       "      <td>3<\/td>\n",
       "      <td>1<\/td>\n",
       "      <td>4<\/td>\n",
       "      <td>1<\/td>\n",
       "      <td>Ex<\/td>\n",
       "      <td>10<\/td>\n",
       "      <td>Typ<\/td>\n",
       "      <td>2<\/td>\n",
       "      <td>Ex<\/td>\n",
       "      <td>Attchd<\/td>\n",
       "      <td>1994.0<\/td>\n",
       "      <td>Fin<\/td>\n",
       "      <td>3.0<\/td>\n",
       "      <td>832.0<\/td>\n",
       "      <td>TA<\/td>\n",
       "      <td>TA<\/td>\n",
       "      <td>Y<\/td>\n",
       "      <td>382<\/td>\n",
       "      <td>50<\/td>\n",
       "      <td>0<\/td>\n",
       "      <td>0<\/td>\n",
       "      <td>0<\/td>\n",
       "      <td>0<\/td>\n",
       "      <td>NaN<\/td>\n",
       "      <td>NaN<\/td>\n",
       "      <td>NaN<\/td>\n",
       "      <td>0<\/td>\n",
       "      <td>1<\/td>\n",
       "      <td>2007<\/td>\n",
       "      <td>WD<\/td>\n",
       "      <td>Normal<\/td>\n",
       "      <td>755000.0<\/td>\n",
       "    <\/tr>\n",
       "    <tr>\n",
       "      <th>1182<\/th>\n",
       "      <td>1183<\/td>\n",
       "      <td>60<\/td>\n",
       "      <td>RL<\/td>\n",
       "      <td>160.0<\/td>\n",
       "      <td>15623<\/td>\n",
       "      <td>Pave<\/td>\n",
       "      <td>NaN<\/td>\n",
       "      <td>IR1<\/td>\n",
       "      <td>Lvl<\/td>\n",
       "      <td>AllPub<\/td>\n",
       "      <td>Corner<\/td>\n",
       "      <td>Gtl<\/td>\n",
       "      <td>NoRidge<\/td>\n",
       "      <td>Norm<\/td>\n",
       "      <td>Norm<\/td>\n",
       "      <td>1Fam<\/td>\n",
       "      <td>2Story<\/td>\n",
       "      <td>10<\/td>\n",
       "      <td>5<\/td>\n",
       "      <td>1996<\/td>\n",
       "      <td>1996<\/td>\n",
       "      <td>Hip<\/td>\n",
       "      <td>CompShg<\/td>\n",
       "      <td>Wd Sdng<\/td>\n",
       "      <td>ImStucc<\/td>\n",
       "      <td>None<\/td>\n",
       "      <td>0.0<\/td>\n",
       "      <td>Gd<\/td>\n",
       "      <td>TA<\/td>\n",
       "      <td>PConc<\/td>\n",
       "      <td>Ex<\/td>\n",
       "      <td>TA<\/td>\n",
       "      <td>Av<\/td>\n",
       "      <td>GLQ<\/td>\n",
       "      <td>2096.0<\/td>\n",
       "      <td>Unf<\/td>\n",
       "      <td>0.0<\/td>\n",
       "      <td>300.0<\/td>\n",
       "      <td>2396.0<\/td>\n",
       "      <td>GasA<\/td>\n",
       "      <td>Ex<\/td>\n",
       "      <td>Y<\/td>\n",
       "      <td>SBrkr<\/td>\n",
       "      <td>2411<\/td>\n",
       "      <td>2065<\/td>\n",
       "      <td>0<\/td>\n",
       "      <td>4476<\/td>\n",
       "      <td>1.0<\/td>\n",
       "      <td>0.0<\/td>\n",
       "      <td>3<\/td>\n",
       "      <td>1<\/td>\n",
       "      <td>4<\/td>\n",
       "      <td>1<\/td>\n",
       "      <td>Ex<\/td>\n",
       "      <td>10<\/td>\n",
       "      <td>Typ<\/td>\n",
       "      <td>2<\/td>\n",
       "      <td>TA<\/td>\n",
       "      <td>Attchd<\/td>\n",
       "      <td>1996.0<\/td>\n",
       "      <td>Fin<\/td>\n",
       "      <td>3.0<\/td>\n",
       "      <td>813.0<\/td>\n",
       "      <td>TA<\/td>\n",
       "      <td>TA<\/td>\n",
       "      <td>Y<\/td>\n",
       "      <td>171<\/td>\n",
       "      <td>78<\/td>\n",
       "      <td>0<\/td>\n",
       "      <td>0<\/td>\n",
       "      <td>0<\/td>\n",
       "      <td>555<\/td>\n",
       "      <td>Ex<\/td>\n",
       "      <td>MnPrv<\/td>\n",
       "      <td>NaN<\/td>\n",
       "      <td>0<\/td>\n",
       "      <td>7<\/td>\n",
       "      <td>2007<\/td>\n",
       "      <td>WD<\/td>\n",
       "      <td>Abnorml<\/td>\n",
       "      <td>745000.0<\/td>\n",
       "    <\/tr>\n",
       "    <tr>\n",
       "      <th>1169<\/th>\n",
       "      <td>1170<\/td>\n",
       "      <td>60<\/td>\n",
       "      <td>RL<\/td>\n",
       "      <td>118.0<\/td>\n",
       "      <td>35760<\/td>\n",
       "      <td>Pave<\/td>\n",
       "      <td>NaN<\/td>\n",
       "      <td>IR1<\/td>\n",
       "      <td>Lvl<\/td>\n",
       "      <td>AllPub<\/td>\n",
       "      <td>CulDSac<\/td>\n",
       "      <td>Gtl<\/td>\n",
       "      <td>NoRidge<\/td>\n",
       "      <td>Norm<\/td>\n",
       "      <td>Norm<\/td>\n",
       "      <td>1Fam<\/td>\n",
       "      <td>2Story<\/td>\n",
       "      <td>10<\/td>\n",
       "      <td>5<\/td>\n",
       "      <td>1995<\/td>\n",
       "      <td>1996<\/td>\n",
       "      <td>Hip<\/td>\n",
       "      <td>CompShg<\/td>\n",
       "      <td>HdBoard<\/td>\n",
       "      <td>HdBoard<\/td>\n",
       "      <td>BrkFace<\/td>\n",
       "      <td>1378.0<\/td>\n",
       "      <td>Gd<\/td>\n",
       "      <td>Gd<\/td>\n",
       "      <td>PConc<\/td>\n",
       "      <td>Ex<\/td>\n",
       "      <td>TA<\/td>\n",
       "      <td>Gd<\/td>\n",
       "      <td>GLQ<\/td>\n",
       "      <td>1387.0<\/td>\n",
       "      <td>Unf<\/td>\n",
       "      <td>0.0<\/td>\n",
       "      <td>543.0<\/td>\n",
       "      <td>1930.0<\/td>\n",
       "      <td>GasA<\/td>\n",
       "      <td>Ex<\/td>\n",
       "      <td>Y<\/td>\n",
       "      <td>SBrkr<\/td>\n",
       "      <td>1831<\/td>\n",
       "      <td>1796<\/td>\n",
       "      <td>0<\/td>\n",
       "      <td>3627<\/td>\n",
       "      <td>1.0<\/td>\n",
       "      <td>0.0<\/td>\n",
       "      <td>3<\/td>\n",
       "      <td>1<\/td>\n",
       "      <td>4<\/td>\n",
       "      <td>1<\/td>\n",
       "      <td>Gd<\/td>\n",
       "      <td>10<\/td>\n",
       "      <td>Typ<\/td>\n",
       "      <td>1<\/td>\n",
       "      <td>TA<\/td>\n",
       "      <td>Attchd<\/td>\n",
       "      <td>1995.0<\/td>\n",
       "      <td>Fin<\/td>\n",
       "      <td>3.0<\/td>\n",
       "      <td>807.0<\/td>\n",
       "      <td>TA<\/td>\n",
       "      <td>TA<\/td>\n",
       "      <td>Y<\/td>\n",
       "      <td>361<\/td>\n",
       "      <td>76<\/td>\n",
       "      <td>0<\/td>\n",
       "      <td>0<\/td>\n",
       "      <td>0<\/td>\n",
       "      <td>0<\/td>\n",
       "      <td>NaN<\/td>\n",
       "      <td>NaN<\/td>\n",
       "      <td>NaN<\/td>\n",
       "      <td>0<\/td>\n",
       "      <td>7<\/td>\n",
       "      <td>2006<\/td>\n",
       "      <td>WD<\/td>\n",
       "      <td>Normal<\/td>\n",
       "      <td>625000.0<\/td>\n",
       "    <\/tr>\n",
       "    <tr>\n",
       "      <th>898<\/th>\n",
       "      <td>899<\/td>\n",
       "      <td>20<\/td>\n",
       "      <td>RL<\/td>\n",
       "      <td>100.0<\/td>\n",
       "      <td>12919<\/td>\n",
       "      <td>Pave<\/td>\n",
       "      <td>NaN<\/td>\n",
       "      <td>IR1<\/td>\n",
       "      <td>Lvl<\/td>\n",
       "      <td>AllPub<\/td>\n",
       "      <td>Inside<\/td>\n",
       "      <td>Gtl<\/td>\n",
       "      <td>NridgHt<\/td>\n",
       "      <td>Norm<\/td>\n",
       "      <td>Norm<\/td>\n",
       "      <td>1Fam<\/td>\n",
       "      <td>1Story<\/td>\n",
       "      <td>9<\/td>\n",
       "      <td>5<\/td>\n",
       "      <td>2009<\/td>\n",
       "      <td>2010<\/td>\n",
       "      <td>Hip<\/td>\n",
       "      <td>CompShg<\/td>\n",
       "      <td>VinylSd<\/td>\n",
       "      <td>VinylSd<\/td>\n",
       "      <td>Stone<\/td>\n",
       "      <td>760.0<\/td>\n",
       "      <td>Ex<\/td>\n",
       "      <td>TA<\/td>\n",
       "      <td>PConc<\/td>\n",
       "      <td>Ex<\/td>\n",
       "      <td>TA<\/td>\n",
       "      <td>Gd<\/td>\n",
       "      <td>GLQ<\/td>\n",
       "      <td>2188.0<\/td>\n",
       "      <td>Unf<\/td>\n",
       "      <td>0.0<\/td>\n",
       "      <td>142.0<\/td>\n",
       "      <td>2330.0<\/td>\n",
       "      <td>GasA<\/td>\n",
       "      <td>Ex<\/td>\n",
       "      <td>Y<\/td>\n",
       "      <td>SBrkr<\/td>\n",
       "      <td>2364<\/td>\n",
       "      <td>0<\/td>\n",
       "      <td>0<\/td>\n",
       "      <td>2364<\/td>\n",
       "      <td>1.0<\/td>\n",
       "      <td>0.0<\/td>\n",
       "      <td>2<\/td>\n",
       "      <td>1<\/td>\n",
       "      <td>2<\/td>\n",
       "      <td>1<\/td>\n",
       "      <td>Ex<\/td>\n",
       "      <td>11<\/td>\n",
       "      <td>Typ<\/td>\n",
       "      <td>2<\/td>\n",
       "      <td>Gd<\/td>\n",
       "      <td>Attchd<\/td>\n",
       "      <td>2009.0<\/td>\n",
       "      <td>Fin<\/td>\n",
       "      <td>3.0<\/td>\n",
       "      <td>820.0<\/td>\n",
       "      <td>TA<\/td>\n",
       "      <td>TA<\/td>\n",
       "      <td>Y<\/td>\n",
       "      <td>0<\/td>\n",
       "      <td>67<\/td>\n",
       "      <td>0<\/td>\n",
       "      <td>0<\/td>\n",
       "      <td>0<\/td>\n",
       "      <td>0<\/td>\n",
       "      <td>NaN<\/td>\n",
       "      <td>NaN<\/td>\n",
       "      <td>NaN<\/td>\n",
       "      <td>0<\/td>\n",
       "      <td>3<\/td>\n",
       "      <td>2010<\/td>\n",
       "      <td>New<\/td>\n",
       "      <td>Partial<\/td>\n",
       "      <td>611657.0<\/td>\n",
       "    <\/tr>\n",
       "    <tr>\n",
       "      <th>803<\/th>\n",
       "      <td>804<\/td>\n",
       "      <td>60<\/td>\n",
       "      <td>RL<\/td>\n",
       "      <td>107.0<\/td>\n",
       "      <td>13891<\/td>\n",
       "      <td>Pave<\/td>\n",
       "      <td>NaN<\/td>\n",
       "      <td>Reg<\/td>\n",
       "      <td>Lvl<\/td>\n",
       "      <td>AllPub<\/td>\n",
       "      <td>Inside<\/td>\n",
       "      <td>Gtl<\/td>\n",
       "      <td>NridgHt<\/td>\n",
       "      <td>Norm<\/td>\n",
       "      <td>Norm<\/td>\n",
       "      <td>1Fam<\/td>\n",
       "      <td>2Story<\/td>\n",
       "      <td>9<\/td>\n",
       "      <td>5<\/td>\n",
       "      <td>2008<\/td>\n",
       "      <td>2009<\/td>\n",
       "      <td>Hip<\/td>\n",
       "      <td>CompShg<\/td>\n",
       "      <td>VinylSd<\/td>\n",
       "      <td>VinylSd<\/td>\n",
       "      <td>Stone<\/td>\n",
       "      <td>424.0<\/td>\n",
       "      <td>Ex<\/td>\n",
       "      <td>TA<\/td>\n",
       "      <td>PConc<\/td>\n",
       "      <td>Ex<\/td>\n",
       "      <td>TA<\/td>\n",
       "      <td>Gd<\/td>\n",
       "      <td>Unf<\/td>\n",
       "      <td>0.0<\/td>\n",
       "      <td>Unf<\/td>\n",
       "      <td>0.0<\/td>\n",
       "      <td>1734.0<\/td>\n",
       "      <td>1734.0<\/td>\n",
       "      <td>GasA<\/td>\n",
       "      <td>Ex<\/td>\n",
       "      <td>Y<\/td>\n",
       "      <td>SBrkr<\/td>\n",
       "      <td>1734<\/td>\n",
       "      <td>1088<\/td>\n",
       "      <td>0<\/td>\n",
       "      <td>2822<\/td>\n",
       "      <td>0.0<\/td>\n",
       "      <td>0.0<\/td>\n",
       "      <td>3<\/td>\n",
       "      <td>1<\/td>\n",
       "      <td>4<\/td>\n",
       "      <td>1<\/td>\n",
       "      <td>Ex<\/td>\n",
       "      <td>12<\/td>\n",
       "      <td>Typ<\/td>\n",
       "      <td>1<\/td>\n",
       "      <td>Gd<\/td>\n",
       "      <td>BuiltIn<\/td>\n",
       "      <td>2009.0<\/td>\n",
       "      <td>RFn<\/td>\n",
       "      <td>3.0<\/td>\n",
       "      <td>1020.0<\/td>\n",
       "      <td>TA<\/td>\n",
       "      <td>TA<\/td>\n",
       "      <td>Y<\/td>\n",
       "      <td>52<\/td>\n",
       "      <td>170<\/td>\n",
       "      <td>0<\/td>\n",
       "      <td>0<\/td>\n",
       "      <td>192<\/td>\n",
       "      <td>0<\/td>\n",
       "      <td>NaN<\/td>\n",
       "      <td>NaN<\/td>\n",
       "      <td>NaN<\/td>\n",
       "      <td>0<\/td>\n",
       "      <td>1<\/td>\n",
       "      <td>2009<\/td>\n",
       "      <td>New<\/td>\n",
       "      <td>Partial<\/td>\n",
       "      <td>582933.0<\/td>\n",
       "    <\/tr>\n",
       "  <\/tbody>\n",
       "<\/table>\n",
       "<\/div>"
      ]
     },
     "metadata":{
      
     },
     "output_type":"display_data"
    }
   ],
   "metadata":{
    "datalore":{
     "node_id":"YKrlvXvi8GIqwyiT9snnbd",
     "type":"CODE",
     "hide_input_from_viewers":true,
     "hide_output_from_viewers":true
    }
   }
  },
  {
   "cell_type":"markdown",
   "source":[
    "## Exploratory Data Analysis and data cleaning"
   ],
   "attachments":{
    
   },
   "metadata":{
    "datalore":{
     "node_id":"xdxopQrBCoGHjlRAVsovJI",
     "type":"MD",
     "hide_input_from_viewers":true,
     "hide_output_from_viewers":true
    }
   }
  },
  {
   "cell_type":"code",
   "source":[
    "# Checking and displaying empty values\n",
    "empty_values = combined_df.isnull().sum()\n",
    "\n",
    "print(\"Columns with empty values:\")\n",
    "print(empty_values[empty_values > 0])"
   ],
   "execution_count":3,
   "outputs":[
    {
     "name":"stdout",
     "text":[
      "Columns with empty values:\n",
      "MSZoning           4\n",
      "LotFrontage      486\n",
      "Alley           2721\n",
      "Utilities          2\n",
      "Exterior1st        1\n",
      "Exterior2nd        1\n",
      "MasVnrType        24\n",
      "MasVnrArea        23\n",
      "BsmtQual          81\n",
      "BsmtCond          82\n",
      "BsmtExposure      82\n",
      "BsmtFinType1      79\n",
      "BsmtFinSF1         1\n",
      "BsmtFinType2      80\n",
      "BsmtFinSF2         1\n",
      "BsmtUnfSF          1\n",
      "TotalBsmtSF        1\n",
      "Electrical         1\n",
      "BsmtFullBath       2\n",
      "BsmtHalfBath       2\n",
      "KitchenQual        1\n",
      "Functional         2\n",
      "FireplaceQu     1420\n",
      "GarageType       157\n",
      "GarageYrBlt      159\n",
      "GarageFinish     159\n",
      "GarageCars         1\n",
      "GarageArea         1\n",
      "GarageQual       159\n",
      "GarageCond       159\n",
      "PoolQC          2909\n",
      "Fence           2348\n",
      "MiscFeature     2814\n",
      "SaleType           1\n",
      "SalePrice       1459\n",
      "dtype: int64\n"
     ],
     "output_type":"stream"
    }
   ],
   "metadata":{
    "datalore":{
     "node_id":"Uj6aomcZWxdulC7Pp1ZVid",
     "type":"CODE",
     "hide_input_from_viewers":true,
     "hide_output_from_viewers":true
    }
   }
  },
  {
   "cell_type":"markdown",
   "source":[
    "#### I decided to filter out columns with high missing values and 0 values which do not fit the dataset. Combined_df consists of duplicate data and data with high correlation (over standardized correlation) and was not useful. Therefore, after looking at all the data and reading different sources, I've decided that columns with 90% NAN values would be deleted along with columns where there is a correlation greater than or equal to 92%"
   ],
   "attachments":{
    
   },
   "metadata":{
    "datalore":{
     "node_id":"sh9kRRtjmBG02U43v9g0KG",
     "type":"MD",
     "hide_input_from_viewers":true,
     "hide_output_from_viewers":true
    }
   }
  },
  {
   "cell_type":"code",
   "source":[
    "import pandas as pd\n",
    "\n",
    "# percentage of missing values for each column\n",
    "missing_percentages = (combined_df.isnull().sum() \/ len(combined_df)) * 100\n",
    "\n",
    "# columns with more than 90% missing values\n",
    "columns_with_high_missing_values = missing_percentages[missing_percentages > 90].index\n",
    "\n",
    "print(\"Columns with more than 90% missing values:\")\n",
    "for column in columns_with_high_missing_values:\n",
    "    print(column)"
   ],
   "execution_count":4,
   "outputs":[
    {
     "name":"stdout",
     "text":[
      "Columns with more than 90% missing values:\n",
      "Alley\n",
      "PoolQC\n",
      "MiscFeature\n"
     ],
     "output_type":"stream"
    }
   ],
   "metadata":{
    "datalore":{
     "node_id":"CDgZFvVeKae0nAGwIXvkpf",
     "type":"CODE",
     "hide_input_from_viewers":true,
     "hide_output_from_viewers":true
    }
   }
  },
  {
   "cell_type":"code",
   "source":[
    "import pandas as pd\n",
    "\n",
    "# columns with more than 90% missing values\n",
    "threshold = 0.9\n",
    "columns_to_drop_threshold = combined_df.columns[combined_df.isnull().mean() >= threshold]\n",
    "\n",
    "print(\"Columns with more than 90% missing values:\")\n",
    "print(columns_to_drop_threshold)\n",
    "\n",
    "# Drop columns with more than 90% missing values\n",
    "combined_df = combined_df.loc[:, combined_df.isnull().mean() < threshold]\n",
    "\n",
    "\n",
    "# correlation\n",
    "unique_threshold = 0.08  # 92% of the datapoints in the column are the same\n",
    "columns_to_drop_unique = combined_df.columns[combined_df.nunique() \/ len(combined_df) < unique_threshold]\n",
    "\n",
    "print(\"Columns with a high amount of the same value:\")\n",
    "print(columns_to_drop_unique)\n",
    "\n",
    "# Drop columns with 92% of the same value\n",
    "combined_df = combined_df.loc[:, combined_df.nunique() \/ len(combined_df) >= unique_threshold]\n",
    "combined_df.head(5)"
   ],
   "execution_count":39,
   "outputs":[
    {
     "name":"stdout",
     "text":[
      "Columns with more than 90% missing values:\n",
      "Index(['Alley', 'PoolQC', 'MiscFeature'], dtype='object')\n",
      "Columns with a high amount of the same value:\n",
      "Index(['MSSubClass', 'MSZoning', 'LotFrontage', 'Street', 'LotShape',\n",
      "       'LandContour', 'Utilities', 'LotConfig', 'LandSlope', 'Neighborhood',\n",
      "       'Condition1', 'Condition2', 'BldgType', 'HouseStyle', 'OverallQual',\n",
      "       'OverallCond', 'YearBuilt', 'YearRemodAdd', 'RoofStyle', 'RoofMatl',\n",
      "       'Exterior1st', 'Exterior2nd', 'MasVnrType', 'ExterQual', 'ExterCond',\n",
      "       'Foundation', 'BsmtQual', 'BsmtCond', 'BsmtExposure', 'BsmtFinType1',\n",
      "       'BsmtFinType2', 'Heating', 'HeatingQC', 'CentralAir', 'Electrical',\n",
      "       'LowQualFinSF', 'BsmtFullBath', 'BsmtHalfBath', 'FullBath', 'HalfBath',\n",
      "       'BedroomAbvGr', 'KitchenAbvGr', 'KitchenQual', 'TotRmsAbvGrd',\n",
      "       'Functional', 'Fireplaces', 'FireplaceQu', 'GarageType', 'GarageYrBlt',\n",
      "       'GarageFinish', 'GarageCars', 'GarageQual', 'GarageCond', 'PavedDrive',\n",
      "       'EnclosedPorch', '3SsnPorch', 'ScreenPorch', 'PoolArea', 'Fence',\n",
      "       'MiscVal', 'MoSold', 'YrSold', 'SaleType', 'SaleCondition'],\n",
      "      dtype='object')\n"
     ],
     "output_type":"stream"
    },
    {
     "data":{
      "text\/html":[
       "<div>\n",
       "<style scoped>\n",
       "    .dataframe tbody tr th:only-of-type {\n",
       "        vertical-align: middle;\n",
       "    }\n",
       "\n",
       "    .dataframe tbody tr th {\n",
       "        vertical-align: top;\n",
       "    }\n",
       "\n",
       "    .dataframe thead th {\n",
       "        text-align: right;\n",
       "    }\n",
       "<\/style>\n",
       "<table border=\"1\" class=\"dataframe\">\n",
       "  <thead>\n",
       "    <tr style=\"text-align: right;\">\n",
       "      <th><\/th>\n",
       "      <th>Id<\/th>\n",
       "      <th>LotArea<\/th>\n",
       "      <th>MasVnrArea<\/th>\n",
       "      <th>BsmtFinSF1<\/th>\n",
       "      <th>BsmtFinSF2<\/th>\n",
       "      <th>BsmtUnfSF<\/th>\n",
       "      <th>TotalBsmtSF<\/th>\n",
       "      <th>1stFlrSF<\/th>\n",
       "      <th>2ndFlrSF<\/th>\n",
       "      <th>GrLivArea<\/th>\n",
       "      <th>GarageArea<\/th>\n",
       "      <th>WoodDeckSF<\/th>\n",
       "      <th>OpenPorchSF<\/th>\n",
       "      <th>SalePrice<\/th>\n",
       "    <\/tr>\n",
       "  <\/thead>\n",
       "  <tbody>\n",
       "    <tr>\n",
       "      <th>0<\/th>\n",
       "      <td>1<\/td>\n",
       "      <td>8450<\/td>\n",
       "      <td>196.0<\/td>\n",
       "      <td>706.0<\/td>\n",
       "      <td>0.0<\/td>\n",
       "      <td>150.0<\/td>\n",
       "      <td>856.0<\/td>\n",
       "      <td>856<\/td>\n",
       "      <td>854<\/td>\n",
       "      <td>1710<\/td>\n",
       "      <td>548.0<\/td>\n",
       "      <td>0<\/td>\n",
       "      <td>61<\/td>\n",
       "      <td>208500.0<\/td>\n",
       "    <\/tr>\n",
       "    <tr>\n",
       "      <th>1<\/th>\n",
       "      <td>2<\/td>\n",
       "      <td>9600<\/td>\n",
       "      <td>0.0<\/td>\n",
       "      <td>978.0<\/td>\n",
       "      <td>0.0<\/td>\n",
       "      <td>284.0<\/td>\n",
       "      <td>1262.0<\/td>\n",
       "      <td>1262<\/td>\n",
       "      <td>0<\/td>\n",
       "      <td>1262<\/td>\n",
       "      <td>460.0<\/td>\n",
       "      <td>298<\/td>\n",
       "      <td>0<\/td>\n",
       "      <td>181500.0<\/td>\n",
       "    <\/tr>\n",
       "    <tr>\n",
       "      <th>2<\/th>\n",
       "      <td>3<\/td>\n",
       "      <td>11250<\/td>\n",
       "      <td>162.0<\/td>\n",
       "      <td>486.0<\/td>\n",
       "      <td>0.0<\/td>\n",
       "      <td>434.0<\/td>\n",
       "      <td>920.0<\/td>\n",
       "      <td>920<\/td>\n",
       "      <td>866<\/td>\n",
       "      <td>1786<\/td>\n",
       "      <td>608.0<\/td>\n",
       "      <td>0<\/td>\n",
       "      <td>42<\/td>\n",
       "      <td>223500.0<\/td>\n",
       "    <\/tr>\n",
       "    <tr>\n",
       "      <th>3<\/th>\n",
       "      <td>4<\/td>\n",
       "      <td>9550<\/td>\n",
       "      <td>0.0<\/td>\n",
       "      <td>216.0<\/td>\n",
       "      <td>0.0<\/td>\n",
       "      <td>540.0<\/td>\n",
       "      <td>756.0<\/td>\n",
       "      <td>961<\/td>\n",
       "      <td>756<\/td>\n",
       "      <td>1717<\/td>\n",
       "      <td>642.0<\/td>\n",
       "      <td>0<\/td>\n",
       "      <td>35<\/td>\n",
       "      <td>140000.0<\/td>\n",
       "    <\/tr>\n",
       "    <tr>\n",
       "      <th>4<\/th>\n",
       "      <td>5<\/td>\n",
       "      <td>14260<\/td>\n",
       "      <td>350.0<\/td>\n",
       "      <td>655.0<\/td>\n",
       "      <td>0.0<\/td>\n",
       "      <td>490.0<\/td>\n",
       "      <td>1145.0<\/td>\n",
       "      <td>1145<\/td>\n",
       "      <td>1053<\/td>\n",
       "      <td>2198<\/td>\n",
       "      <td>836.0<\/td>\n",
       "      <td>192<\/td>\n",
       "      <td>84<\/td>\n",
       "      <td>250000.0<\/td>\n",
       "    <\/tr>\n",
       "  <\/tbody>\n",
       "<\/table>\n",
       "<\/div>"
      ]
     },
     "metadata":{
      
     },
     "output_type":"display_data"
    }
   ],
   "metadata":{
    "datalore":{
     "node_id":"rVXxYYUCfSMMbRTB5P1miQ",
     "type":"CODE",
     "hide_input_from_viewers":true,
     "hide_output_from_viewers":true
    }
   }
  },
  {
   "cell_type":"markdown",
   "source":[
    "#### Prediction column is 'SalePrice'. Diving deeper into this columns data"
   ],
   "attachments":{
    
   },
   "metadata":{
    "datalore":{
     "node_id":"d36tYwbcz7nC8ZTEwfvAn4",
     "type":"MD",
     "hide_input_from_viewers":true,
     "hide_output_from_viewers":true
    }
   }
  },
  {
   "cell_type":"code",
   "source":[
    "combined_df['SalePrice'].describe()"
   ],
   "execution_count":6,
   "outputs":[
    {
     "data":{
      "text\/html":[
       "<pre>count      1460.000000\n",
       "mean     180921.195890\n",
       "std       79442.502883\n",
       "min       34900.000000\n",
       "25%      129975.000000\n",
       "50%      163000.000000\n",
       "75%      214000.000000\n",
       "max      755000.000000\n",
       "Name: SalePrice, dtype: float64<\/pre>"
      ]
     },
     "metadata":{
      
     },
     "output_type":"display_data"
    }
   ],
   "metadata":{
    "datalore":{
     "node_id":"htGZfScXa7VpbNRxbsu2HH",
     "type":"CODE",
     "hide_input_from_viewers":true,
     "hide_output_from_viewers":true
    }
   }
  },
  {
   "cell_type":"markdown",
   "source":[
    "# Visualizations"
   ],
   "attachments":{
    
   },
   "metadata":{
    "datalore":{
     "node_id":"jXwBkfBHrnAcJvhFNkxOyw",
     "type":"MD",
     "hide_input_from_viewers":true,
     "hide_output_from_viewers":true
    }
   }
  },
  {
   "cell_type":"code",
   "source":[
    "combined_df.describe()"
   ],
   "execution_count":7,
   "outputs":[
    {
     "data":{
      "text\/html":[
       "<div>\n",
       "<style scoped>\n",
       "    .dataframe tbody tr th:only-of-type {\n",
       "        vertical-align: middle;\n",
       "    }\n",
       "\n",
       "    .dataframe tbody tr th {\n",
       "        vertical-align: top;\n",
       "    }\n",
       "\n",
       "    .dataframe thead th {\n",
       "        text-align: right;\n",
       "    }\n",
       "<\/style>\n",
       "<table border=\"1\" class=\"dataframe\">\n",
       "  <thead>\n",
       "    <tr style=\"text-align: right;\">\n",
       "      <th><\/th>\n",
       "      <th>Id<\/th>\n",
       "      <th>LotArea<\/th>\n",
       "      <th>MasVnrArea<\/th>\n",
       "      <th>BsmtFinSF1<\/th>\n",
       "      <th>BsmtFinSF2<\/th>\n",
       "      <th>BsmtUnfSF<\/th>\n",
       "      <th>TotalBsmtSF<\/th>\n",
       "      <th>1stFlrSF<\/th>\n",
       "      <th>2ndFlrSF<\/th>\n",
       "      <th>GrLivArea<\/th>\n",
       "      <th>GarageArea<\/th>\n",
       "      <th>WoodDeckSF<\/th>\n",
       "      <th>OpenPorchSF<\/th>\n",
       "      <th>SalePrice<\/th>\n",
       "    <\/tr>\n",
       "  <\/thead>\n",
       "  <tbody>\n",
       "    <tr>\n",
       "      <th>count<\/th>\n",
       "      <td>2919.000000<\/td>\n",
       "      <td>2919.000000<\/td>\n",
       "      <td>2896.000000<\/td>\n",
       "      <td>2918.000000<\/td>\n",
       "      <td>2918.000000<\/td>\n",
       "      <td>2918.000000<\/td>\n",
       "      <td>2918.000000<\/td>\n",
       "      <td>2919.000000<\/td>\n",
       "      <td>2919.000000<\/td>\n",
       "      <td>2919.000000<\/td>\n",
       "      <td>2918.000000<\/td>\n",
       "      <td>2919.000000<\/td>\n",
       "      <td>2919.000000<\/td>\n",
       "      <td>1460.000000<\/td>\n",
       "    <\/tr>\n",
       "    <tr>\n",
       "      <th>mean<\/th>\n",
       "      <td>1460.000000<\/td>\n",
       "      <td>10168.114080<\/td>\n",
       "      <td>102.201312<\/td>\n",
       "      <td>441.423235<\/td>\n",
       "      <td>49.582248<\/td>\n",
       "      <td>560.772104<\/td>\n",
       "      <td>1051.777587<\/td>\n",
       "      <td>1159.581706<\/td>\n",
       "      <td>336.483727<\/td>\n",
       "      <td>1500.759849<\/td>\n",
       "      <td>472.874572<\/td>\n",
       "      <td>93.709832<\/td>\n",
       "      <td>47.486811<\/td>\n",
       "      <td>180921.195890<\/td>\n",
       "    <\/tr>\n",
       "    <tr>\n",
       "      <th>std<\/th>\n",
       "      <td>842.787043<\/td>\n",
       "      <td>7886.996359<\/td>\n",
       "      <td>179.334253<\/td>\n",
       "      <td>455.610826<\/td>\n",
       "      <td>169.205611<\/td>\n",
       "      <td>439.543659<\/td>\n",
       "      <td>440.766258<\/td>\n",
       "      <td>392.362079<\/td>\n",
       "      <td>428.701456<\/td>\n",
       "      <td>506.051045<\/td>\n",
       "      <td>215.394815<\/td>\n",
       "      <td>126.526589<\/td>\n",
       "      <td>67.575493<\/td>\n",
       "      <td>79442.502883<\/td>\n",
       "    <\/tr>\n",
       "    <tr>\n",
       "      <th>min<\/th>\n",
       "      <td>1.000000<\/td>\n",
       "      <td>1300.000000<\/td>\n",
       "      <td>0.000000<\/td>\n",
       "      <td>0.000000<\/td>\n",
       "      <td>0.000000<\/td>\n",
       "      <td>0.000000<\/td>\n",
       "      <td>0.000000<\/td>\n",
       "      <td>334.000000<\/td>\n",
       "      <td>0.000000<\/td>\n",
       "      <td>334.000000<\/td>\n",
       "      <td>0.000000<\/td>\n",
       "      <td>0.000000<\/td>\n",
       "      <td>0.000000<\/td>\n",
       "      <td>34900.000000<\/td>\n",
       "    <\/tr>\n",
       "    <tr>\n",
       "      <th>25%<\/th>\n",
       "      <td>730.500000<\/td>\n",
       "      <td>7478.000000<\/td>\n",
       "      <td>0.000000<\/td>\n",
       "      <td>0.000000<\/td>\n",
       "      <td>0.000000<\/td>\n",
       "      <td>220.000000<\/td>\n",
       "      <td>793.000000<\/td>\n",
       "      <td>876.000000<\/td>\n",
       "      <td>0.000000<\/td>\n",
       "      <td>1126.000000<\/td>\n",
       "      <td>320.000000<\/td>\n",
       "      <td>0.000000<\/td>\n",
       "      <td>0.000000<\/td>\n",
       "      <td>129975.000000<\/td>\n",
       "    <\/tr>\n",
       "    <tr>\n",
       "      <th>50%<\/th>\n",
       "      <td>1460.000000<\/td>\n",
       "      <td>9453.000000<\/td>\n",
       "      <td>0.000000<\/td>\n",
       "      <td>368.500000<\/td>\n",
       "      <td>0.000000<\/td>\n",
       "      <td>467.000000<\/td>\n",
       "      <td>989.500000<\/td>\n",
       "      <td>1082.000000<\/td>\n",
       "      <td>0.000000<\/td>\n",
       "      <td>1444.000000<\/td>\n",
       "      <td>480.000000<\/td>\n",
       "      <td>0.000000<\/td>\n",
       "      <td>26.000000<\/td>\n",
       "      <td>163000.000000<\/td>\n",
       "    <\/tr>\n",
       "    <tr>\n",
       "      <th>75%<\/th>\n",
       "      <td>2189.500000<\/td>\n",
       "      <td>11570.000000<\/td>\n",
       "      <td>164.000000<\/td>\n",
       "      <td>733.000000<\/td>\n",
       "      <td>0.000000<\/td>\n",
       "      <td>805.500000<\/td>\n",
       "      <td>1302.000000<\/td>\n",
       "      <td>1387.500000<\/td>\n",
       "      <td>704.000000<\/td>\n",
       "      <td>1743.500000<\/td>\n",
       "      <td>576.000000<\/td>\n",
       "      <td>168.000000<\/td>\n",
       "      <td>70.000000<\/td>\n",
       "      <td>214000.000000<\/td>\n",
       "    <\/tr>\n",
       "    <tr>\n",
       "      <th>max<\/th>\n",
       "      <td>2919.000000<\/td>\n",
       "      <td>215245.000000<\/td>\n",
       "      <td>1600.000000<\/td>\n",
       "      <td>5644.000000<\/td>\n",
       "      <td>1526.000000<\/td>\n",
       "      <td>2336.000000<\/td>\n",
       "      <td>6110.000000<\/td>\n",
       "      <td>5095.000000<\/td>\n",
       "      <td>2065.000000<\/td>\n",
       "      <td>5642.000000<\/td>\n",
       "      <td>1488.000000<\/td>\n",
       "      <td>1424.000000<\/td>\n",
       "      <td>742.000000<\/td>\n",
       "      <td>755000.000000<\/td>\n",
       "    <\/tr>\n",
       "  <\/tbody>\n",
       "<\/table>\n",
       "<\/div>"
      ]
     },
     "metadata":{
      
     },
     "output_type":"display_data"
    }
   ],
   "metadata":{
    "datalore":{
     "node_id":"4fnnBhXWZxpPeDF5pQdHtM",
     "type":"CODE",
     "hide_input_from_viewers":true,
     "hide_output_from_viewers":true
    }
   }
  },
  {
   "cell_type":"code",
   "source":[
    "import seaborn as sns\n",
    "\n",
    "sns.distplot(combined_df['SalePrice'])"
   ],
   "execution_count":8,
   "outputs":[
    {
     "name":"stderr",
     "text":[
      "<ipython-input-8-d3ebcf3e6407>:3: UserWarning: \n",
      "\n",
      "`distplot` is a deprecated function and will be removed in seaborn v0.14.0.\n",
      "\n",
      "Please adapt your code to use either `displot` (a figure-level function with\n",
      "similar flexibility) or `histplot` (an axes-level function for histograms).\n",
      "\n",
      "For a guide to updating your code to use the new functions, please see\n",
      "https:\/\/gist.github.com\/mwaskom\/de44147ed2974457ad6372750bbe5751\n",
      "\n",
      "  sns.distplot(combined_df['SalePrice'])\n"
     ],
     "output_type":"stream"
    },
    {
     "data":{
      "text\/plain":[
       "<Axes: xlabel='SalePrice', ylabel='Density'>"
      ]
     },
     "metadata":{
      
     },
     "output_type":"display_data"
    },
    {
     "data":{
      "image\/png":"[encoded data removed]"
     },
     "metadata":{
      "image\/png":{
       
      }
     },
     "output_type":"display_data"
    }
   ],
   "metadata":{
    "datalore":{
     "node_id":"fF9DsEqosXmzBuc3Hd8l0L",
     "type":"CODE",
     "hide_input_from_viewers":true,
     "hide_output_from_viewers":true
    }
   }
  },
  {
   "cell_type":"code",
   "source":[
    "# noticed that the data is skewed slightly right, peaking at around 160000, 68 percentile sits between ~ 150,000 - 250000\n",
    "combined_df['SalePrice'].skew()"
   ],
   "execution_count":9,
   "outputs":[
    {
     "data":{
      "text\/plain":[
       "1.8828757597682129"
      ]
     },
     "metadata":{
      
     },
     "output_type":"display_data"
    }
   ],
   "metadata":{
    "datalore":{
     "node_id":"H33mZsIdSNHZwBIOxEQzW8",
     "type":"CODE",
     "hide_input_from_viewers":true,
     "hide_output_from_viewers":true
    }
   }
  },
  {
   "cell_type":"code",
   "source":[
    "import matplotlib.pyplot as plt\n",
    "import seaborn as sns\n",
    "import numpy as np\n",
    "\n",
    "numerical_cols = combined_df.select_dtypes(include=[np.number]).columns.tolist()\n",
    "for col in numerical_cols:\n",
    "    sns.boxplot(x=combined_df[col])\n",
    "    plt.title(f'Boxplot of {col}')\n",
    "    plt.show()\n",
    "\n",
    "\n",
    "correlation_matrix = combined_df.corr()\n",
    "plt.figure(figsize=(15, 10))\n",
    "sns.heatmap(correlation_matrix, vmax=0.8, square=True)\n",
    "plt.title('Correlation matrix of numerical variables')\n",
    "\n",
    "# columns that correlate with 'SalePrice' by more than 0.5\n",
    "high_corr_cols = correlation_matrix.index[abs(correlation_matrix[\"SalePrice\"]) > 0.5]\n",
    "print(\"Columns that correlate with 'SalePrice' by more than 0.5:\")\n",
    "print(high_corr_cols)"
   ],
   "execution_count":12,
   "outputs":[
    {
     "name":"stdout",
     "text":[
      "Columns that correlate with 'SalePrice' by more than 0.5:\n",
      "Index(['TotalBsmtSF', '1stFlrSF', 'GrLivArea', 'GarageArea', 'SalePrice'], dtype='object')\n"
     ],
     "output_type":"stream"
    },
    {
     "data":{
      "image\/png":"[encoded data removed]"
     },
     "metadata":{
      "image\/png":{
       
      }
     },
     "output_type":"display_data"
    },
    {
     "data":{
      "image\/png":"[encoded data removed]"
     },
     "metadata":{
      "image\/png":{
       
      }
     },
     "output_type":"display_data"
    },
    {
     "data":{
      "image\/png":"[encoded data removed]"
     },
     "metadata":{
      "image\/png":{
       
      }
     },
     "output_type":"display_data"
    },
    {
     "data":{
      "image\/png":"[encoded data removed]"
     },
     "metadata":{
      "image\/png":{
       
      }
     },
     "output_type":"display_data"
    },
    {
     "data":{
      "image\/png":"[encoded data removed]"
     },
     "metadata":{
      "image\/png":{
       
      }
     },
     "output_type":"display_data"
    },
    {
     "data":{
      "image\/png":"[encoded data removed]"
     },
     "metadata":{
      "image\/png":{
       
      }
     },
     "output_type":"display_data"
    },
    {
     "data":{
      "image\/png":"[encoded data removed]"
     },
     "metadata":{
      "image\/png":{
       
      }
     },
     "output_type":"display_data"
    },
    {
     "data":{
      "image\/png":"[encoded data removed]"
     },
     "metadata":{
      "image\/png":{
       
      }
     },
     "output_type":"display_data"
    },
    {
     "data":{
      "image\/png":"[encoded data removed]"
     },
     "metadata":{
      "image\/png":{
       
      }
     },
     "output_type":"display_data"
    },
    {
     "data":{
      "image\/png":"[encoded data removed]"
     },
     "metadata":{
      "image\/png":{
       
      }
     },
     "output_type":"display_data"
    },
    {
     "data":{
      "image\/png":"[encoded data removed]"
     },
     "metadata":{
      "image\/png":{
       
      }
     },
     "output_type":"display_data"
    },
    {
     "data":{
      "image\/png":"[encoded data removed]"
     },
     "metadata":{
      "image\/png":{
       
      }
     },
     "output_type":"display_data"
    },
    {
     "data":{
      "image\/png":"[encoded data removed]"
     },
     "metadata":{
      "image\/png":{
       
      }
     },
     "output_type":"display_data"
    },
    {
     "data":{
      "image\/png":"[encoded data removed]"
     },
     "metadata":{
      "image\/png":{
       
      }
     },
     "output_type":"display_data"
    },
    {
     "data":{
      "image\/png":"[encoded data removed]"
     },
     "metadata":{
      "image\/png":{
       
      }
     },
     "output_type":"display_data"
    }
   ],
   "metadata":{
    "datalore":{
     "node_id":"hU2Wgk1FPV0jBD9TPLHbXL",
     "type":"CODE",
     "hide_input_from_viewers":true,
     "hide_output_from_viewers":true
    }
   }
  },
  {
   "cell_type":"markdown",
   "source":[
    "#### Picked interest\n",
    "Lot Area vs salesprice --- inconsistent trend between lot size and price"
   ],
   "attachments":{
    
   },
   "metadata":{
    "datalore":{
     "node_id":"Y9Ouf8PpkpEHGCB3seZFXu",
     "type":"MD",
     "hide_input_from_viewers":true,
     "hide_output_from_viewers":true
    }
   }
  },
  {
   "cell_type":"code",
   "source":[
    "import pandas as pd\n",
    "\n",
    "# Columns I'm analysing\n",
    "selected_columns = ['LotArea', 'SalePrice']\n",
    "df_subset = combined_df[selected_columns]\n",
    "\n",
    "bins = [0, 4000, 8000, 12000, 16000, 20000,25000, float('inf')] \n",
    "\n",
    "df_subset['LotAreaSegment1'] = pd.cut(df_subset['LotArea'], bins=bins, labels=['0-4000', '4001-8000', '8001-12000', '12001-16000', '16001-20000', '20001-25000','25001+'])\n",
    "\n",
    "# Mean and count in each category\n",
    "segmented_data = df_subset.groupby('LotAreaSegment1')['SalePrice'].agg(['mean', 'count']).reset_index()\n",
    "print(segmented_data)"
   ],
   "execution_count":13,
   "outputs":[
    {
     "name":"stdout",
     "text":[
      "  LotAreaSegment1           mean  count\n",
      "0          0-4000  142672.273684     95\n",
      "1       4001-8000  142786.502976    336\n",
      "2      8001-12000  177548.680731    711\n",
      "3     12001-16000  240961.027778    216\n",
      "4     16001-20000  221878.122449     49\n",
      "5     20001-25000  257609.954545     22\n",
      "6          25001+  251312.064516     31\n"
     ],
     "output_type":"stream"
    },
    {
     "name":"stderr",
     "text":[
      "<ipython-input-13-c69cd2eb0d92>:9: SettingWithCopyWarning: \n",
      "A value is trying to be set on a copy of a slice from a DataFrame.\n",
      "Try using .loc[row_indexer,col_indexer] = value instead\n",
      "\n",
      "See the caveats in the documentation: https:\/\/pandas.pydata.org\/pandas-docs\/stable\/user_guide\/indexing.html#returning-a-view-versus-a-copy\n",
      "  df_subset['LotAreaSegment1'] = pd.cut(df_subset['LotArea'], bins=bins, labels=['0-4000', '4001-8000', '8001-12000', '12001-16000', '16001-20000', '20001-25000','25001+'])\n"
     ],
     "output_type":"stream"
    }
   ],
   "metadata":{
    "datalore":{
     "node_id":"UhlAiEF5VAjqbClk6Y6wmi",
     "type":"CODE",
     "hide_input_from_viewers":true,
     "hide_output_from_viewers":true
    }
   }
  },
  {
   "cell_type":"code",
   "source":[
    "import pandas as pd\n",
    "import matplotlib.pyplot as plt\n",
    "\n",
    "plt.bar(segmented_data['LotAreaSegment1'], segmented_data['mean'], alpha=0.7, label='Mean SalePrice')\n",
    "\n",
    "plt.xlabel('LotAreaSegment1')\n",
    "plt.xticks(rotation=45, ha='right')\n",
    "plt.ylabel('Value')\n",
    "plt.title('Mean SalePrice and Count in Each LotAreaSegment')\n",
    "\n",
    "plt.legend()\n",
    "\n",
    "plt.show()"
   ],
   "execution_count":14,
   "outputs":[
    {
     "data":{
      "image\/png":"[encoded data removed]"
     },
     "metadata":{
      "image\/png":{
       
      }
     },
     "output_type":"display_data"
    }
   ],
   "metadata":{
    "datalore":{
     "node_id":"P6banU01YbGaFq9SLQqVOn",
     "type":"CODE",
     "hide_input_from_viewers":true,
     "hide_output_from_viewers":true
    }
   }
  },
  {
   "cell_type":"markdown",
   "source":[
    "#### Picked interest\n",
    "Lot Area vs Total Basement square footage --- larger lot area indicates larger basement"
   ],
   "attachments":{
    
   },
   "metadata":{
    "datalore":{
     "node_id":"i1rVO6QeEkVD1sriQkr7vA",
     "type":"MD",
     "hide_input_from_viewers":true,
     "hide_output_from_viewers":true
    }
   }
  },
  {
   "cell_type":"code",
   "source":[
    "import pandas as pd\n",
    "\n",
    "# Columns I'm analysing\n",
    "selected_columns = ['LotArea', 'TotalBsmtSF']\n",
    "df_subset = combined_df[selected_columns]\n",
    "\n",
    "bins = [0, 4000, 8000, 12000, 16000, 20000,25000, float('inf')]  # Adjust the bin edges as needed\n",
    "\n",
    "df_subset['LotAreaSegment2'] = pd.cut(df_subset['LotArea'], bins=bins, labels=['0-4000', '4001-8000', '8001-12000', '12001-16000', '16001-20000', '20001-25000','25001+'])\n",
    "\n",
    "# Mean and count in each category\n",
    "segmented_data = df_subset.groupby('LotAreaSegment2')['TotalBsmtSF'].agg(['mean', 'count']).reset_index()\n",
    "print(segmented_data)"
   ],
   "execution_count":15,
   "outputs":[
    {
     "name":"stdout",
     "text":[
      "  LotAreaSegment2         mean  count\n",
      "0          0-4000   831.446009    213\n",
      "1       4001-8000   906.225997    677\n",
      "2      8001-12000  1053.448006   1404\n",
      "3     12001-16000  1258.109302    430\n",
      "4     16001-20000  1302.913462    104\n",
      "5     20001-25000  1203.261905     42\n",
      "6          25001+  1508.458333     48\n"
     ],
     "output_type":"stream"
    },
    {
     "name":"stderr",
     "text":[
      "<ipython-input-15-f54a6e6b766b>:9: SettingWithCopyWarning: \n",
      "A value is trying to be set on a copy of a slice from a DataFrame.\n",
      "Try using .loc[row_indexer,col_indexer] = value instead\n",
      "\n",
      "See the caveats in the documentation: https:\/\/pandas.pydata.org\/pandas-docs\/stable\/user_guide\/indexing.html#returning-a-view-versus-a-copy\n",
      "  df_subset['LotAreaSegment2'] = pd.cut(df_subset['LotArea'], bins=bins, labels=['0-4000', '4001-8000', '8001-12000', '12001-16000', '16001-20000', '20001-25000','25001+'])\n"
     ],
     "output_type":"stream"
    }
   ],
   "metadata":{
    "datalore":{
     "node_id":"MRBUm297ZqshJ9ygU40dfl",
     "type":"CODE",
     "hide_input_from_viewers":true,
     "hide_output_from_viewers":true
    }
   }
  },
  {
   "cell_type":"code",
   "source":[
    "import pandas as pd\n",
    "import matplotlib.pyplot as plt\n",
    "\n",
    "plt.bar(segmented_data['LotAreaSegment2'], segmented_data['mean'], alpha=0.7, label='Mean SalePrice')\n",
    "\n",
    "plt.xlabel('LotAreaSegment2')\n",
    "plt.xticks(rotation=45, ha='right')\n",
    "plt.ylabel('Basement sqrt')\n",
    "plt.title('Mean SalePrice and Basement sqrt')\n",
    "\n",
    "plt.legend()\n",
    "\n",
    "plt.show()"
   ],
   "execution_count":16,
   "outputs":[
    {
     "data":{
      "image\/png":"[encoded data removed]"
     },
     "metadata":{
      "image\/png":{
       
      }
     },
     "output_type":"display_data"
    }
   ],
   "metadata":{
    "datalore":{
     "node_id":"CSDOUo3hFnLIYH9zDxnNMU",
     "type":"CODE",
     "hide_input_from_viewers":true,
     "hide_output_from_viewers":true
    }
   }
  },
  {
   "cell_type":"markdown",
   "source":[
    "#### Picked interest\n",
    "SalePrice vs basement sqft --- larger the basement sqft, more expensive houses get"
   ],
   "attachments":{
    
   },
   "metadata":{
    "datalore":{
     "node_id":"478qaX00o4nJJjBd99c6SZ",
     "type":"MD",
     "hide_input_from_viewers":true,
     "hide_output_from_viewers":true
    }
   }
  },
  {
   "cell_type":"code",
   "source":[
    "import pandas as pd\n",
    "\n",
    "# Columns I'm analysing\n",
    "selected_columns = ['SalePrice', 'TotalBsmtSF']\n",
    "df_subset = combined_df[selected_columns]\n",
    "\n",
    "bins = [0, 100000, 150000, 250000, 300000, 400000, 500000, float('inf')]  # Adjust the bin edges as needed\n",
    "\n",
    "df_subset['SalePriceSegment1'] = pd.cut(df_subset['SalePrice'], bins=bins, labels=['0-100000', '100001-150000', '250001-250000', '250001-300000', '300001-400000', '400001-500000', '500001+'])\n",
    "\n",
    "# Mean and count in each category\n",
    "segmented_data = df_subset.groupby('SalePriceSegment1')['TotalBsmtSF'].agg(['mean', 'count']).reset_index()\n",
    "print(segmented_data)"
   ],
   "execution_count":17,
   "outputs":[
    {
     "name":"stdout",
     "text":[
      "  SalePriceSegment1         mean  count\n",
      "0          0-100000   609.788618    123\n",
      "1     100001-150000   892.364919    496\n",
      "2     250001-250000  1106.350962    624\n",
      "3     250001-300000  1407.029412    102\n",
      "4     300001-400000  1576.620690     87\n",
      "5     400001-500000  1863.052632     19\n",
      "6           500001+  2198.444444      9\n"
     ],
     "output_type":"stream"
    },
    {
     "name":"stderr",
     "text":[
      "<ipython-input-17-7a3ff514b798>:9: SettingWithCopyWarning: \n",
      "A value is trying to be set on a copy of a slice from a DataFrame.\n",
      "Try using .loc[row_indexer,col_indexer] = value instead\n",
      "\n",
      "See the caveats in the documentation: https:\/\/pandas.pydata.org\/pandas-docs\/stable\/user_guide\/indexing.html#returning-a-view-versus-a-copy\n",
      "  df_subset['SalePriceSegment1'] = pd.cut(df_subset['SalePrice'], bins=bins, labels=['0-100000', '100001-150000', '250001-250000', '250001-300000', '300001-400000', '400001-500000', '500001+'])\n"
     ],
     "output_type":"stream"
    }
   ],
   "metadata":{
    "datalore":{
     "node_id":"b1mDSc3s9qPsSE4pwBNYnd",
     "type":"CODE",
     "hide_input_from_viewers":true,
     "hide_output_from_viewers":true
    }
   }
  },
  {
   "cell_type":"code",
   "source":[
    "import pandas as pd\n",
    "import matplotlib.pyplot as plt\n",
    "\n",
    "plt.bar(segmented_data['SalePriceSegment1'], segmented_data['mean'], alpha=0.7, label='Mean SalePrice')\n",
    "\n",
    "plt.xlabel('SalePriceSegment1')\n",
    "plt.xticks(rotation=45, ha='right')\n",
    "plt.ylabel('Basement sqrt')\n",
    "plt.title('Mean SalePrice and Basement sqrt')\n",
    "\n",
    "plt.legend()\n",
    "\n",
    "plt.show()"
   ],
   "execution_count":18,
   "outputs":[
    {
     "data":{
      "image\/png":"[encoded data removed]"
     },
     "metadata":{
      "image\/png":{
       
      }
     },
     "output_type":"display_data"
    }
   ],
   "metadata":{
    "datalore":{
     "node_id":"9IXRqhvSKnM2tE3UsGkEwL",
     "type":"CODE",
     "hide_input_from_viewers":true,
     "hide_output_from_viewers":true
    }
   }
  },
  {
   "cell_type":"markdown",
   "source":[
    "#### Skewness of numerical features"
   ],
   "attachments":{
    
   },
   "metadata":{
    "datalore":{
     "node_id":"0qpylnSGxMgzUrLji2BfJ9",
     "type":"MD",
     "hide_input_from_viewers":true,
     "hide_output_from_viewers":true
    }
   }
  },
  {
   "cell_type":"code",
   "source":[
    "\n",
    "from scipy.stats import skew\n",
    "\n",
    "skewed_feats = combined_df.apply(lambda x: skew(x.dropna())).sort_values(ascending=False)\n",
    "\n",
    "print(\"\\nSkewness in numerical features: \\n\")\n",
    "skewness = pd.DataFrame({'Skewness' :skewed_feats})\n",
    "print(skewness.head(10))\n",
    "\n",
    "# Histogram of 'SalePrice'\n",
    "plt.hist(combined_df['SalePrice'].dropna(), color='blue')\n",
    "plt.title('SalePrice distribution')\n",
    "plt.show()\n",
    "\n",
    "\n",
    "saleprice_skew = skew(combined_df['SalePrice'].dropna())\n",
    "print(\"Skewness of 'SalePrice':\", saleprice_skew)\n",
    "\n",
    "# Correlation Matrix Heatmap visualization (just for top 10 variables most correlated to 'SalePrice') \n",
    "k = 10 \n",
    "cols = combined_df.corr().nlargest(k, 'SalePrice')['SalePrice'].index\n",
    "\n",
    "cm = np.corrcoef(combined_df[cols].values.T)\n",
    "sns.set(font_scale=1.25)\n",
    "hm = sns.heatmap(cm, cbar=True, annot=True, square=True, fmt='.2f', annot_kws={'size': 10}, yticklabels=cols.values, xticklabels=cols.values)\n",
    "plt.show()\n"
   ],
   "execution_count":19,
   "outputs":[
    {
     "name":"stdout",
     "text":[
      "\n",
      "Skewness in numerical features: \n",
      "\n",
      "              Skewness\n",
      "LotArea      12.822431\n",
      "BsmtFinSF2    4.145323\n",
      "MasVnrArea    2.601240\n",
      "OpenPorchSF   2.535114\n",
      "SalePrice     1.880941\n",
      "WoodDeckSF    1.842433\n",
      "1stFlrSF      1.469604\n",
      "BsmtFinSF1    1.424989\n",
      "GrLivArea     1.269358\n",
      "TotalBsmtSF   1.162285\n",
      "Skewness of 'SalePrice': 1.880940746034036\n"
     ],
     "output_type":"stream"
    },
    {
     "data":{
      "image\/png":"[encoded data removed]"
     },
     "metadata":{
      "image\/png":{
       
      }
     },
     "output_type":"display_data"
    },
    {
     "data":{
      "image\/png":"[encoded data removed]"
     },
     "metadata":{
      "image\/png":{
       
      }
     },
     "output_type":"display_data"
    }
   ],
   "metadata":{
    "datalore":{
     "node_id":"yFe2lj9vdabs67qNr2cFWq",
     "type":"CODE",
     "hide_input_from_viewers":true,
     "hide_output_from_viewers":true
    }
   }
  },
  {
   "cell_type":"markdown",
   "source":[
    "# Prepartation for modeling"
   ],
   "attachments":{
    
   },
   "metadata":{
    "datalore":{
     "node_id":"wEtKZioHcc3XAgzfXKYNF0",
     "type":"MD",
     "hide_input_from_viewers":true,
     "hide_output_from_viewers":true
    }
   }
  },
  {
   "cell_type":"code",
   "source":[
    "import pandas as pd\n",
    "\n",
    "# Check if any value in the 'SalePrice' column is negative\n",
    "has_negative_values = (combined_df['SalePrice'] < 0).any()\n",
    "\n",
    "if has_negative_values:\n",
    "    print(\"The 'SalePrice' column contains negative values.\")\n",
    "else:\n",
    "    print(\"There are no negative values in the 'SalePrice' column.\")"
   ],
   "execution_count":20,
   "outputs":[
    {
     "name":"stdout",
     "text":[
      "There are no negative values in the 'SalePrice' column.\n"
     ],
     "output_type":"stream"
    }
   ],
   "metadata":{
    "datalore":{
     "node_id":"SI1VbVOoaUlAynVDisZiOX",
     "type":"CODE",
     "hide_input_from_viewers":true,
     "hide_output_from_viewers":true
    }
   }
  },
  {
   "cell_type":"markdown",
   "source":[
    "### replacing all NAN values with the mean value in thier respected columns"
   ],
   "attachments":{
    
   },
   "metadata":{
    "datalore":{
     "node_id":"mfx9OcIgEmtjQAbNVRyooK",
     "type":"MD",
     "hide_input_from_viewers":true,
     "hide_output_from_viewers":true
    }
   }
  },
  {
   "cell_type":"code",
   "source":[
    "import pandas as pd\n",
    "\n",
    "# Checking for NaN values\n",
    "nan_counts = combined_df.isna().sum()\n",
    "\n",
    "columns_with_nan = nan_counts[nan_counts > 0].index\n",
    "print(f\"Columns with NaN values: {list(columns_with_nan)}\")\n",
    "\n",
    "for column in columns_with_nan:\n",
    "    nan_indices = combined_df[column].index[combined_df[column].isna()].tolist()\n",
    "    print(f\"Column '{column}' has NaN values at indices: {nan_indices}\")\n",
    "    print(f\"NaN values in '{column}': {combined_df[column][nan_indices].tolist()}\\n\")\n"
   ],
   "execution_count":21,
   "outputs":[
    {
     "name":"stdout",
     "text":[
      "Columns with NaN values: ['MasVnrArea', 'BsmtFinSF1', 'BsmtFinSF2', 'BsmtUnfSF', 'TotalBsmtSF', 'GarageArea', 'SalePrice']\n",
      "Column 'MasVnrArea' has NaN values at indices: [234, 529, 650, 936, 973, 977, 1243, 1278, 1691, 1706, 1882, 1992, 2004, 2041, 2311, 2325, 2340, 2349, 2368, 2592, 2657, 2686, 2862]\n",
      "NaN values in 'MasVnrArea': [nan, nan, nan, nan, nan, nan, nan, nan, nan, nan, nan, nan, nan, nan, nan, nan, nan, nan, nan, nan, nan, nan, nan]\n",
      "\n",
      "Column 'BsmtFinSF1' has NaN values at indices: [2120]\n",
      "NaN values in 'BsmtFinSF1': [nan]\n",
      "\n",
      "Column 'BsmtFinSF2' has NaN values at indices: [2120]\n",
      "NaN values in 'BsmtFinSF2': [nan]\n",
      "\n",
      "Column 'BsmtUnfSF' has NaN values at indices: [2120]\n",
      "NaN values in 'BsmtUnfSF': [nan]\n",
      "\n",
      "Column 'TotalBsmtSF' has NaN values at indices: [2120]\n",
      "NaN values in 'TotalBsmtSF': [nan]\n",
      "\n",
      "Column 'GarageArea' has NaN values at indices: [2576]\n",
      "NaN values in 'GarageArea': [nan]\n",
      "\n",
      "Column 'SalePrice' has NaN values at indices: [1460, 1461, 1462, 1463, 1464, 1465, 1466, 1467, 1468, 1469, 1470, 1471, 1472, 1473, 1474, 1475, 1476, 1477, 1478, 1479, 1480, 1481, 1482, 1483, 1484, 1485, 1486, 1487, 1488, 1489, 1490, 1491, 1492, 1493, 1494, 1495, 1496, 1497, 1498, 1499, 1500, 1501, 1502, 1503, 1504, 1505, 1506, 1507, 1508, 1509, 1510, 1511, 1512, 1513, 1514, 1515, 1516, 1517, 1518, 1519, 1520, 1521, 1522, 1523, 1524, 1525, 1526, 1527, 1528, 1529, 1530, 1531, 1532, 1533, 1534, 1535, 1536, 1537, 1538, 1539, 1540, 1541, 1542, 1543, 1544, 1545, 1546, 1547, 1548, 1549, 1550, 1551, 1552, 1553, 1554, 1555, 1556, 1557, 1558, 1559, 1560, 1561, 1562, 1563, 1564, 1565, 1566, 1567, 1568, 1569, 1570, 1571, 1572, 1573, 1574, 1575, 1576, 1577, 1578, 1579, 1580, 1581, 1582, 1583, 1584, 1585, 1586, 1587, 1588, 1589, 1590, 1591, 1592, 1593, 1594, 1595, 1596, 1597, 1598, 1599, 1600, 1601, 1602, 1603, 1604, 1605, 1606, 1607, 1608, 1609, 1610, 1611, 1612, 1613, 1614, 1615, 1616, 1617, 1618, 1619, 1620, 1621, 1622, 1623, 1624, 1625, 1626, 1627, 1628, 1629, 1630, 1631, 1632, 1633, 1634, 1635, 1636, 1637, 1638, 1639, 1640, 1641, 1642, 1643, 1644, 1645, 1646, 1647, 1648, 1649, 1650, 1651, 1652, 1653, 1654, 1655, 1656, 1657, 1658, 1659, 1660, 1661, 1662, 1663, 1664, 1665, 1666, 1667, 1668, 1669, 1670, 1671, 1672, 1673, 1674, 1675, 1676, 1677, 1678, 1679, 1680, 1681, 1682, 1683, 1684, 1685, 1686, 1687, 1688, 1689, 1690, 1691, 1692, 1693, 1694, 1695, 1696, 1697, 1698, 1699, 1700, 1701, 1702, 1703, 1704, 1705, 1706, 1707, 1708, 1709, 1710, 1711, 1712, 1713, 1714, 1715, 1716, 1717, 1718, 1719, 1720, 1721, 1722, 1723, 1724, 1725, 1726, 1727, 1728, 1729, 1730, 1731, 1732, 1733, 1734, 1735, 1736, 1737, 1738, 1739, 1740, 1741, 1742, 1743, 1744, 1745, 1746, 1747, 1748, 1749, 1750, 1751, 1752, 1753, 1754, 1755, 1756, 1757, 1758, 1759, 1760, 1761, 1762, 1763, 1764, 1765, 1766, 1767, 1768, 1769, 1770, 1771, 1772, 1773, 1774, 1775, 1776, 1777, 1778, 1779, 1780, 1781, 1782, 1783, 1784, 1785, 1786, 1787, 1788, 1789, 1790, 1791, 1792, 1793, 1794, 1795, 1796, 1797, 1798, 1799, 1800, 1801, 1802, 1803, 1804, 1805, 1806, 1807, 1808, 1809, 1810, 1811, 1812, 1813, 1814, 1815, 1816, 1817, 1818, 1819, 1820, 1821, 1822, 1823, 1824, 1825, 1826, 1827, 1828, 1829, 1830, 1831, 1832, 1833, 1834, 1835, 1836, 1837, 1838, 1839, 1840, 1841, 1842, 1843, 1844, 1845, 1846, 1847, 1848, 1849, 1850, 1851, 1852, 1853, 1854, 1855, 1856, 1857, 1858, 1859, 1860, 1861, 1862, 1863, 1864, 1865, 1866, 1867, 1868, 1869, 1870, 1871, 1872, 1873, 1874, 1875, 1876, 1877, 1878, 1879, 1880, 1881, 1882, 1883, 1884, 1885, 1886, 1887, 1888, 1889, 1890, 1891, 1892, 1893, 1894, 1895, 1896, 1897, 1898, 1899, 1900, 1901, 1902, 1903, 1904, 1905, 1906, 1907, 1908, 1909, 1910, 1911, 1912, 1913, 1914, 1915, 1916, 1917, 1918, 1919, 1920, 1921, 1922, 1923, 1924, 1925, 1926, 1927, 1928, 1929, 1930, 1931, 1932, 1933, 1934, 1935, 1936, 1937, 1938, 1939, 1940, 1941, 1942, 1943, 1944, 1945, 1946, 1947, 1948, 1949, 1950, 1951, 1952, 1953, 1954, 1955, 1956, 1957, 1958, 1959, 1960, 1961, 1962, 1963, 1964, 1965, 1966, 1967, 1968, 1969, 1970, 1971, 1972, 1973, 1974, 1975, 1976, 1977, 1978, 1979, 1980, 1981, 1982, 1983, 1984, 1985, 1986, 1987, 1988, 1989, 1990, 1991, 1992, 1993, 1994, 1995, 1996, 1997, 1998, 1999, 2000, 2001, 2002, 2003, 2004, 2005, 2006, 2007, 2008, 2009, 2010, 2011, 2012, 2013, 2014, 2015, 2016, 2017, 2018, 2019, 2020, 2021, 2022, 2023, 2024, 2025, 2026, 2027, 2028, 2029, 2030, 2031, 2032, 2033, 2034, 2035, 2036, 2037, 2038, 2039, 2040, 2041, 2042, 2043, 2044, 2045, 2046, 2047, 2048, 2049, 2050, 2051, 2052, 2053, 2054, 2055, 2056, 2057, 2058, 2059, 2060, 2061, 2062, 2063, 2064, 2065, 2066, 2067, 2068, 2069, 2070, 2071, 2072, 2073, 2074, 2075, 2076, 2077, 2078, 2079, 2080, 2081, 2082, 2083, 2084, 2085, 2086, 2087, 2088, 2089, 2090, 2091, 2092, 2093, 2094, 2095, 2096, 2097, 2098, 2099, 2100, 2101, 2102, 2103, 2104, 2105, 2106, 2107, 2108, 2109, 2110, 2111, 2112, 2113, 2114, 2115, 2116, 2117, 2118, 2119, 2120, 2121, 2122, 2123, 2124, 2125, 2126, 2127, 2128, 2129, 2130, 2131, 2132, 2133, 2134, 2135, 2136, 2137, 2138, 2139, 2140, 2141, 2142, 2143, 2144, 2145, 2146, 2147, 2148, 2149, 2150, 2151, 2152, 2153, 2154, 2155, 2156, 2157, 2158, 2159, 2160, 2161, 2162, 2163, 2164, 2165, 2166, 2167, 2168, 2169, 2170, 2171, 2172, 2173, 2174, 2175, 2176, 2177, 2178, 2179, 2180, 2181, 2182, 2183, 2184, 2185, 2186, 2187, 2188, 2189, 2190, 2191, 2192, 2193, 2194, 2195, 2196, 2197, 2198, 2199, 2200, 2201, 2202, 2203, 2204, 2205, 2206, 2207, 2208, 2209, 2210, 2211, 2212, 2213, 2214, 2215, 2216, 2217, 2218, 2219, 2220, 2221, 2222, 2223, 2224, 2225, 2226, 2227, 2228, 2229, 2230, 2231, 2232, 2233, 2234, 2235, 2236, 2237, 2238, 2239, 2240, 2241, 2242, 2243, 2244, 2245, 2246, 2247, 2248, 2249, 2250, 2251, 2252, 2253, 2254, 2255, 2256, 2257, 2258, 2259, 2260, 2261, 2262, 2263, 2264, 2265, 2266, 2267, 2268, 2269, 2270, 2271, 2272, 2273, 2274, 2275, 2276, 2277, 2278, 2279, 2280, 2281, 2282, 2283, 2284, 2285, 2286, 2287, 2288, 2289, 2290, 2291, 2292, 2293, 2294, 2295, 2296, 2297, 2298, 2299, 2300, 2301, 2302, 2303, 2304, 2305, 2306, 2307, 2308, 2309, 2310, 2311, 2312, 2313, 2314, 2315, 2316, 2317, 2318, 2319, 2320, 2321, 2322, 2323, 2324, 2325, 2326, 2327, 2328, 2329, 2330, 2331, 2332, 2333, 2334, 2335, 2336, 2337, 2338, 2339, 2340, 2341, 2342, 2343, 2344, 2345, 2346, 2347, 2348, 2349, 2350, 2351, 2352, 2353, 2354, 2355, 2356, 2357, 2358, 2359, 2360, 2361, 2362, 2363, 2364, 2365, 2366, 2367, 2368, 2369, 2370, 2371, 2372, 2373, 2374, 2375, 2376, 2377, 2378, 2379, 2380, 2381, 2382, 2383, 2384, 2385, 2386, 2387, 2388, 2389, 2390, 2391, 2392, 2393, 2394, 2395, 2396, 2397, 2398, 2399, 2400, 2401, 2402, 2403, 2404, 2405, 2406, 2407, 2408, 2409, 2410, 2411, 2412, 2413, 2414, 2415, 2416, 2417, 2418, 2419, 2420, 2421, 2422, 2423, 2424, 2425, 2426, 2427, 2428, 2429, 2430, 2431, 2432, 2433, 2434, 2435, 2436, 2437, 2438, 2439, 2440, 2441, 2442, 2443, 2444, 2445, 2446, 2447, 2448, 2449, 2450, 2451, 2452, 2453, 2454, 2455, 2456, 2457, 2458, 2459, 2460, 2461, 2462, 2463, 2464, 2465, 2466, 2467, 2468, 2469, 2470, 2471, 2472, 2473, 2474, 2475, 2476, 2477, 2478, 2479, 2480, 2481, 2482, 2483, 2484, 2485, 2486, 2487, 2488, 2489, 2490, 2491, 2492, 2493, 2494, 2495, 2496, 2497, 2498, 2499, 2500, 2501, 2502, 2503, 2504, 2505, 2506, 2507, 2508, 2509, 2510, 2511, 2512, 2513, 2514, 2515, 2516, 2517, 2518, 2519, 2520, 2521, 2522, 2523, 2524, 2525, 2526, 2527, 2528, 2529, 2530, 2531, 2532, 2533, 2534, 2535, 2536, 2537, 2538, 2539, 2540, 2541, 2542, 2543, 2544, 2545, 2546, 2547, 2548, 2549, 2550, 2551, 2552, 2553, 2554, 2555, 2556, 2557, 2558, 2559, 2560, 2561, 2562, 2563, 2564, 2565, 2566, 2567, 2568, 2569, 2570, 2571, 2572, 2573, 2574, 2575, 2576, 2577, 2578, 2579, 2580, 2581, 2582, 2583, 2584, 2585, 2586, 2587, 2588, 2589, 2590, 2591, 2592, 2593, 2594, 2595, 2596, 2597, 2598, 2599, 2600, 2601, 2602, 2603, 2604, 2605, 2606, 2607, 2608, 2609, 2610, 2611, 2612, 2613, 2614, 2615, 2616, 2617, 2618, 2619, 2620, 2621, 2622, 2623, 2624, 2625, 2626, 2627, 2628, 2629, 2630, 2631, 2632, 2633, 2634, 2635, 2636, 2637, 2638, 2639, 2640, 2641, 2642, 2643, 2644, 2645, 2646, 2647, 2648, 2649, 2650, 2651, 2652, 2653, 2654, 2655, 2656, 2657, 2658, 2659, 2660, 2661, 2662, 2663, 2664, 2665, 2666, 2667, 2668, 2669, 2670, 2671, 2672, 2673, 2674, 2675, 2676, 2677, 2678, 2679, 2680, 2681, 2682, 2683, 2684, 2685, 2686, 2687, 2688, 2689, 2690, 2691, 2692, 2693, 2694, 2695, 2696, 2697, 2698, 2699, 2700, 2701, 2702, 2703, 2704, 2705, 2706, 2707, 2708, 2709, 2710, 2711, 2712, 2713, 2714, 2715, 2716, 2717, 2718, 2719, 2720, 2721, 2722, 2723, 2724, 2725, 2726, 2727, 2728, 2729, 2730, 2731, 2732, 2733, 2734, 2735, 2736, 2737, 2738, 2739, 2740, 2741, 2742, 2743, 2744, 2745, 2746, 2747, 2748, 2749, 2750, 2751, 2752, 2753, 2754, 2755, 2756, 2757, 2758, 2759, 2760, 2761, 2762, 2763, 2764, 2765, 2766, 2767, 2768, 2769, 2770, 2771, 2772, 2773, 2774, 2775, 2776, 2777, 2778, 2779, 2780, 2781, 2782, 2783, 2784, 2785, 2786, 2787, 2788, 2789, 2790, 2791, 2792, 2793, 2794, 2795, 2796, 2797, 2798, 2799, 2800, 2801, 2802, 2803, 2804, 2805, 2806, 2807, 2808, 2809, 2810, 2811, 2812, 2813, 2814, 2815, 2816, 2817, 2818, 2819, 2820, 2821, 2822, 2823, 2824, 2825, 2826, 2827, 2828, 2829, 2830, 2831, 2832, 2833, 2834, 2835, 2836, 2837, 2838, 2839, 2840, 2841, 2842, 2843, 2844, 2845, 2846, 2847, 2848, 2849, 2850, 2851, 2852, 2853, 2854, 2855, 2856, 2857, 2858, 2859, 2860, 2861, 2862, 2863, 2864, 2865, 2866, 2867, 2868, 2869, 2870, 2871, 2872, 2873, 2874, 2875, 2876, 2877, 2878, 2879, 2880, 2881, 2882, 2883, 2884, 2885, 2886, 2887, 2888, 2889, 2890, 2891, 2892, 2893, 2894, 2895, 2896, 2897, 2898, 2899, 2900, 2901, 2902, 2903, 2904, 2905, 2906, 2907, 2908, 2909, 2910, 2911, 2912, 2913, 2914, 2915, 2916, 2917, 2918]\n",
      "NaN values in 'SalePrice': [nan, nan, nan, nan, nan, nan, nan, nan, nan, nan, nan, nan, nan, nan, nan, nan, nan, nan, nan, nan, nan, nan, nan, nan, nan, nan, nan, nan, nan, nan, nan, nan, nan, nan, nan, nan, nan, nan, nan, nan, nan, nan, nan, nan, nan, nan, nan, nan, nan, nan, nan, nan, nan, nan, nan, nan, nan, nan, nan, nan, nan, nan, nan, nan, nan, nan, nan, nan, nan, nan, nan, nan, nan, nan, nan, nan, nan, nan, nan, nan, nan, nan, nan, nan, nan, nan, nan, nan, nan, nan, nan, nan, nan, nan, nan, nan, nan, nan, nan, nan, nan, nan, nan, nan, nan, nan, nan, nan, nan, nan, nan, nan, nan, nan, nan, nan, nan, nan, nan, nan, nan, nan, nan, nan, nan, nan, nan, nan, nan, nan, nan, nan, nan, nan, nan, nan, nan, nan, nan, nan, nan, nan, nan, nan, nan, nan, nan, nan, nan, nan, nan, nan, nan, nan, nan, nan, nan, nan, nan, nan, nan, nan, nan, nan, nan, nan, nan, nan, nan, nan, nan, nan, nan, nan, nan, nan, nan, nan, nan, nan, nan, nan, nan, nan, nan, nan, nan, nan, nan, nan, nan, nan, nan, nan, nan, nan, nan, nan, nan, nan, nan, nan, nan, nan, nan, nan, nan, nan, nan, nan, nan, nan, nan, nan, nan, nan, nan, nan, nan, nan, nan, nan, nan, nan, nan, nan, nan, nan, nan, nan, nan, nan, nan, nan, nan, nan, nan, nan, nan, nan, nan, nan, nan, nan, nan, nan, nan, nan, nan, nan, nan, nan, nan, nan, nan, nan, nan, nan, nan, nan, nan, nan, nan, nan, nan, nan, nan, nan, nan, nan, nan, nan, nan, nan, nan, nan, nan, nan, nan, nan, nan, nan, nan, nan, nan, nan, nan, nan, nan, nan, nan, nan, nan, nan, nan, nan, nan, nan, nan, nan, nan, nan, nan, nan, nan, nan, nan, nan, nan, nan, nan, nan, nan, nan, nan, nan, nan, nan, nan, nan, nan, nan, nan, nan, nan, nan, nan, nan, nan, nan, nan, nan, nan, nan, nan, nan, nan, nan, nan, nan, nan, nan, nan, nan, nan, nan, nan, nan, nan, nan, nan, nan, nan, nan, nan, nan, nan, nan, nan, nan, nan, nan, nan, nan, nan, nan, nan, nan, nan, nan, nan, nan, nan, nan, nan, nan, nan, nan, nan, nan, nan, nan, nan, nan, nan, nan, nan, nan, nan, nan, nan, nan, nan, nan, nan, nan, nan, nan, nan, nan, nan, nan, nan, nan, nan, nan, nan, nan, nan, nan, nan, nan, nan, nan, nan, nan, nan, nan, nan, nan, nan, nan, nan, nan, nan, nan, nan, nan, nan, nan, nan, nan, nan, nan, nan, nan, nan, nan, nan, nan, nan, nan, nan, nan, nan, nan, nan, nan, nan, nan, nan, nan, nan, nan, nan, nan, nan, nan, nan, nan, nan, nan, nan, nan, nan, nan, nan, nan, nan, nan, nan, nan, nan, nan, nan, nan, nan, nan, nan, nan, nan, nan, nan, nan, nan, nan, nan, nan, nan, nan, nan, nan, nan, nan, nan, nan, nan, nan, nan, nan, nan, nan, nan, nan, nan, nan, nan, nan, nan, nan, nan, nan, nan, nan, nan, nan, nan, nan, nan, nan, nan, nan, nan, nan, nan, nan, nan, nan, nan, nan, nan, nan, nan, nan, nan, nan, nan, nan, nan, nan, nan, nan, nan, nan, nan, nan, nan, nan, nan, nan, nan, nan, nan, nan, nan, nan, nan, nan, nan, nan, nan, nan, nan, nan, nan, nan, nan, nan, nan, nan, nan, nan, nan, nan, nan, nan, nan, nan, nan, nan, nan, nan, nan, nan, nan, nan, nan, nan, nan, nan, nan, nan, nan, nan, nan, nan, nan, nan, nan, nan, nan, nan, nan, nan, nan, nan, nan, nan, nan, nan, nan, nan, nan, nan, nan, nan, nan, nan, nan, nan, nan, nan, nan, nan, nan, nan, nan, nan, nan, nan, nan, nan, nan, nan, nan, nan, nan, nan, nan, nan, nan, nan, nan, nan, nan, nan, nan, nan, nan, nan, nan, nan, nan, nan, nan, nan, nan, nan, nan, nan, nan, nan, nan, nan, nan, nan, nan, nan, nan, nan, nan, nan, nan, nan, nan, nan, nan, nan, nan, nan, nan, nan, nan, nan, nan, nan, nan, nan, nan, nan, nan, nan, nan, nan, nan, nan, nan, nan, nan, nan, nan, nan, nan, nan, nan, nan, nan, nan, nan, nan, nan, nan, nan, nan, nan, nan, nan, nan, nan, nan, nan, nan, nan, nan, nan, nan, nan, nan, nan, nan, nan, nan, nan, nan, nan, nan, nan, nan, nan, nan, nan, nan, nan, nan, nan, nan, nan, nan, nan, nan, nan, nan, nan, nan, nan, nan, nan, nan, nan, nan, nan, nan, nan, nan, nan, nan, nan, nan, nan, nan, nan, nan, nan, nan, nan, nan, nan, nan, nan, nan, nan, nan, nan, nan, nan, nan, nan, nan, nan, nan, nan, nan, nan, nan, nan, nan, nan, nan, nan, nan, nan, nan, nan, nan, nan, nan, nan, nan, nan, nan, nan, nan, nan, nan, nan, nan, nan, nan, nan, nan, nan, nan, nan, nan, nan, nan, nan, nan, nan, nan, nan, nan, nan, nan, nan, nan, nan, nan, nan, nan, nan, nan, nan, nan, nan, nan, nan, nan, nan, nan, nan, nan, nan, nan, nan, nan, nan, nan, nan, nan, nan, nan, nan, nan, nan, nan, nan, nan, nan, nan, nan, nan, nan, nan, nan, nan, nan, nan, nan, nan, nan, nan, nan, nan, nan, nan, nan, nan, nan, nan, nan, nan, nan, nan, nan, nan, nan, nan, nan, nan, nan, nan, nan, nan, nan, nan, nan, nan, nan, nan, nan, nan, nan, nan, nan, nan, nan, nan, nan, nan, nan, nan, nan, nan, nan, nan, nan, nan, nan, nan, nan, nan, nan, nan, nan, nan, nan, nan, nan, nan, nan, nan, nan, nan, nan, nan, nan, nan, nan, nan, nan, nan, nan, nan, nan, nan, nan, nan, nan, nan, nan, nan, nan, nan, nan, nan, nan, nan, nan, nan, nan, nan, nan, nan, nan, nan, nan, nan, nan, nan, nan, nan, nan, nan, nan, nan, nan, nan, nan, nan, nan, nan, nan, nan, nan, nan, nan, nan, nan, nan, nan, nan, nan, nan, nan, nan, nan, nan, nan, nan, nan, nan, nan, nan, nan, nan, nan, nan, nan, nan, nan, nan, nan, nan, nan, nan, nan, nan, nan, nan, nan, nan, nan, nan, nan, nan, nan, nan, nan, nan, nan, nan, nan, nan, nan, nan, nan, nan, nan, nan, nan, nan, nan, nan, nan, nan, nan, nan, nan, nan, nan, nan, nan, nan, nan, nan, nan, nan, nan, nan, nan, nan, nan, nan, nan, nan, nan, nan, nan, nan, nan, nan, nan, nan, nan, nan, nan, nan, nan, nan, nan, nan, nan, nan, nan, nan, nan, nan, nan, nan, nan, nan, nan, nan, nan, nan, nan, nan, nan, nan, nan, nan, nan, nan, nan, nan, nan, nan, nan, nan, nan, nan, nan, nan, nan, nan, nan, nan, nan, nan, nan, nan, nan, nan, nan, nan, nan, nan, nan, nan, nan, nan, nan, nan, nan, nan, nan, nan, nan, nan, nan, nan, nan, nan, nan, nan, nan, nan, nan, nan, nan, nan, nan, nan, nan, nan, nan, nan, nan, nan, nan, nan, nan, nan, nan, nan, nan, nan, nan, nan, nan, nan, nan, nan, nan, nan, nan, nan, nan, nan, nan, nan, nan, nan, nan, nan, nan, nan, nan, nan, nan, nan, nan, nan, nan, nan, nan, nan, nan, nan, nan, nan, nan, nan, nan, nan, nan, nan, nan, nan, nan, nan, nan, nan, nan, nan, nan, nan, nan, nan, nan, nan, nan, nan, nan, nan, nan, nan, nan, nan, nan, nan, nan, nan, nan, nan, nan, nan, nan, nan, nan, nan, nan, nan, nan, nan, nan, nan, nan, nan, nan, nan, nan, nan, nan, nan, nan, nan, nan, nan, nan, nan, nan, nan, nan, nan, nan, nan, nan, nan, nan, nan, nan, nan, nan, nan, nan, nan, nan, nan, nan, nan, nan, nan, nan, nan, nan, nan, nan, nan, nan, nan, nan, nan, nan, nan, nan, nan, nan, nan, nan, nan, nan, nan, nan, nan, nan, nan, nan, nan, nan, nan, nan, nan, nan, nan, nan, nan, nan, nan, nan, nan, nan, nan, nan, nan, nan, nan, nan, nan, nan, nan, nan, nan, nan, nan, nan, nan, nan, nan, nan, nan, nan, nan, nan, nan, nan, nan, nan, nan, nan, nan, nan, nan, nan, nan, nan, nan, nan, nan, nan, nan, nan, nan, nan, nan, nan, nan, nan, nan, nan, nan, nan, nan, nan, nan, nan, nan, nan, nan, nan, nan, nan, nan, nan, nan, nan, nan, nan, nan, nan, nan, nan, nan, nan, nan, nan, nan, nan, nan, nan, nan, nan, nan, nan, nan, nan, nan, nan, nan, nan, nan, nan, nan, nan, nan, nan, nan, nan, nan, nan, nan, nan, nan, nan, nan, nan, nan, nan, nan, nan, nan, nan, nan, nan, nan, nan, nan, nan, nan, nan, nan, nan, nan, nan, nan, nan, nan, nan]\n",
      "\n"
     ],
     "output_type":"stream"
    }
   ],
   "metadata":{
    "datalore":{
     "node_id":"b2vurv7U5TIe4OWC93ahtv",
     "type":"CODE",
     "hide_input_from_viewers":true,
     "hide_output_from_viewers":true
    }
   }
  },
  {
   "cell_type":"markdown",
   "source":[
    "#### I decided to use cluter based imputation for the NaN values, specifically Kmeans clustering due to the relation between the different attributes in the dataset"
   ],
   "attachments":{
    
   },
   "metadata":{
    "datalore":{
     "node_id":"mxJOGpl1yPBFk9GTbotyb9",
     "type":"MD",
     "hide_input_from_viewers":true,
     "hide_output_from_viewers":true
    }
   }
  },
  {
   "cell_type":"code",
   "source":[
    "from sklearn.cluster import KMeans\n",
    "from sklearn.preprocessing import StandardScaler\n",
    "\n",
    "# Select columns to be considered for similarity\n",
    "columns_considered = ['LotArea', 'TotalBsmtSF', 'SalePrice']\n",
    "\n",
    "df_imputation = combined_df[columns_considered].copy()\n",
    "\n",
    "df_imputation.fillna(df_imputation.mean(), inplace=True)\n",
    "scaler = StandardScaler()\n",
    "df_scaled = pd.DataFrame(scaler.fit_transform(df_imputation), columns=columns_considered)\n",
    "\n",
    "# KMeans clustering\n",
    "kmeans = KMeans(n_clusters=5, random_state=0)  # Adjust number of clusters as needed\n",
    "combined_df['cluster'] = kmeans.fit_predict(df_scaled)\n",
    "\n",
    "# cluster means\n",
    "cluster_means = df_scaled.groupby(combined_df['cluster']).mean()\n",
    "\n",
    "for column in columns_considered:\n",
    "    combined_df[column].fillna(\n",
    "        value=combined_df['cluster'].map(cluster_means[column]),\n",
    "        inplace=True\n",
    "    )\n",
    "\n",
    "\n",
    "combined_df.drop(columns='cluster', inplace=True)\n",
    "\n",
    "# Checkpoint for any left over missing values\n",
    "print(\"Missing values after imputation:\")\n",
    "print(combined_df.isnull().sum())"
   ],
   "execution_count":22,
   "outputs":[
    {
     "name":"stdout",
     "text":[
      "Missing values after imputation:\n",
      "Id              0\n",
      "LotArea         0\n",
      "MasVnrArea     23\n",
      "BsmtFinSF1      1\n",
      "BsmtFinSF2      1\n",
      "BsmtUnfSF       1\n",
      "TotalBsmtSF     0\n",
      "1stFlrSF        0\n",
      "2ndFlrSF        0\n",
      "GrLivArea       0\n",
      "GarageArea      1\n",
      "WoodDeckSF      0\n",
      "OpenPorchSF     0\n",
      "SalePrice       0\n",
      "dtype: int64\n"
     ],
     "output_type":"stream"
    },
    {
     "name":"stderr",
     "text":[
      "\/opt\/python\/envs\/default\/lib\/python3.8\/site-packages\/sklearn\/cluster\/_kmeans.py:870: FutureWarning: The default value of `n_init` will change from 10 to 'auto' in 1.4. Set the value of `n_init` explicitly to suppress the warning\n",
      "  warnings.warn(\n"
     ],
     "output_type":"stream"
    }
   ],
   "metadata":{
    "datalore":{
     "node_id":"L5txGyoHUXWc13c3YaHSyj",
     "type":"CODE",
     "hide_input_from_viewers":true,
     "hide_output_from_viewers":true
    }
   }
  },
  {
   "cell_type":"markdown",
   "source":[
    "#### due to the low amount of missing values left, I decided to simply fill them in with the mean value "
   ],
   "attachments":{
    
   },
   "metadata":{
    "datalore":{
     "node_id":"ZYtNhqLmFNBa0ZOjCI1ayV",
     "type":"MD",
     "hide_input_from_viewers":true,
     "hide_output_from_viewers":true
    }
   }
  },
  {
   "cell_type":"code",
   "source":[
    "import pandas as pd\n",
    "\n",
    "columns_with_missing = ['MasVnrArea', 'BsmtFinSF1', 'BsmtFinSF2', 'BsmtUnfSF', 'GarageArea']\n",
    "\n",
    "combined_df[columns_with_missing] = combined_df[columns_with_missing].fillna(combined_df[columns_with_missing].mean())\n",
    "\n",
    "# Checkpoint for any more missing values\n",
    "missing_values_after_imputation = combined_df.isnull().sum()\n",
    "print(\"Missing values after mean imputation:\")\n",
    "print(missing_values_after_imputation)\n",
    "\n",
    "if missing_values_after_imputation.max() == 0:\n",
    "    print(\"No more missing values after imputation.\")\n",
    "else:\n",
    "    print(\"There are still missing values after imputation. Check the data.\")"
   ],
   "execution_count":23,
   "outputs":[
    {
     "name":"stdout",
     "text":[
      "Missing values after mean imputation:\n",
      "Id             0\n",
      "LotArea        0\n",
      "MasVnrArea     0\n",
      "BsmtFinSF1     0\n",
      "BsmtFinSF2     0\n",
      "BsmtUnfSF      0\n",
      "TotalBsmtSF    0\n",
      "1stFlrSF       0\n",
      "2ndFlrSF       0\n",
      "GrLivArea      0\n",
      "GarageArea     0\n",
      "WoodDeckSF     0\n",
      "OpenPorchSF    0\n",
      "SalePrice      0\n",
      "dtype: int64\n",
      "No more missing values after imputation.\n"
     ],
     "output_type":"stream"
    }
   ],
   "metadata":{
    "datalore":{
     "node_id":"l8Fp1q6qv4o4Hq9uWUw22f",
     "type":"CODE",
     "hide_input_from_viewers":true,
     "hide_output_from_viewers":true
    }
   }
  },
  {
   "cell_type":"markdown",
   "source":[
    "### identifying 0 values within the dataset"
   ],
   "attachments":{
    
   },
   "metadata":{
    "datalore":{
     "node_id":"9l0jha7ARPpImJKYzsMzMf",
     "type":"MD",
     "hide_input_from_viewers":true,
     "hide_output_from_viewers":true
    }
   }
  },
  {
   "cell_type":"code",
   "source":[
    "import pandas as pd\n",
    "\n",
    "# Checking for 0 values\n",
    "zero_counts = (combined_df == 0).sum()\n",
    "\n",
    "columns_with_zeros = zero_counts[zero_counts > 0].index\n",
    "print(f\"Columns with 0 values: {list(columns_with_zeros)}\")\n",
    "\n",
    "for column in columns_with_zeros:\n",
    "    zero_indices = combined_df[column].index[combined_df[column] == 0].tolist()\n",
    "    zero_count = len(zero_indices)\n",
    "    \n",
    "    print(f\"Column '{column}' has {zero_count} zero values.\")\n",
    "    print(f\"Indices with 0 values in '{column}': {zero_indices}\")\n",
    "    print(f\"0 values in '{column}': {combined_df[column][zero_indices].tolist()}\\n\")"
   ],
   "execution_count":24,
   "outputs":[
    {
     "name":"stdout",
     "text":[
      "Columns with 0 values: ['MasVnrArea', 'BsmtFinSF1', 'BsmtFinSF2', 'BsmtUnfSF', 'TotalBsmtSF', '2ndFlrSF', 'GarageArea', 'WoodDeckSF', 'OpenPorchSF']\n",
      "Column 'MasVnrArea' has 1738 zero values.\n",
      "Indices with 0 values in 'MasVnrArea': [1, 3, 5, 8, 9, 10, 12, 15, 17, 18, 19, 21, 23, 24, 26, 28, 29, 30, 31, 32, 33, 36, 38, 39, 41, 42, 43, 44, 46, 47, 48, 49, 50, 51, 52, 53, 54, 57, 59, 60, 61, 63, 68, 69, 71, 74, 75, 76, 77, 78, 79, 86, 88, 89, 90, 92, 93, 94, 98, 99, 102, 103, 106, 107, 108, 110, 111, 114, 117, 118, 119, 120, 121, 123, 124, 125, 126, 127, 132, 134, 139, 140, 141, 142, 146, 149, 150, 153, 154, 155, 156, 158, 160, 163, 164, 165, 166, 168, 170, 172, 175, 177, 179, 181, 183, 184, 185, 186, 187, 189, 190, 192, 194, 195, 197, 198, 200, 201, 202, 204, 205, 206, 207, 210, 211, 212, 213, 217, 220, 221, 222, 223, 228, 233, 237, 239, 241, 242, 243, 244, 246, 247, 250, 252, 254, 256, 259, 263, 264, 266, 267, 268, 270, 271, 274, 275, 276, 277, 284, 285, 286, 287, 289, 290, 291, 292, 295, 296, 299, 301, 303, 304, 307, 308, 309, 311, 312, 313, 314, 315, 317, 323, 325, 326, 328, 329, 331, 334, 335, 338, 340, 341, 344, 345, 346, 351, 352, 353, 354, 355, 357, 360, 361, 365, 369, 370, 371, 372, 373, 374, 375, 376, 377, 380, 381, 382, 383, 384, 386, 390, 391, 392, 393, 394, 395, 396, 398, 400, 401, 402, 404, 405, 406, 407, 410, 411, 413, 414, 415, 417, 418, 419, 422, 425, 427, 429, 431, 433, 434, 435, 436, 437, 438, 439, 442, 444, 445, 446, 447, 448, 449, 450, 451, 453, 454, 456, 457, 458, 461, 462, 463, 466, 470, 471, 474, 475, 482, 484, 485, 487, 488, 489, 490, 491, 492, 493, 494, 495, 496, 497, 499, 501, 502, 503, 504, 507, 508, 512, 513, 514, 518, 519, 520, 521, 522, 525, 526, 528, 531, 532, 533, 534, 535, 536, 537, 542, 544, 546, 547, 548, 549, 550, 551, 553, 555, 556, 557, 558, 561, 562, 563, 564, 565, 568, 569, 572, 573, 575, 576, 578, 583, 584, 586, 587, 588, 589, 590, 592, 594, 596, 599, 601, 602, 603, 606, 607, 608, 613, 614, 616, 617, 620, 621, 626, 630, 633, 634, 635, 636, 637, 638, 639, 641, 642, 645, 646, 649, 651, 652, 653, 657, 658, 659, 663, 664, 668, 669, 670, 671, 672, 674, 675, 676, 677, 680, 681, 682, 685, 686, 687, 688, 693, 694, 696, 697, 698, 699, 703, 705, 708, 710, 711, 712, 716, 717, 719, 720, 722, 723, 725, 729, 730, 733, 734, 735, 736, 737, 738, 739, 740, 741, 743, 744, 746, 747, 749, 750, 751, 752, 754, 756, 760, 761, 762, 764, 767, 768, 770, 771, 772, 777, 781, 782, 784, 785, 786, 787, 788, 791, 792, 794, 797, 800, 801, 802, 804, 806, 807, 809, 812, 814, 816, 820, 821, 822, 823, 824, 826, 827, 828, 829, 831, 835, 836, 838, 839, 840, 841, 843, 844, 845, 847, 848, 852, 854, 855, 856, 857, 860, 861, 862, 863, 864, 867, 868, 870, 872, 873, 874, 875, 876, 878, 880, 882, 883, 887, 888, 890, 892, 893, 894, 896, 897, 899, 900, 901, 902, 907, 908, 909, 911, 912, 913, 916, 917, 918, 919, 921, 922, 923, 925, 928, 930, 931, 934, 937, 938, 939, 940, 942, 943, 945, 949, 950, 951, 952, 956, 957, 958, 959, 960, 962, 963, 965, 966, 968, 970, 972, 974, 975, 976, 978, 979, 983, 984, 985, 986, 989, 991, 993, 995, 996, 998, 1000, 1001, 1006, 1007, 1009, 1010, 1011, 1012, 1013, 1015, 1017, 1020, 1022, 1024, 1025, 1028, 1030, 1031, 1032, 1034, 1035, 1038, 1039, 1044, 1045, 1047, 1049, 1050, 1051, 1057, 1060, 1061, 1062, 1063, 1065, 1066, 1068, 1069, 1071, 1072, 1074, 1075, 1076, 1077, 1079, 1081, 1084, 1085, 1086, 1087, 1089, 1090, 1092, 1094, 1095, 1096, 1097, 1098, 1100, 1101, 1103, 1106, 1107, 1108, 1110, 1112, 1113, 1114, 1116, 1117, 1118, 1119, 1120, 1122, 1123, 1125, 1127, 1128, 1130, 1131, 1132, 1133, 1134, 1135, 1136, 1137, 1138, 1139, 1140, 1143, 1144, 1145, 1147, 1148, 1149, 1150, 1152, 1153, 1155, 1156, 1160, 1162, 1163, 1164, 1167, 1168, 1170, 1171, 1172, 1173, 1174, 1176, 1177, 1178, 1179, 1180, 1182, 1183, 1185, 1186, 1187, 1189, 1192, 1195, 1196, 1197, 1198, 1200, 1201, 1202, 1204, 1206, 1208, 1210, 1211, 1212, 1213, 1214, 1215, 1216, 1218, 1220, 1221, 1224, 1229, 1232, 1234, 1235, 1237, 1238, 1241, 1244, 1246, 1248, 1249, 1250, 1252, 1253, 1255, 1257, 1259, 1260, 1261, 1262, 1263, 1264, 1266, 1267, 1270, 1271, 1274, 1276, 1279, 1282, 1283, 1284, 1285, 1288, 1292, 1293, 1294, 1299, 1301, 1307, 1308, 1310, 1314, 1315, 1317, 1320, 1321, 1322, 1323, 1325, 1326, 1327, 1328, 1329, 1331, 1332, 1333, 1337, 1338, 1339, 1340, 1341, 1343, 1344, 1345, 1346, 1348, 1349, 1352, 1354, 1357, 1360, 1362, 1363, 1364, 1365, 1367, 1370, 1371, 1372, 1374, 1376, 1377, 1379, 1380, 1381, 1382, 1383, 1384, 1385, 1387, 1389, 1391, 1392, 1393, 1396, 1397, 1398, 1399, 1400, 1401, 1402, 1404, 1406, 1407, 1408, 1410, 1411, 1412, 1414, 1416, 1418, 1421, 1423, 1424, 1427, 1430, 1431, 1432, 1434, 1436, 1438, 1440, 1443, 1445, 1448, 1449, 1450, 1453, 1454, 1455, 1457, 1458, 1459, 1460, 1462, 1464, 1465, 1466, 1467, 1468, 1469, 1470, 1473, 1474, 1482, 1484, 1485, 1488, 1489, 1491, 1495, 1496, 1498, 1501, 1502, 1503, 1504, 1506, 1507, 1508, 1510, 1512, 1517, 1522, 1523, 1524, 1525, 1526, 1527, 1528, 1531, 1532, 1533, 1534, 1535, 1536, 1537, 1538, 1539, 1540, 1541, 1542, 1543, 1544, 1545, 1547, 1548, 1549, 1550, 1551, 1552, 1553, 1555, 1556, 1557, 1558, 1559, 1562, 1563, 1564, 1565, 1566, 1568, 1569, 1570, 1571, 1573, 1577, 1578, 1579, 1580, 1581, 1583, 1585, 1586, 1587, 1588, 1589, 1590, 1592, 1593, 1594, 1598, 1599, 1600, 1601, 1602, 1604, 1605, 1606, 1608, 1609, 1610, 1611, 1612, 1613, 1614, 1615, 1616, 1617, 1618, 1619, 1620, 1621, 1622, 1623, 1624, 1626, 1629, 1630, 1631, 1632, 1633, 1634, 1641, 1642, 1643, 1646, 1647, 1649, 1650, 1653, 1654, 1655, 1656, 1657, 1658, 1661, 1683, 1684, 1686, 1688, 1689, 1690, 1692, 1693, 1694, 1696, 1707, 1712, 1713, 1714, 1715, 1716, 1717, 1718, 1720, 1721, 1722, 1725, 1726, 1727, 1729, 1730, 1731, 1732, 1733, 1734, 1738, 1744, 1746, 1751, 1752, 1755, 1756, 1761, 1763, 1764, 1769, 1770, 1771, 1772, 1775, 1776, 1777, 1779, 1780, 1781, 1782, 1783, 1784, 1785, 1786, 1787, 1788, 1789, 1792, 1793, 1796, 1797, 1798, 1799, 1800, 1801, 1804, 1805, 1806, 1807, 1808, 1809, 1810, 1811, 1812, 1813, 1814, 1815, 1816, 1817, 1818, 1819, 1820, 1821, 1822, 1823, 1824, 1826, 1827, 1828, 1829, 1830, 1831, 1832, 1833, 1835, 1836, 1837, 1838, 1839, 1840, 1841, 1844, 1847, 1848, 1849, 1850, 1851, 1853, 1855, 1856, 1857, 1858, 1860, 1866, 1868, 1871, 1872, 1873, 1874, 1880, 1883, 1888, 1889, 1891, 1892, 1895, 1897, 1898, 1899, 1900, 1901, 1902, 1903, 1905, 1907, 1908, 1909, 1911, 1912, 1913, 1915, 1916, 1917, 1918, 1919, 1922, 1924, 1928, 1929, 1930, 1931, 1933, 1935, 1936, 1937, 1938, 1939, 1940, 1942, 1945, 1954, 1958, 1960, 1964, 1965, 1987, 1988, 1993, 1994, 1998, 2005, 2008, 2011, 2015, 2016, 2017, 2018, 2019, 2020, 2022, 2025, 2026, 2027, 2031, 2037, 2038, 2040, 2042, 2043, 2044, 2045, 2046, 2047, 2048, 2049, 2050, 2051, 2052, 2053, 2055, 2059, 2061, 2064, 2066, 2067, 2068, 2069, 2070, 2071, 2072, 2075, 2076, 2077, 2078, 2079, 2080, 2081, 2082, 2083, 2084, 2085, 2086, 2087, 2088, 2089, 2090, 2091, 2092, 2093, 2094, 2095, 2096, 2097, 2098, 2099, 2100, 2101, 2102, 2103, 2104, 2105, 2106, 2108, 2109, 2110, 2111, 2112, 2113, 2114, 2115, 2116, 2117, 2118, 2119, 2120, 2121, 2122, 2123, 2124, 2125, 2126, 2127, 2128, 2129, 2130, 2131, 2132, 2133, 2134, 2135, 2136, 2137, 2139, 2142, 2143, 2144, 2145, 2147, 2148, 2149, 2150, 2151, 2152, 2153, 2157, 2158, 2159, 2164, 2165, 2169, 2172, 2176, 2179, 2182, 2183, 2186, 2187, 2188, 2189, 2191, 2192, 2193, 2195, 2196, 2198, 2199, 2200, 2201, 2202, 2203, 2204, 2207, 2208, 2209, 2210, 2211, 2212, 2213, 2214, 2216, 2217, 2218, 2219, 2223, 2224, 2225, 2228, 2229, 2234, 2235, 2238, 2241, 2242, 2243, 2244, 2245, 2246, 2247, 2248, 2249, 2250, 2252, 2254, 2255, 2256, 2258, 2260, 2261, 2264, 2268, 2276, 2277, 2279, 2280, 2281, 2284, 2288, 2295, 2303, 2312, 2314, 2315, 2316, 2319, 2322, 2323, 2324, 2327, 2328, 2329, 2332, 2336, 2343, 2344, 2345, 2346, 2347, 2348, 2350, 2353, 2354, 2357, 2358, 2359, 2360, 2363, 2364, 2367, 2371, 2372, 2373, 2374, 2376, 2379, 2381, 2384, 2386, 2387, 2388, 2389, 2391, 2397, 2398, 2399, 2400, 2402, 2405, 2407, 2410, 2411, 2412, 2413, 2415, 2416, 2417, 2418, 2419, 2420, 2421, 2422, 2423, 2424, 2425, 2426, 2430, 2431, 2432, 2433, 2434, 2435, 2436, 2437, 2438, 2439, 2440, 2441, 2443, 2444, 2445, 2446, 2447, 2448, 2449, 2450, 2451, 2453, 2454, 2455, 2456, 2457, 2458, 2459, 2460, 2461, 2462, 2463, 2464, 2465, 2466, 2467, 2468, 2470, 2471, 2472, 2473, 2474, 2475, 2476, 2478, 2481, 2484, 2485, 2487, 2488, 2490, 2492, 2493, 2494, 2496, 2497, 2498, 2500, 2501, 2502, 2503, 2504, 2506, 2510, 2511, 2513, 2514, 2515, 2516, 2517, 2518, 2520, 2522, 2525, 2526, 2527, 2528, 2529, 2530, 2531, 2537, 2538, 2539, 2540, 2541, 2544, 2546, 2547, 2548, 2551, 2553, 2554, 2555, 2556, 2557, 2558, 2559, 2560, 2561, 2562, 2563, 2564, 2565, 2566, 2568, 2569, 2570, 2571, 2573, 2574, 2575, 2576, 2577, 2578, 2579, 2580, 2581, 2583, 2585, 2586, 2588, 2591, 2593, 2599, 2601, 2602, 2604, 2606, 2607, 2608, 2609, 2611, 2612, 2613, 2619, 2620, 2621, 2624, 2626, 2637, 2640, 2641, 2647, 2648, 2649, 2650, 2658, 2666, 2667, 2668, 2670, 2675, 2676, 2677, 2688, 2689, 2690, 2691, 2693, 2696, 2697, 2698, 2699, 2700, 2702, 2703, 2704, 2706, 2707, 2708, 2709, 2712, 2713, 2715, 2716, 2717, 2720, 2723, 2724, 2726, 2728, 2730, 2731, 2732, 2735, 2736, 2737, 2738, 2740, 2743, 2745, 2747, 2748, 2749, 2750, 2751, 2752, 2753, 2754, 2755, 2756, 2757, 2758, 2759, 2764, 2765, 2766, 2767, 2768, 2769, 2770, 2771, 2772, 2774, 2775, 2776, 2777, 2778, 2779, 2780, 2781, 2782, 2783, 2785, 2786, 2787, 2788, 2789, 2790, 2791, 2792, 2793, 2794, 2795, 2796, 2797, 2798, 2799, 2800, 2802, 2803, 2804, 2805, 2806, 2808, 2809, 2812, 2816, 2818, 2819, 2820, 2821, 2822, 2826, 2828, 2829, 2830, 2831, 2833, 2836, 2837, 2839, 2840, 2841, 2844, 2847, 2848, 2850, 2852, 2854, 2855, 2856, 2857, 2858, 2860, 2863, 2866, 2867, 2868, 2870, 2871, 2872, 2873, 2874, 2875, 2876, 2877, 2878, 2879, 2880, 2881, 2883, 2884, 2886, 2887, 2888, 2889, 2891, 2892, 2893, 2896, 2897, 2898, 2900, 2901, 2904, 2906, 2907, 2908, 2909, 2910, 2912, 2913, 2914, 2915, 2916, 2917]\n",
      "0 values in 'MasVnrArea': [0.0, 0.0, 0.0, 0.0, 0.0, 0.0, 0.0, 0.0, 0.0, 0.0, 0.0, 0.0, 0.0, 0.0, 0.0, 0.0, 0.0, 0.0, 0.0, 0.0, 0.0, 0.0, 0.0, 0.0, 0.0, 0.0, 0.0, 0.0, 0.0, 0.0, 0.0, 0.0, 0.0, 0.0, 0.0, 0.0, 0.0, 0.0, 0.0, 0.0, 0.0, 0.0, 0.0, 0.0, 0.0, 0.0, 0.0, 0.0, 0.0, 0.0, 0.0, 0.0, 0.0, 0.0, 0.0, 0.0, 0.0, 0.0, 0.0, 0.0, 0.0, 0.0, 0.0, 0.0, 0.0, 0.0, 0.0, 0.0, 0.0, 0.0, 0.0, 0.0, 0.0, 0.0, 0.0, 0.0, 0.0, 0.0, 0.0, 0.0, 0.0, 0.0, 0.0, 0.0, 0.0, 0.0, 0.0, 0.0, 0.0, 0.0, 0.0, 0.0, 0.0, 0.0, 0.0, 0.0, 0.0, 0.0, 0.0, 0.0, 0.0, 0.0, 0.0, 0.0, 0.0, 0.0, 0.0, 0.0, 0.0, 0.0, 0.0, 0.0, 0.0, 0.0, 0.0, 0.0, 0.0, 0.0, 0.0, 0.0, 0.0, 0.0, 0.0, 0.0, 0.0, 0.0, 0.0, 0.0, 0.0, 0.0, 0.0, 0.0, 0.0, 0.0, 0.0, 0.0, 0.0, 0.0, 0.0, 0.0, 0.0, 0.0, 0.0, 0.0, 0.0, 0.0, 0.0, 0.0, 0.0, 0.0, 0.0, 0.0, 0.0, 0.0, 0.0, 0.0, 0.0, 0.0, 0.0, 0.0, 0.0, 0.0, 0.0, 0.0, 0.0, 0.0, 0.0, 0.0, 0.0, 0.0, 0.0, 0.0, 0.0, 0.0, 0.0, 0.0, 0.0, 0.0, 0.0, 0.0, 0.0, 0.0, 0.0, 0.0, 0.0, 0.0, 0.0, 0.0, 0.0, 0.0, 0.0, 0.0, 0.0, 0.0, 0.0, 0.0, 0.0, 0.0, 0.0, 0.0, 0.0, 0.0, 0.0, 0.0, 0.0, 0.0, 0.0, 0.0, 0.0, 0.0, 0.0, 0.0, 0.0, 0.0, 0.0, 0.0, 0.0, 0.0, 0.0, 0.0, 0.0, 0.0, 0.0, 0.0, 0.0, 0.0, 0.0, 0.0, 0.0, 0.0, 0.0, 0.0, 0.0, 0.0, 0.0, 0.0, 0.0, 0.0, 0.0, 0.0, 0.0, 0.0, 0.0, 0.0, 0.0, 0.0, 0.0, 0.0, 0.0, 0.0, 0.0, 0.0, 0.0, 0.0, 0.0, 0.0, 0.0, 0.0, 0.0, 0.0, 0.0, 0.0, 0.0, 0.0, 0.0, 0.0, 0.0, 0.0, 0.0, 0.0, 0.0, 0.0, 0.0, 0.0, 0.0, 0.0, 0.0, 0.0, 0.0, 0.0, 0.0, 0.0, 0.0, 0.0, 0.0, 0.0, 0.0, 0.0, 0.0, 0.0, 0.0, 0.0, 0.0, 0.0, 0.0, 0.0, 0.0, 0.0, 0.0, 0.0, 0.0, 0.0, 0.0, 0.0, 0.0, 0.0, 0.0, 0.0, 0.0, 0.0, 0.0, 0.0, 0.0, 0.0, 0.0, 0.0, 0.0, 0.0, 0.0, 0.0, 0.0, 0.0, 0.0, 0.0, 0.0, 0.0, 0.0, 0.0, 0.0, 0.0, 0.0, 0.0, 0.0, 0.0, 0.0, 0.0, 0.0, 0.0, 0.0, 0.0, 0.0, 0.0, 0.0, 0.0, 0.0, 0.0, 0.0, 0.0, 0.0, 0.0, 0.0, 0.0, 0.0, 0.0, 0.0, 0.0, 0.0, 0.0, 0.0, 0.0, 0.0, 0.0, 0.0, 0.0, 0.0, 0.0, 0.0, 0.0, 0.0, 0.0, 0.0, 0.0, 0.0, 0.0, 0.0, 0.0, 0.0, 0.0, 0.0, 0.0, 0.0, 0.0, 0.0, 0.0, 0.0, 0.0, 0.0, 0.0, 0.0, 0.0, 0.0, 0.0, 0.0, 0.0, 0.0, 0.0, 0.0, 0.0, 0.0, 0.0, 0.0, 0.0, 0.0, 0.0, 0.0, 0.0, 0.0, 0.0, 0.0, 0.0, 0.0, 0.0, 0.0, 0.0, 0.0, 0.0, 0.0, 0.0, 0.0, 0.0, 0.0, 0.0, 0.0, 0.0, 0.0, 0.0, 0.0, 0.0, 0.0, 0.0, 0.0, 0.0, 0.0, 0.0, 0.0, 0.0, 0.0, 0.0, 0.0, 0.0, 0.0, 0.0, 0.0, 0.0, 0.0, 0.0, 0.0, 0.0, 0.0, 0.0, 0.0, 0.0, 0.0, 0.0, 0.0, 0.0, 0.0, 0.0, 0.0, 0.0, 0.0, 0.0, 0.0, 0.0, 0.0, 0.0, 0.0, 0.0, 0.0, 0.0, 0.0, 0.0, 0.0, 0.0, 0.0, 0.0, 0.0, 0.0, 0.0, 0.0, 0.0, 0.0, 0.0, 0.0, 0.0, 0.0, 0.0, 0.0, 0.0, 0.0, 0.0, 0.0, 0.0, 0.0, 0.0, 0.0, 0.0, 0.0, 0.0, 0.0, 0.0, 0.0, 0.0, 0.0, 0.0, 0.0, 0.0, 0.0, 0.0, 0.0, 0.0, 0.0, 0.0, 0.0, 0.0, 0.0, 0.0, 0.0, 0.0, 0.0, 0.0, 0.0, 0.0, 0.0, 0.0, 0.0, 0.0, 0.0, 0.0, 0.0, 0.0, 0.0, 0.0, 0.0, 0.0, 0.0, 0.0, 0.0, 0.0, 0.0, 0.0, 0.0, 0.0, 0.0, 0.0, 0.0, 0.0, 0.0, 0.0, 0.0, 0.0, 0.0, 0.0, 0.0, 0.0, 0.0, 0.0, 0.0, 0.0, 0.0, 0.0, 0.0, 0.0, 0.0, 0.0, 0.0, 0.0, 0.0, 0.0, 0.0, 0.0, 0.0, 0.0, 0.0, 0.0, 0.0, 0.0, 0.0, 0.0, 0.0, 0.0, 0.0, 0.0, 0.0, 0.0, 0.0, 0.0, 0.0, 0.0, 0.0, 0.0, 0.0, 0.0, 0.0, 0.0, 0.0, 0.0, 0.0, 0.0, 0.0, 0.0, 0.0, 0.0, 0.0, 0.0, 0.0, 0.0, 0.0, 0.0, 0.0, 0.0, 0.0, 0.0, 0.0, 0.0, 0.0, 0.0, 0.0, 0.0, 0.0, 0.0, 0.0, 0.0, 0.0, 0.0, 0.0, 0.0, 0.0, 0.0, 0.0, 0.0, 0.0, 0.0, 0.0, 0.0, 0.0, 0.0, 0.0, 0.0, 0.0, 0.0, 0.0, 0.0, 0.0, 0.0, 0.0, 0.0, 0.0, 0.0, 0.0, 0.0, 0.0, 0.0, 0.0, 0.0, 0.0, 0.0, 0.0, 0.0, 0.0, 0.0, 0.0, 0.0, 0.0, 0.0, 0.0, 0.0, 0.0, 0.0, 0.0, 0.0, 0.0, 0.0, 0.0, 0.0, 0.0, 0.0, 0.0, 0.0, 0.0, 0.0, 0.0, 0.0, 0.0, 0.0, 0.0, 0.0, 0.0, 0.0, 0.0, 0.0, 0.0, 0.0, 0.0, 0.0, 0.0, 0.0, 0.0, 0.0, 0.0, 0.0, 0.0, 0.0, 0.0, 0.0, 0.0, 0.0, 0.0, 0.0, 0.0, 0.0, 0.0, 0.0, 0.0, 0.0, 0.0, 0.0, 0.0, 0.0, 0.0, 0.0, 0.0, 0.0, 0.0, 0.0, 0.0, 0.0, 0.0, 0.0, 0.0, 0.0, 0.0, 0.0, 0.0, 0.0, 0.0, 0.0, 0.0, 0.0, 0.0, 0.0, 0.0, 0.0, 0.0, 0.0, 0.0, 0.0, 0.0, 0.0, 0.0, 0.0, 0.0, 0.0, 0.0, 0.0, 0.0, 0.0, 0.0, 0.0, 0.0, 0.0, 0.0, 0.0, 0.0, 0.0, 0.0, 0.0, 0.0, 0.0, 0.0, 0.0, 0.0, 0.0, 0.0, 0.0, 0.0, 0.0, 0.0, 0.0, 0.0, 0.0, 0.0, 0.0, 0.0, 0.0, 0.0, 0.0, 0.0, 0.0, 0.0, 0.0, 0.0, 0.0, 0.0, 0.0, 0.0, 0.0, 0.0, 0.0, 0.0, 0.0, 0.0, 0.0, 0.0, 0.0, 0.0, 0.0, 0.0, 0.0, 0.0, 0.0, 0.0, 0.0, 0.0, 0.0, 0.0, 0.0, 0.0, 0.0, 0.0, 0.0, 0.0, 0.0, 0.0, 0.0, 0.0, 0.0, 0.0, 0.0, 0.0, 0.0, 0.0, 0.0, 0.0, 0.0, 0.0, 0.0, 0.0, 0.0, 0.0, 0.0, 0.0, 0.0, 0.0, 0.0, 0.0, 0.0, 0.0, 0.0, 0.0, 0.0, 0.0, 0.0, 0.0, 0.0, 0.0, 0.0, 0.0, 0.0, 0.0, 0.0, 0.0, 0.0, 0.0, 0.0, 0.0, 0.0, 0.0, 0.0, 0.0, 0.0, 0.0, 0.0, 0.0, 0.0, 0.0, 0.0, 0.0, 0.0, 0.0, 0.0, 0.0, 0.0, 0.0, 0.0, 0.0, 0.0, 0.0, 0.0, 0.0, 0.0, 0.0, 0.0, 0.0, 0.0, 0.0, 0.0, 0.0, 0.0, 0.0, 0.0, 0.0, 0.0, 0.0, 0.0, 0.0, 0.0, 0.0, 0.0, 0.0, 0.0, 0.0, 0.0, 0.0, 0.0, 0.0, 0.0, 0.0, 0.0, 0.0, 0.0, 0.0, 0.0, 0.0, 0.0, 0.0, 0.0, 0.0, 0.0, 0.0, 0.0, 0.0, 0.0, 0.0, 0.0, 0.0, 0.0, 0.0, 0.0, 0.0, 0.0, 0.0, 0.0, 0.0, 0.0, 0.0, 0.0, 0.0, 0.0, 0.0, 0.0, 0.0, 0.0, 0.0, 0.0, 0.0, 0.0, 0.0, 0.0, 0.0, 0.0, 0.0, 0.0, 0.0, 0.0, 0.0, 0.0, 0.0, 0.0, 0.0, 0.0, 0.0, 0.0, 0.0, 0.0, 0.0, 0.0, 0.0, 0.0, 0.0, 0.0, 0.0, 0.0, 0.0, 0.0, 0.0, 0.0, 0.0, 0.0, 0.0, 0.0, 0.0, 0.0, 0.0, 0.0, 0.0, 0.0, 0.0, 0.0, 0.0, 0.0, 0.0, 0.0, 0.0, 0.0, 0.0, 0.0, 0.0, 0.0, 0.0, 0.0, 0.0, 0.0, 0.0, 0.0, 0.0, 0.0, 0.0, 0.0, 0.0, 0.0, 0.0, 0.0, 0.0, 0.0, 0.0, 0.0, 0.0, 0.0, 0.0, 0.0, 0.0, 0.0, 0.0, 0.0, 0.0, 0.0, 0.0, 0.0, 0.0, 0.0, 0.0, 0.0, 0.0, 0.0, 0.0, 0.0, 0.0, 0.0, 0.0, 0.0, 0.0, 0.0, 0.0, 0.0, 0.0, 0.0, 0.0, 0.0, 0.0, 0.0, 0.0, 0.0, 0.0, 0.0, 0.0, 0.0, 0.0, 0.0, 0.0, 0.0, 0.0, 0.0, 0.0, 0.0, 0.0, 0.0, 0.0, 0.0, 0.0, 0.0, 0.0, 0.0, 0.0, 0.0, 0.0, 0.0, 0.0, 0.0, 0.0, 0.0, 0.0, 0.0, 0.0, 0.0, 0.0, 0.0, 0.0, 0.0, 0.0, 0.0, 0.0, 0.0, 0.0, 0.0, 0.0, 0.0, 0.0, 0.0, 0.0, 0.0, 0.0, 0.0, 0.0, 0.0, 0.0, 0.0, 0.0, 0.0, 0.0, 0.0, 0.0, 0.0, 0.0, 0.0, 0.0, 0.0, 0.0, 0.0, 0.0, 0.0, 0.0, 0.0, 0.0, 0.0, 0.0, 0.0, 0.0, 0.0, 0.0, 0.0, 0.0, 0.0, 0.0, 0.0, 0.0, 0.0, 0.0, 0.0, 0.0, 0.0, 0.0, 0.0, 0.0, 0.0, 0.0, 0.0, 0.0, 0.0, 0.0, 0.0, 0.0, 0.0, 0.0, 0.0, 0.0, 0.0, 0.0, 0.0, 0.0, 0.0, 0.0, 0.0, 0.0, 0.0, 0.0, 0.0, 0.0, 0.0, 0.0, 0.0, 0.0, 0.0, 0.0, 0.0, 0.0, 0.0, 0.0, 0.0, 0.0, 0.0, 0.0, 0.0, 0.0, 0.0, 0.0, 0.0, 0.0, 0.0, 0.0, 0.0, 0.0, 0.0, 0.0, 0.0, 0.0, 0.0, 0.0, 0.0, 0.0, 0.0, 0.0, 0.0, 0.0, 0.0, 0.0, 0.0, 0.0, 0.0, 0.0, 0.0, 0.0, 0.0, 0.0, 0.0, 0.0, 0.0, 0.0, 0.0, 0.0, 0.0, 0.0, 0.0, 0.0, 0.0, 0.0, 0.0, 0.0, 0.0, 0.0, 0.0, 0.0, 0.0, 0.0, 0.0, 0.0, 0.0, 0.0, 0.0, 0.0, 0.0, 0.0, 0.0, 0.0, 0.0, 0.0, 0.0, 0.0, 0.0, 0.0, 0.0, 0.0, 0.0, 0.0, 0.0, 0.0, 0.0, 0.0, 0.0, 0.0, 0.0, 0.0, 0.0, 0.0, 0.0, 0.0, 0.0, 0.0, 0.0, 0.0, 0.0, 0.0, 0.0, 0.0, 0.0, 0.0, 0.0, 0.0, 0.0, 0.0, 0.0, 0.0, 0.0, 0.0, 0.0, 0.0, 0.0, 0.0, 0.0, 0.0, 0.0, 0.0, 0.0, 0.0, 0.0, 0.0, 0.0, 0.0, 0.0, 0.0, 0.0, 0.0, 0.0, 0.0, 0.0, 0.0, 0.0, 0.0, 0.0, 0.0, 0.0, 0.0, 0.0, 0.0, 0.0, 0.0, 0.0, 0.0, 0.0, 0.0, 0.0, 0.0, 0.0, 0.0, 0.0, 0.0, 0.0, 0.0, 0.0, 0.0, 0.0, 0.0, 0.0, 0.0, 0.0, 0.0, 0.0, 0.0, 0.0, 0.0, 0.0, 0.0, 0.0, 0.0, 0.0, 0.0, 0.0, 0.0, 0.0, 0.0, 0.0, 0.0, 0.0, 0.0, 0.0, 0.0, 0.0, 0.0, 0.0, 0.0, 0.0, 0.0, 0.0, 0.0, 0.0, 0.0, 0.0, 0.0, 0.0, 0.0, 0.0, 0.0, 0.0, 0.0, 0.0, 0.0, 0.0, 0.0, 0.0, 0.0, 0.0, 0.0, 0.0, 0.0, 0.0, 0.0, 0.0, 0.0, 0.0, 0.0, 0.0, 0.0, 0.0, 0.0, 0.0, 0.0, 0.0, 0.0, 0.0, 0.0, 0.0, 0.0, 0.0, 0.0, 0.0, 0.0, 0.0, 0.0, 0.0, 0.0, 0.0, 0.0, 0.0, 0.0, 0.0, 0.0, 0.0, 0.0, 0.0, 0.0, 0.0, 0.0, 0.0, 0.0, 0.0, 0.0, 0.0, 0.0, 0.0, 0.0, 0.0, 0.0, 0.0, 0.0, 0.0, 0.0, 0.0, 0.0, 0.0, 0.0, 0.0, 0.0, 0.0, 0.0, 0.0, 0.0, 0.0, 0.0, 0.0, 0.0, 0.0, 0.0, 0.0, 0.0, 0.0, 0.0, 0.0, 0.0, 0.0, 0.0, 0.0, 0.0, 0.0, 0.0, 0.0, 0.0, 0.0, 0.0, 0.0, 0.0, 0.0, 0.0, 0.0, 0.0, 0.0, 0.0, 0.0, 0.0, 0.0, 0.0, 0.0, 0.0, 0.0, 0.0, 0.0, 0.0, 0.0, 0.0, 0.0, 0.0, 0.0, 0.0, 0.0, 0.0, 0.0, 0.0, 0.0, 0.0, 0.0, 0.0, 0.0, 0.0, 0.0, 0.0, 0.0, 0.0, 0.0, 0.0, 0.0, 0.0, 0.0, 0.0, 0.0, 0.0, 0.0, 0.0, 0.0, 0.0, 0.0, 0.0, 0.0, 0.0, 0.0, 0.0, 0.0, 0.0, 0.0, 0.0, 0.0, 0.0, 0.0, 0.0, 0.0, 0.0, 0.0, 0.0, 0.0, 0.0, 0.0, 0.0, 0.0, 0.0, 0.0, 0.0, 0.0, 0.0, 0.0, 0.0, 0.0, 0.0, 0.0, 0.0, 0.0, 0.0, 0.0, 0.0, 0.0, 0.0, 0.0, 0.0, 0.0, 0.0, 0.0, 0.0, 0.0, 0.0, 0.0, 0.0, 0.0, 0.0, 0.0, 0.0, 0.0, 0.0, 0.0, 0.0, 0.0, 0.0, 0.0, 0.0, 0.0, 0.0, 0.0, 0.0, 0.0, 0.0, 0.0, 0.0, 0.0, 0.0, 0.0, 0.0, 0.0, 0.0, 0.0, 0.0, 0.0, 0.0, 0.0, 0.0, 0.0, 0.0, 0.0, 0.0, 0.0, 0.0, 0.0, 0.0, 0.0, 0.0, 0.0, 0.0, 0.0, 0.0, 0.0, 0.0, 0.0, 0.0, 0.0, 0.0, 0.0, 0.0, 0.0, 0.0, 0.0, 0.0, 0.0, 0.0, 0.0, 0.0, 0.0, 0.0, 0.0, 0.0, 0.0, 0.0, 0.0, 0.0, 0.0, 0.0, 0.0, 0.0, 0.0, 0.0, 0.0, 0.0, 0.0, 0.0, 0.0, 0.0, 0.0, 0.0, 0.0, 0.0, 0.0, 0.0, 0.0, 0.0, 0.0, 0.0, 0.0, 0.0, 0.0, 0.0, 0.0, 0.0, 0.0, 0.0, 0.0, 0.0, 0.0, 0.0, 0.0, 0.0, 0.0, 0.0, 0.0, 0.0, 0.0, 0.0, 0.0, 0.0, 0.0, 0.0, 0.0, 0.0, 0.0, 0.0, 0.0, 0.0, 0.0, 0.0, 0.0, 0.0, 0.0, 0.0, 0.0, 0.0, 0.0, 0.0, 0.0, 0.0, 0.0, 0.0, 0.0, 0.0, 0.0, 0.0, 0.0, 0.0, 0.0, 0.0, 0.0, 0.0, 0.0, 0.0, 0.0, 0.0, 0.0, 0.0, 0.0, 0.0, 0.0, 0.0, 0.0, 0.0, 0.0, 0.0]\n",
      "\n",
      "Column 'BsmtFinSF1' has 929 zero values.\n",
      "Indices with 0 values in 'BsmtFinSF1': [8, 13, 15, 17, 20, 21, 22, 25, 29, 30, 31, 32, 35, 36, 39, 48, 51, 57, 58, 61, 63, 65, 68, 72, 74, 78, 79, 83, 84, 85, 86, 87, 88, 90, 101, 102, 103, 105, 106, 108, 117, 119, 121, 124, 135, 137, 145, 147, 149, 154, 155, 156, 157, 163, 168, 169, 179, 182, 183, 184, 185, 187, 193, 198, 200, 205, 206, 217, 220, 221, 225, 230, 232, 238, 242, 243, 246, 247, 248, 250, 252, 255, 259, 261, 264, 270, 275, 276, 278, 283, 285, 289, 290, 299, 302, 304, 307, 317, 320, 324, 328, 329, 340, 341, 342, 345, 350, 353, 362, 370, 371, 374, 377, 379, 381, 382, 383, 386, 388, 392, 394, 398, 402, 403, 404, 406, 407, 408, 410, 413, 422, 425, 431, 433, 436, 437, 439, 442, 443, 445, 447, 448, 450, 453, 456, 458, 465, 468, 471, 477, 490, 492, 494, 505, 511, 514, 516, 517, 519, 520, 525, 531, 532, 533, 534, 536, 541, 549, 552, 553, 555, 559, 563, 565, 566, 572, 573, 576, 578, 579, 581, 583, 584, 589, 594, 596, 597, 601, 603, 617, 625, 626, 630, 636, 637, 638, 646, 648, 650, 651, 652, 653, 655, 657, 658, 660, 662, 665, 669, 676, 677, 678, 684, 686, 693, 694, 701, 702, 703, 705, 708, 709, 710, 711, 715, 716, 723, 728, 734, 736, 737, 739, 740, 742, 747, 749, 750, 751, 753, 765, 774, 778, 780, 782, 784, 788, 793, 794, 795, 796, 798, 803, 805, 809, 812, 814, 815, 820, 821, 822, 823, 824, 829, 831, 838, 841, 843, 844, 848, 849, 851, 857, 858, 860, 864, 866, 868, 870, 872, 874, 882, 883, 887, 890, 894, 897, 902, 903, 909, 915, 926, 928, 929, 932, 935, 939, 943, 948, 963, 965, 968, 970, 972, 973, 974, 976, 982, 983, 984, 986, 989, 993, 997, 998, 1000, 1001, 1003, 1008, 1009, 1010, 1011, 1012, 1018, 1030, 1034, 1035, 1037, 1038, 1045, 1048, 1049, 1050, 1051, 1061, 1062, 1066, 1072, 1074, 1082, 1087, 1088, 1090, 1096, 1097, 1104, 1107, 1108, 1118, 1120, 1122, 1123, 1124, 1125, 1126, 1128, 1132, 1134, 1135, 1137, 1145, 1148, 1150, 1158, 1165, 1166, 1172, 1178, 1179, 1188, 1189, 1191, 1192, 1195, 1196, 1197, 1198, 1200, 1201, 1202, 1203, 1210, 1216, 1218, 1219, 1226, 1232, 1234, 1235, 1236, 1237, 1238, 1241, 1244, 1245, 1246, 1251, 1254, 1257, 1260, 1262, 1263, 1266, 1267, 1271, 1274, 1279, 1283, 1284, 1285, 1289, 1292, 1303, 1304, 1306, 1313, 1316, 1317, 1318, 1321, 1324, 1325, 1329, 1330, 1333, 1336, 1337, 1340, 1342, 1343, 1344, 1352, 1355, 1360, 1362, 1363, 1364, 1374, 1375, 1379, 1382, 1383, 1391, 1393, 1395, 1397, 1400, 1402, 1404, 1408, 1409, 1412, 1414, 1416, 1423, 1425, 1430, 1432, 1433, 1435, 1440, 1443, 1444, 1448, 1450, 1451, 1453, 1455, 1465, 1467, 1474, 1475, 1476, 1482, 1485, 1486, 1487, 1488, 1490, 1491, 1496, 1512, 1517, 1522, 1526, 1533, 1536, 1537, 1538, 1539, 1551, 1552, 1553, 1555, 1566, 1573, 1577, 1583, 1585, 1586, 1588, 1590, 1593, 1594, 1602, 1606, 1608, 1609, 1611, 1612, 1615, 1619, 1635, 1637, 1642, 1647, 1664, 1672, 1673, 1680, 1682, 1683, 1684, 1686, 1687, 1688, 1694, 1696, 1701, 1702, 1706, 1707, 1708, 1711, 1715, 1717, 1718, 1720, 1721, 1723, 1726, 1729, 1738, 1739, 1745, 1747, 1752, 1773, 1778, 1781, 1782, 1783, 1784, 1785, 1786, 1787, 1788, 1789, 1790, 1795, 1797, 1800, 1802, 1805, 1807, 1808, 1810, 1811, 1813, 1814, 1815, 1816, 1817, 1818, 1819, 1820, 1821, 1822, 1823, 1824, 1826, 1829, 1830, 1831, 1833, 1835, 1838, 1841, 1844, 1846, 1847, 1848, 1856, 1857, 1858, 1860, 1866, 1871, 1881, 1882, 1883, 1888, 1893, 1897, 1898, 1899, 1907, 1909, 1912, 1913, 1915, 1924, 1939, 1940, 1945, 1947, 1953, 1956, 1958, 1977, 1983, 1986, 1987, 1988, 1989, 1992, 1994, 1995, 1996, 1999, 2002, 2006, 2009, 2011, 2027, 2041, 2045, 2048, 2050, 2051, 2065, 2066, 2067, 2068, 2069, 2070, 2071, 2079, 2081, 2083, 2084, 2086, 2087, 2088, 2089, 2090, 2091, 2093, 2095, 2096, 2098, 2099, 2100, 2102, 2104, 2105, 2106, 2108, 2110, 2113, 2115, 2118, 2122, 2125, 2127, 2128, 2130, 2131, 2132, 2134, 2135, 2136, 2150, 2158, 2159, 2160, 2173, 2176, 2177, 2188, 2189, 2190, 2192, 2193, 2195, 2197, 2200, 2202, 2204, 2211, 2212, 2214, 2216, 2217, 2218, 2219, 2223, 2224, 2229, 2230, 2231, 2238, 2250, 2252, 2256, 2257, 2258, 2280, 2283, 2287, 2290, 2293, 2295, 2297, 2298, 2303, 2311, 2312, 2313, 2314, 2315, 2317, 2318, 2319, 2321, 2324, 2325, 2326, 2329, 2333, 2336, 2340, 2343, 2344, 2346, 2348, 2350, 2351, 2352, 2353, 2354, 2356, 2358, 2368, 2371, 2377, 2382, 2387, 2391, 2402, 2408, 2414, 2422, 2424, 2426, 2435, 2438, 2441, 2442, 2445, 2446, 2451, 2452, 2453, 2458, 2461, 2463, 2464, 2465, 2467, 2468, 2473, 2490, 2494, 2498, 2502, 2503, 2505, 2506, 2507, 2510, 2511, 2520, 2532, 2537, 2539, 2540, 2541, 2545, 2547, 2552, 2553, 2561, 2562, 2563, 2564, 2570, 2573, 2575, 2577, 2578, 2579, 2590, 2591, 2596, 2598, 2599, 2604, 2618, 2620, 2621, 2622, 2624, 2626, 2628, 2631, 2635, 2642, 2652, 2653, 2655, 2657, 2658, 2666, 2667, 2668, 2669, 2670, 2675, 2677, 2685, 2687, 2690, 2692, 2693, 2694, 2695, 2696, 2702, 2712, 2713, 2715, 2716, 2717, 2731, 2735, 2737, 2739, 2746, 2751, 2754, 2755, 2756, 2757, 2759, 2763, 2766, 2767, 2772, 2777, 2778, 2780, 2781, 2782, 2784, 2787, 2788, 2789, 2790, 2791, 2792, 2794, 2795, 2796, 2797, 2798, 2799, 2802, 2803, 2804, 2805, 2812, 2814, 2821, 2824, 2825, 2829, 2833, 2835, 2837, 2838, 2848, 2850, 2855, 2856, 2861, 2863, 2865, 2866, 2867, 2868, 2870, 2871, 2872, 2877, 2880, 2883, 2884, 2888, 2889, 2890, 2891, 2892, 2893, 2897, 2898, 2904, 2906, 2913, 2914]\n",
      "0 values in 'BsmtFinSF1': [0.0, 0.0, 0.0, 0.0, 0.0, 0.0, 0.0, 0.0, 0.0, 0.0, 0.0, 0.0, 0.0, 0.0, 0.0, 0.0, 0.0, 0.0, 0.0, 0.0, 0.0, 0.0, 0.0, 0.0, 0.0, 0.0, 0.0, 0.0, 0.0, 0.0, 0.0, 0.0, 0.0, 0.0, 0.0, 0.0, 0.0, 0.0, 0.0, 0.0, 0.0, 0.0, 0.0, 0.0, 0.0, 0.0, 0.0, 0.0, 0.0, 0.0, 0.0, 0.0, 0.0, 0.0, 0.0, 0.0, 0.0, 0.0, 0.0, 0.0, 0.0, 0.0, 0.0, 0.0, 0.0, 0.0, 0.0, 0.0, 0.0, 0.0, 0.0, 0.0, 0.0, 0.0, 0.0, 0.0, 0.0, 0.0, 0.0, 0.0, 0.0, 0.0, 0.0, 0.0, 0.0, 0.0, 0.0, 0.0, 0.0, 0.0, 0.0, 0.0, 0.0, 0.0, 0.0, 0.0, 0.0, 0.0, 0.0, 0.0, 0.0, 0.0, 0.0, 0.0, 0.0, 0.0, 0.0, 0.0, 0.0, 0.0, 0.0, 0.0, 0.0, 0.0, 0.0, 0.0, 0.0, 0.0, 0.0, 0.0, 0.0, 0.0, 0.0, 0.0, 0.0, 0.0, 0.0, 0.0, 0.0, 0.0, 0.0, 0.0, 0.0, 0.0, 0.0, 0.0, 0.0, 0.0, 0.0, 0.0, 0.0, 0.0, 0.0, 0.0, 0.0, 0.0, 0.0, 0.0, 0.0, 0.0, 0.0, 0.0, 0.0, 0.0, 0.0, 0.0, 0.0, 0.0, 0.0, 0.0, 0.0, 0.0, 0.0, 0.0, 0.0, 0.0, 0.0, 0.0, 0.0, 0.0, 0.0, 0.0, 0.0, 0.0, 0.0, 0.0, 0.0, 0.0, 0.0, 0.0, 0.0, 0.0, 0.0, 0.0, 0.0, 0.0, 0.0, 0.0, 0.0, 0.0, 0.0, 0.0, 0.0, 0.0, 0.0, 0.0, 0.0, 0.0, 0.0, 0.0, 0.0, 0.0, 0.0, 0.0, 0.0, 0.0, 0.0, 0.0, 0.0, 0.0, 0.0, 0.0, 0.0, 0.0, 0.0, 0.0, 0.0, 0.0, 0.0, 0.0, 0.0, 0.0, 0.0, 0.0, 0.0, 0.0, 0.0, 0.0, 0.0, 0.0, 0.0, 0.0, 0.0, 0.0, 0.0, 0.0, 0.0, 0.0, 0.0, 0.0, 0.0, 0.0, 0.0, 0.0, 0.0, 0.0, 0.0, 0.0, 0.0, 0.0, 0.0, 0.0, 0.0, 0.0, 0.0, 0.0, 0.0, 0.0, 0.0, 0.0, 0.0, 0.0, 0.0, 0.0, 0.0, 0.0, 0.0, 0.0, 0.0, 0.0, 0.0, 0.0, 0.0, 0.0, 0.0, 0.0, 0.0, 0.0, 0.0, 0.0, 0.0, 0.0, 0.0, 0.0, 0.0, 0.0, 0.0, 0.0, 0.0, 0.0, 0.0, 0.0, 0.0, 0.0, 0.0, 0.0, 0.0, 0.0, 0.0, 0.0, 0.0, 0.0, 0.0, 0.0, 0.0, 0.0, 0.0, 0.0, 0.0, 0.0, 0.0, 0.0, 0.0, 0.0, 0.0, 0.0, 0.0, 0.0, 0.0, 0.0, 0.0, 0.0, 0.0, 0.0, 0.0, 0.0, 0.0, 0.0, 0.0, 0.0, 0.0, 0.0, 0.0, 0.0, 0.0, 0.0, 0.0, 0.0, 0.0, 0.0, 0.0, 0.0, 0.0, 0.0, 0.0, 0.0, 0.0, 0.0, 0.0, 0.0, 0.0, 0.0, 0.0, 0.0, 0.0, 0.0, 0.0, 0.0, 0.0, 0.0, 0.0, 0.0, 0.0, 0.0, 0.0, 0.0, 0.0, 0.0, 0.0, 0.0, 0.0, 0.0, 0.0, 0.0, 0.0, 0.0, 0.0, 0.0, 0.0, 0.0, 0.0, 0.0, 0.0, 0.0, 0.0, 0.0, 0.0, 0.0, 0.0, 0.0, 0.0, 0.0, 0.0, 0.0, 0.0, 0.0, 0.0, 0.0, 0.0, 0.0, 0.0, 0.0, 0.0, 0.0, 0.0, 0.0, 0.0, 0.0, 0.0, 0.0, 0.0, 0.0, 0.0, 0.0, 0.0, 0.0, 0.0, 0.0, 0.0, 0.0, 0.0, 0.0, 0.0, 0.0, 0.0, 0.0, 0.0, 0.0, 0.0, 0.0, 0.0, 0.0, 0.0, 0.0, 0.0, 0.0, 0.0, 0.0, 0.0, 0.0, 0.0, 0.0, 0.0, 0.0, 0.0, 0.0, 0.0, 0.0, 0.0, 0.0, 0.0, 0.0, 0.0, 0.0, 0.0, 0.0, 0.0, 0.0, 0.0, 0.0, 0.0, 0.0, 0.0, 0.0, 0.0, 0.0, 0.0, 0.0, 0.0, 0.0, 0.0, 0.0, 0.0, 0.0, 0.0, 0.0, 0.0, 0.0, 0.0, 0.0, 0.0, 0.0, 0.0, 0.0, 0.0, 0.0, 0.0, 0.0, 0.0, 0.0, 0.0, 0.0, 0.0, 0.0, 0.0, 0.0, 0.0, 0.0, 0.0, 0.0, 0.0, 0.0, 0.0, 0.0, 0.0, 0.0, 0.0, 0.0, 0.0, 0.0, 0.0, 0.0, 0.0, 0.0, 0.0, 0.0, 0.0, 0.0, 0.0, 0.0, 0.0, 0.0, 0.0, 0.0, 0.0, 0.0, 0.0, 0.0, 0.0, 0.0, 0.0, 0.0, 0.0, 0.0, 0.0, 0.0, 0.0, 0.0, 0.0, 0.0, 0.0, 0.0, 0.0, 0.0, 0.0, 0.0, 0.0, 0.0, 0.0, 0.0, 0.0, 0.0, 0.0, 0.0, 0.0, 0.0, 0.0, 0.0, 0.0, 0.0, 0.0, 0.0, 0.0, 0.0, 0.0, 0.0, 0.0, 0.0, 0.0, 0.0, 0.0, 0.0, 0.0, 0.0, 0.0, 0.0, 0.0, 0.0, 0.0, 0.0, 0.0, 0.0, 0.0, 0.0, 0.0, 0.0, 0.0, 0.0, 0.0, 0.0, 0.0, 0.0, 0.0, 0.0, 0.0, 0.0, 0.0, 0.0, 0.0, 0.0, 0.0, 0.0, 0.0, 0.0, 0.0, 0.0, 0.0, 0.0, 0.0, 0.0, 0.0, 0.0, 0.0, 0.0, 0.0, 0.0, 0.0, 0.0, 0.0, 0.0, 0.0, 0.0, 0.0, 0.0, 0.0, 0.0, 0.0, 0.0, 0.0, 0.0, 0.0, 0.0, 0.0, 0.0, 0.0, 0.0, 0.0, 0.0, 0.0, 0.0, 0.0, 0.0, 0.0, 0.0, 0.0, 0.0, 0.0, 0.0, 0.0, 0.0, 0.0, 0.0, 0.0, 0.0, 0.0, 0.0, 0.0, 0.0, 0.0, 0.0, 0.0, 0.0, 0.0, 0.0, 0.0, 0.0, 0.0, 0.0, 0.0, 0.0, 0.0, 0.0, 0.0, 0.0, 0.0, 0.0, 0.0, 0.0, 0.0, 0.0, 0.0, 0.0, 0.0, 0.0, 0.0, 0.0, 0.0, 0.0, 0.0, 0.0, 0.0, 0.0, 0.0, 0.0, 0.0, 0.0, 0.0, 0.0, 0.0, 0.0, 0.0, 0.0, 0.0, 0.0, 0.0, 0.0, 0.0, 0.0, 0.0, 0.0, 0.0, 0.0, 0.0, 0.0, 0.0, 0.0, 0.0, 0.0, 0.0, 0.0, 0.0, 0.0, 0.0, 0.0, 0.0, 0.0, 0.0, 0.0, 0.0, 0.0, 0.0, 0.0, 0.0, 0.0, 0.0, 0.0, 0.0, 0.0, 0.0, 0.0, 0.0, 0.0, 0.0, 0.0, 0.0, 0.0, 0.0, 0.0, 0.0, 0.0, 0.0, 0.0, 0.0, 0.0, 0.0, 0.0, 0.0, 0.0, 0.0, 0.0, 0.0, 0.0, 0.0, 0.0, 0.0, 0.0, 0.0, 0.0, 0.0, 0.0, 0.0, 0.0, 0.0, 0.0, 0.0, 0.0, 0.0, 0.0, 0.0, 0.0, 0.0, 0.0, 0.0, 0.0, 0.0, 0.0, 0.0, 0.0, 0.0, 0.0, 0.0, 0.0, 0.0, 0.0, 0.0, 0.0, 0.0, 0.0, 0.0, 0.0, 0.0, 0.0, 0.0, 0.0, 0.0, 0.0, 0.0, 0.0, 0.0, 0.0, 0.0, 0.0, 0.0, 0.0, 0.0, 0.0, 0.0, 0.0, 0.0, 0.0, 0.0, 0.0, 0.0, 0.0, 0.0, 0.0, 0.0, 0.0, 0.0, 0.0, 0.0, 0.0, 0.0, 0.0, 0.0, 0.0, 0.0, 0.0, 0.0, 0.0, 0.0, 0.0, 0.0, 0.0, 0.0, 0.0, 0.0, 0.0, 0.0, 0.0, 0.0, 0.0, 0.0, 0.0, 0.0, 0.0, 0.0, 0.0, 0.0, 0.0, 0.0, 0.0, 0.0, 0.0, 0.0, 0.0, 0.0, 0.0, 0.0, 0.0, 0.0, 0.0, 0.0, 0.0, 0.0, 0.0, 0.0, 0.0, 0.0, 0.0, 0.0, 0.0, 0.0, 0.0, 0.0, 0.0, 0.0, 0.0, 0.0, 0.0, 0.0, 0.0, 0.0, 0.0, 0.0, 0.0, 0.0, 0.0, 0.0, 0.0, 0.0, 0.0, 0.0, 0.0, 0.0, 0.0, 0.0, 0.0, 0.0, 0.0, 0.0, 0.0, 0.0, 0.0, 0.0, 0.0, 0.0, 0.0, 0.0, 0.0, 0.0, 0.0, 0.0, 0.0, 0.0, 0.0, 0.0, 0.0, 0.0]\n",
      "\n",
      "Column 'BsmtFinSF2' has 2571 zero values.\n",
      "Indices with 0 values in 'BsmtFinSF2': [0, 1, 2, 3, 4, 5, 6, 8, 9, 10, 11, 12, 13, 14, 15, 16, 17, 18, 19, 20, 21, 22, 23, 25, 27, 28, 29, 30, 31, 32, 33, 34, 35, 36, 37, 38, 39, 40, 41, 45, 46, 47, 48, 49, 50, 51, 53, 54, 55, 56, 57, 58, 59, 60, 61, 62, 63, 64, 65, 66, 67, 68, 69, 70, 71, 72, 74, 75, 76, 78, 79, 80, 81, 82, 83, 84, 85, 86, 87, 88, 89, 90, 91, 92, 93, 94, 95, 96, 97, 98, 99, 100, 101, 102, 103, 104, 105, 106, 108, 109, 110, 111, 112, 115, 117, 118, 119, 120, 121, 122, 123, 124, 125, 126, 127, 128, 130, 131, 132, 133, 134, 135, 136, 137, 138, 139, 140, 141, 142, 143, 144, 145, 146, 147, 148, 149, 150, 151, 152, 154, 155, 156, 157, 158, 159, 160, 161, 162, 163, 164, 167, 168, 169, 170, 171, 175, 176, 178, 179, 180, 181, 182, 183, 184, 185, 186, 187, 188, 189, 190, 191, 192, 193, 194, 195, 196, 198, 199, 200, 202, 203, 204, 205, 206, 208, 209, 210, 211, 212, 213, 214, 215, 216, 217, 218, 219, 220, 221, 222, 224, 225, 226, 227, 228, 229, 230, 231, 232, 234, 235, 236, 237, 238, 239, 240, 241, 242, 243, 244, 245, 246, 247, 248, 249, 250, 251, 252, 254, 255, 256, 257, 258, 259, 261, 262, 264, 266, 267, 269, 270, 272, 274, 275, 276, 277, 278, 279, 280, 281, 282, 283, 284, 285, 286, 287, 288, 289, 290, 291, 292, 293, 294, 295, 296, 297, 299, 300, 301, 302, 303, 304, 305, 306, 307, 308, 309, 310, 311, 312, 314, 315, 316, 317, 318, 319, 320, 321, 323, 324, 325, 326, 327, 328, 329, 331, 333, 334, 336, 337, 338, 339, 340, 341, 342, 343, 345, 346, 347, 348, 349, 350, 351, 353, 354, 356, 357, 359, 360, 361, 362, 363, 364, 365, 366, 367, 368, 370, 371, 374, 375, 376, 377, 378, 379, 380, 381, 382, 383, 384, 385, 386, 387, 388, 389, 391, 392, 393, 394, 395, 396, 397, 398, 399, 400, 401, 402, 403, 404, 405, 406, 407, 408, 409, 410, 411, 412, 413, 415, 416, 417, 418, 419, 420, 421, 422, 423, 424, 425, 426, 427, 428, 429, 430, 431, 432, 433, 434, 436, 437, 438, 439, 441, 442, 443, 444, 445, 447, 448, 449, 450, 451, 452, 453, 454, 455, 456, 457, 458, 459, 460, 463, 464, 465, 466, 467, 468, 469, 471, 472, 473, 474, 475, 476, 477, 478, 479, 480, 481, 482, 483, 484, 485, 486, 487, 488, 489, 490, 492, 494, 495, 496, 497, 498, 500, 501, 503, 505, 506, 507, 508, 509, 511, 513, 514, 515, 516, 517, 518, 519, 520, 521, 522, 523, 524, 525, 526, 527, 528, 529, 530, 531, 532, 533, 534, 535, 536, 537, 538, 539, 540, 541, 544, 546, 547, 549, 550, 551, 552, 553, 554, 555, 556, 557, 558, 559, 560, 562, 563, 564, 565, 566, 567, 568, 569, 570, 571, 572, 573, 574, 575, 576, 578, 579, 581, 582, 583, 584, 585, 587, 588, 589, 590, 591, 592, 593, 594, 595, 596, 597, 600, 601, 602, 603, 604, 605, 606, 607, 608, 609, 610, 611, 612, 613, 615, 616, 617, 618, 619, 620, 622, 623, 624, 625, 626, 628, 630, 631, 632, 634, 635, 636, 637, 638, 639, 640, 641, 642, 644, 646, 647, 648, 650, 651, 652, 653, 654, 655, 656, 657, 658, 659, 660, 662, 664, 665, 667, 668, 669, 670, 671, 672, 673, 674, 675, 676, 677, 678, 679, 681, 682, 683, 684, 686, 687, 688, 689, 690, 691, 692, 693, 694, 696, 699, 700, 701, 702, 703, 704, 705, 706, 707, 708, 709, 710, 711, 712, 713, 714, 715, 716, 717, 718, 719, 720, 721, 722, 723, 724, 726, 727, 728, 729, 730, 731, 732, 733, 734, 735, 736, 737, 738, 739, 740, 741, 742, 743, 744, 746, 747, 748, 749, 750, 751, 752, 753, 755, 756, 757, 758, 760, 761, 762, 763, 765, 766, 767, 768, 769, 770, 771, 773, 774, 775, 776, 777, 778, 779, 780, 781, 782, 783, 784, 786, 787, 788, 789, 790, 791, 792, 793, 794, 795, 796, 797, 798, 799, 800, 801, 802, 803, 804, 805, 807, 809, 811, 812, 813, 814, 815, 816, 817, 818, 819, 820, 821, 822, 823, 824, 825, 826, 827, 829, 830, 831, 832, 834, 835, 836, 837, 838, 839, 840, 841, 843, 844, 845, 846, 847, 848, 849, 850, 851, 852, 853, 855, 857, 858, 859, 860, 861, 862, 863, 864, 865, 866, 867, 868, 869, 870, 871, 872, 873, 874, 875, 876, 877, 878, 879, 880, 881, 882, 883, 884, 885, 886, 887, 889, 890, 892, 893, 894, 895, 896, 897, 898, 899, 900, 901, 902, 903, 904, 906, 907, 909, 910, 911, 912, 913, 914, 915, 916, 917, 920, 921, 922, 926, 927, 928, 929, 930, 932, 933, 934, 935, 936, 937, 938, 939, 941, 942, 943, 945, 947, 948, 949, 951, 952, 954, 955, 956, 957, 958, 959, 960, 961, 962, 963, 964, 965, 966, 967, 968, 969, 970, 971, 972, 973, 974, 975, 976, 977, 978, 979, 980, 981, 982, 983, 984, 985, 986, 987, 988, 989, 990, 991, 993, 994, 995, 996, 997, 998, 999, 1000, 1001, 1002, 1003, 1004, 1005, 1006, 1008, 1009, 1010, 1011, 1012, 1014, 1015, 1016, 1017, 1018, 1019, 1020, 1021, 1022, 1023, 1026, 1027, 1029, 1030, 1031, 1032, 1033, 1034, 1035, 1036, 1037, 1038, 1039, 1042, 1043, 1044, 1045, 1046, 1047, 1048, 1049, 1050, 1051, 1052, 1053, 1054, 1055, 1056, 1057, 1058, 1060, 1061, 1062, 1063, 1065, 1066, 1068, 1069, 1070, 1071, 1072, 1073, 1074, 1075, 1076, 1078, 1079, 1080, 1081, 1082, 1083, 1084, 1085, 1086, 1087, 1088, 1089, 1090, 1091, 1092, 1093, 1095, 1096, 1097, 1098, 1099, 1100, 1102, 1103, 1104, 1105, 1106, 1107, 1108, 1109, 1110, 1111, 1112, 1113, 1114, 1115, 1116, 1117, 1118, 1119, 1120, 1121, 1122, 1123, 1124, 1125, 1126, 1127, 1128, 1129, 1130, 1131, 1132, 1133, 1134, 1135, 1136, 1137, 1138, 1139, 1140, 1141, 1142, 1143, 1144, 1145, 1146, 1147, 1148, 1149, 1150, 1151, 1153, 1154, 1155, 1156, 1157, 1158, 1159, 1160, 1161, 1162, 1163, 1165, 1166, 1167, 1168, 1169, 1170, 1171, 1172, 1174, 1175, 1176, 1177, 1178, 1179, 1180, 1181, 1182, 1183, 1184, 1185, 1186, 1187, 1188, 1189, 1190, 1191, 1192, 1193, 1194, 1195, 1196, 1197, 1198, 1199, 1200, 1201, 1202, 1203, 1204, 1206, 1207, 1209, 1210, 1211, 1212, 1213, 1214, 1216, 1217, 1218, 1219, 1222, 1223, 1224, 1225, 1226, 1227, 1228, 1229, 1231, 1232, 1233, 1234, 1235, 1236, 1237, 1238, 1239, 1240, 1241, 1243, 1244, 1245, 1246, 1247, 1248, 1250, 1251, 1252, 1254, 1255, 1256, 1257, 1258, 1260, 1261, 1262, 1263, 1264, 1265, 1266, 1267, 1268, 1269, 1270, 1271, 1273, 1274, 1275, 1276, 1277, 1278, 1279, 1280, 1281, 1283, 1284, 1285, 1287, 1288, 1289, 1290, 1291, 1292, 1293, 1294, 1295, 1296, 1297, 1298, 1300, 1301, 1302, 1303, 1304, 1305, 1306, 1307, 1309, 1310, 1311, 1312, 1313, 1314, 1316, 1317, 1318, 1319, 1321, 1322, 1323, 1324, 1325, 1326, 1327, 1328, 1329, 1330, 1331, 1332, 1333, 1334, 1335, 1336, 1337, 1338, 1339, 1340, 1341, 1342, 1343, 1344, 1345, 1347, 1348, 1349, 1350, 1351, 1352, 1353, 1354, 1355, 1356, 1357, 1358, 1359, 1360, 1361, 1362, 1363, 1364, 1365, 1366, 1368, 1371, 1372, 1373, 1374, 1375, 1376, 1378, 1379, 1380, 1381, 1382, 1383, 1384, 1385, 1388, 1389, 1390, 1391, 1392, 1393, 1394, 1395, 1397, 1399, 1400, 1401, 1402, 1403, 1404, 1405, 1406, 1407, 1408, 1409, 1410, 1411, 1412, 1413, 1414, 1415, 1416, 1417, 1419, 1420, 1421, 1422, 1423, 1425, 1426, 1427, 1428, 1429, 1430, 1431, 1432, 1433, 1434, 1435, 1436, 1437, 1438, 1440, 1441, 1442, 1443, 1444, 1446, 1447, 1448, 1449, 1450, 1451, 1452, 1453, 1454, 1455, 1457, 1461, 1462, 1463, 1464, 1465, 1466, 1467, 1468, 1470, 1471, 1472, 1473, 1474, 1475, 1476, 1477, 1478, 1479, 1480, 1481, 1482, 1483, 1484, 1485, 1486, 1487, 1488, 1489, 1490, 1491, 1494, 1495, 1496, 1497, 1499, 1500, 1501, 1502, 1503, 1504, 1505, 1506, 1508, 1509, 1510, 1511, 1512, 1513, 1514, 1515, 1516, 1517, 1518, 1520, 1521, 1522, 1523, 1524, 1525, 1526, 1530, 1531, 1533, 1534, 1535, 1536, 1537, 1538, 1539, 1540, 1541, 1542, 1543, 1545, 1547, 1548, 1549, 1550, 1551, 1552, 1553, 1554, 1555, 1556, 1557, 1558, 1559, 1560, 1562, 1563, 1565, 1566, 1567, 1570, 1571, 1572, 1573, 1574, 1575, 1576, 1577, 1578, 1579, 1581, 1582, 1583, 1584, 1585, 1586, 1587, 1588, 1589, 1590, 1591, 1592, 1593, 1594, 1596, 1597, 1598, 1599, 1600, 1601, 1602, 1603, 1604, 1605, 1606, 1607, 1608, 1609, 1610, 1611, 1612, 1613, 1614, 1615, 1616, 1617, 1619, 1620, 1621, 1623, 1624, 1625, 1626, 1627, 1628, 1629, 1630, 1631, 1632, 1633, 1634, 1635, 1636, 1637, 1638, 1639, 1640, 1641, 1642, 1645, 1646, 1647, 1648, 1649, 1650, 1651, 1653, 1655, 1656, 1657, 1658, 1659, 1660, 1661, 1662, 1663, 1664, 1665, 1666, 1667, 1668, 1669, 1670, 1671, 1672, 1673, 1674, 1675, 1676, 1677, 1678, 1679, 1680, 1681, 1682, 1683, 1684, 1685, 1686, 1687, 1688, 1689, 1690, 1691, 1693, 1694, 1695, 1696, 1697, 1699, 1700, 1701, 1702, 1703, 1704, 1705, 1706, 1707, 1708, 1709, 1710, 1711, 1712, 1714, 1715, 1716, 1717, 1718, 1720, 1721, 1722, 1723, 1724, 1726, 1728, 1729, 1731, 1732, 1733, 1734, 1738, 1739, 1740, 1741, 1742, 1744, 1745, 1747, 1749, 1750, 1751, 1752, 1753, 1754, 1755, 1756, 1757, 1760, 1761, 1762, 1764, 1765, 1766, 1767, 1768, 1769, 1773, 1774, 1775, 1776, 1777, 1778, 1779, 1780, 1781, 1782, 1783, 1784, 1785, 1786, 1787, 1788, 1789, 1790, 1791, 1793, 1794, 1795, 1796, 1797, 1800, 1801, 1802, 1803, 1804, 1805, 1806, 1807, 1808, 1809, 1810, 1811, 1812, 1813, 1814, 1815, 1816, 1817, 1818, 1819, 1820, 1821, 1822, 1823, 1824, 1825, 1826, 1827, 1828, 1829, 1830, 1831, 1832, 1833, 1834, 1835, 1838, 1839, 1840, 1841, 1842, 1843, 1844, 1845, 1846, 1847, 1848, 1849, 1850, 1851, 1855, 1856, 1857, 1858, 1859, 1860, 1861, 1862, 1863, 1864, 1865, 1866, 1867, 1868, 1869, 1870, 1871, 1872, 1873, 1874, 1875, 1876, 1877, 1878, 1880, 1881, 1882, 1883, 1884, 1885, 1886, 1887, 1888, 1889, 1890, 1892, 1893, 1894, 1895, 1896, 1897, 1898, 1899, 1900, 1901, 1902, 1907, 1908, 1909, 1910, 1912, 1913, 1914, 1915, 1917, 1919, 1920, 1921, 1922, 1924, 1925, 1926, 1927, 1931, 1933, 1934, 1935, 1936, 1937, 1938, 1939, 1940, 1941, 1942, 1943, 1944, 1945, 1946, 1947, 1948, 1949, 1953, 1954, 1955, 1956, 1957, 1958, 1959, 1961, 1962, 1963, 1965, 1966, 1968, 1969, 1970, 1971, 1972, 1973, 1974, 1975, 1976, 1977, 1978, 1979, 1980, 1981, 1982, 1983, 1984, 1985, 1986, 1987, 1988, 1989, 1990, 1991, 1992, 1993, 1994, 1995, 1996, 1997, 1998, 1999, 2001, 2002, 2003, 2004, 2005, 2006, 2007, 2009, 2010, 2011, 2012, 2013, 2014, 2015, 2016, 2018, 2019, 2020, 2021, 2023, 2024, 2025, 2026, 2027, 2028, 2029, 2030, 2031, 2032, 2033, 2034, 2035, 2036, 2039, 2041, 2042, 2043, 2045, 2046, 2048, 2049, 2050, 2051, 2052, 2053, 2054, 2056, 2057, 2059, 2060, 2061, 2062, 2065, 2066, 2067, 2068, 2069, 2070, 2071, 2072, 2073, 2074, 2075, 2078, 2079, 2080, 2081, 2082, 2083, 2084, 2085, 2086, 2087, 2088, 2089, 2090, 2091, 2092, 2093, 2094, 2095, 2096, 2097, 2098, 2099, 2100, 2101, 2102, 2103, 2104, 2105, 2106, 2107, 2108, 2110, 2111, 2112, 2113, 2114, 2115, 2117, 2118, 2119, 2121, 2122, 2124, 2125, 2126, 2127, 2128, 2129, 2130, 2131, 2132, 2133, 2134, 2135, 2136, 2137, 2138, 2139, 2140, 2141, 2143, 2144, 2145, 2146, 2147, 2148, 2149, 2150, 2151, 2152, 2153, 2154, 2155, 2156, 2157, 2158, 2159, 2160, 2161, 2162, 2163, 2165, 2166, 2167, 2168, 2169, 2170, 2171, 2173, 2174, 2175, 2176, 2177, 2178, 2180, 2181, 2182, 2183, 2184, 2185, 2187, 2188, 2189, 2190, 2191, 2192, 2193, 2194, 2195, 2196, 2197, 2199, 2200, 2201, 2202, 2203, 2204, 2205, 2206, 2207, 2208, 2209, 2211, 2212, 2213, 2214, 2215, 2216, 2217, 2218, 2219, 2220, 2221, 2222, 2223, 2224, 2225, 2226, 2227, 2228, 2229, 2230, 2231, 2233, 2234, 2235, 2236, 2237, 2238, 2239, 2241, 2242, 2243, 2244, 2245, 2246, 2247, 2248, 2249, 2250, 2251, 2252, 2253, 2254, 2255, 2256, 2257, 2258, 2259, 2260, 2261, 2262, 2263, 2264, 2265, 2266, 2267, 2268, 2269, 2270, 2271, 2272, 2273, 2277, 2279, 2280, 2281, 2282, 2283, 2285, 2286, 2287, 2288, 2289, 2290, 2291, 2292, 2293, 2294, 2295, 2296, 2297, 2298, 2299, 2300, 2301, 2302, 2303, 2304, 2305, 2306, 2307, 2308, 2309, 2310, 2311, 2312, 2313, 2314, 2315, 2316, 2317, 2318, 2319, 2320, 2321, 2322, 2323, 2324, 2325, 2326, 2327, 2328, 2329, 2330, 2331, 2332, 2333, 2334, 2335, 2336, 2337, 2338, 2339, 2340, 2341, 2342, 2343, 2344, 2345, 2346, 2347, 2348, 2349, 2350, 2351, 2352, 2353, 2354, 2355, 2356, 2357, 2358, 2360, 2361, 2362, 2363, 2364, 2365, 2366, 2367, 2368, 2369, 2370, 2371, 2372, 2373, 2375, 2377, 2378, 2379, 2380, 2381, 2382, 2383, 2384, 2387, 2390, 2391, 2392, 2393, 2394, 2396, 2398, 2399, 2401, 2402, 2403, 2404, 2405, 2406, 2407, 2408, 2410, 2411, 2412, 2413, 2414, 2415, 2418, 2419, 2421, 2422, 2423, 2424, 2426, 2428, 2429, 2430, 2431, 2432, 2433, 2435, 2437, 2438, 2439, 2440, 2441, 2442, 2443, 2445, 2446, 2448, 2449, 2450, 2451, 2452, 2453, 2455, 2456, 2457, 2458, 2459, 2460, 2461, 2462, 2463, 2464, 2465, 2466, 2467, 2468, 2469, 2471, 2473, 2474, 2475, 2476, 2477, 2481, 2486, 2487, 2488, 2490, 2492, 2493, 2494, 2495, 2496, 2497, 2498, 2500, 2501, 2502, 2503, 2504, 2505, 2506, 2507, 2508, 2509, 2510, 2511, 2514, 2515, 2516, 2517, 2518, 2519, 2520, 2521, 2522, 2523, 2524, 2525, 2528, 2529, 2530, 2531, 2532, 2534, 2535, 2536, 2537, 2538, 2539, 2540, 2541, 2542, 2545, 2546, 2547, 2548, 2549, 2550, 2552, 2553, 2555, 2556, 2557, 2558, 2559, 2560, 2561, 2562, 2563, 2564, 2565, 2566, 2568, 2569, 2570, 2571, 2572, 2573, 2574, 2575, 2576, 2577, 2578, 2579, 2580, 2581, 2582, 2583, 2584, 2585, 2586, 2588, 2589, 2590, 2591, 2592, 2594, 2595, 2596, 2597, 2598, 2599, 2601, 2602, 2603, 2604, 2605, 2606, 2607, 2608, 2609, 2610, 2611, 2612, 2613, 2615, 2616, 2617, 2618, 2619, 2620, 2621, 2622, 2623, 2624, 2625, 2626, 2627, 2628, 2629, 2630, 2631, 2632, 2633, 2634, 2635, 2636, 2637, 2638, 2639, 2641, 2642, 2643, 2644, 2645, 2646, 2650, 2651, 2652, 2653, 2654, 2655, 2656, 2657, 2658, 2659, 2660, 2661, 2662, 2663, 2664, 2665, 2666, 2667, 2668, 2669, 2670, 2671, 2672, 2673, 2674, 2675, 2676, 2677, 2678, 2679, 2680, 2681, 2685, 2686, 2687, 2688, 2689, 2690, 2691, 2692, 2693, 2694, 2695, 2696, 2697, 2698, 2699, 2700, 2701, 2702, 2703, 2704, 2706, 2707, 2708, 2709, 2711, 2712, 2713, 2714, 2715, 2716, 2717, 2718, 2720, 2722, 2723, 2724, 2728, 2729, 2730, 2731, 2732, 2733, 2734, 2735, 2736, 2737, 2738, 2739, 2740, 2741, 2743, 2744, 2745, 2746, 2747, 2748, 2750, 2751, 2752, 2753, 2754, 2755, 2756, 2757, 2758, 2759, 2760, 2761, 2762, 2763, 2764, 2765, 2766, 2767, 2768, 2769, 2770, 2771, 2772, 2773, 2774, 2775, 2776, 2777, 2778, 2780, 2781, 2782, 2783, 2784, 2785, 2786, 2787, 2788, 2789, 2790, 2791, 2792, 2793, 2794, 2795, 2796, 2797, 2798, 2799, 2800, 2801, 2802, 2803, 2804, 2805, 2807, 2808, 2809, 2811, 2812, 2813, 2814, 2818, 2819, 2820, 2821, 2822, 2824, 2825, 2826, 2827, 2829, 2830, 2831, 2832, 2833, 2834, 2835, 2836, 2837, 2838, 2839, 2840, 2841, 2842, 2844, 2845, 2846, 2847, 2848, 2849, 2850, 2851, 2852, 2853, 2854, 2855, 2856, 2857, 2859, 2860, 2861, 2863, 2864, 2865, 2866, 2867, 2868, 2869, 2870, 2871, 2872, 2873, 2874, 2875, 2876, 2877, 2878, 2879, 2880, 2881, 2882, 2883, 2884, 2885, 2886, 2887, 2888, 2889, 2890, 2891, 2892, 2893, 2894, 2895, 2896, 2897, 2898, 2899, 2900, 2902, 2903, 2904, 2905, 2906, 2907, 2908, 2909, 2910, 2912, 2913, 2914, 2915, 2916, 2917, 2918]\n",
      "0 values in 'BsmtFinSF2': [0.0, 0.0, 0.0, 0.0, 0.0, 0.0, 0.0, 0.0, 0.0, 0.0, 0.0, 0.0, 0.0, 0.0, 0.0, 0.0, 0.0, 0.0, 0.0, 0.0, 0.0, 0.0, 0.0, 0.0, 0.0, 0.0, 0.0, 0.0, 0.0, 0.0, 0.0, 0.0, 0.0, 0.0, 0.0, 0.0, 0.0, 0.0, 0.0, 0.0, 0.0, 0.0, 0.0, 0.0, 0.0, 0.0, 0.0, 0.0, 0.0, 0.0, 0.0, 0.0, 0.0, 0.0, 0.0, 0.0, 0.0, 0.0, 0.0, 0.0, 0.0, 0.0, 0.0, 0.0, 0.0, 0.0, 0.0, 0.0, 0.0, 0.0, 0.0, 0.0, 0.0, 0.0, 0.0, 0.0, 0.0, 0.0, 0.0, 0.0, 0.0, 0.0, 0.0, 0.0, 0.0, 0.0, 0.0, 0.0, 0.0, 0.0, 0.0, 0.0, 0.0, 0.0, 0.0, 0.0, 0.0, 0.0, 0.0, 0.0, 0.0, 0.0, 0.0, 0.0, 0.0, 0.0, 0.0, 0.0, 0.0, 0.0, 0.0, 0.0, 0.0, 0.0, 0.0, 0.0, 0.0, 0.0, 0.0, 0.0, 0.0, 0.0, 0.0, 0.0, 0.0, 0.0, 0.0, 0.0, 0.0, 0.0, 0.0, 0.0, 0.0, 0.0, 0.0, 0.0, 0.0, 0.0, 0.0, 0.0, 0.0, 0.0, 0.0, 0.0, 0.0, 0.0, 0.0, 0.0, 0.0, 0.0, 0.0, 0.0, 0.0, 0.0, 0.0, 0.0, 0.0, 0.0, 0.0, 0.0, 0.0, 0.0, 0.0, 0.0, 0.0, 0.0, 0.0, 0.0, 0.0, 0.0, 0.0, 0.0, 0.0, 0.0, 0.0, 0.0, 0.0, 0.0, 0.0, 0.0, 0.0, 0.0, 0.0, 0.0, 0.0, 0.0, 0.0, 0.0, 0.0, 0.0, 0.0, 0.0, 0.0, 0.0, 0.0, 0.0, 0.0, 0.0, 0.0, 0.0, 0.0, 0.0, 0.0, 0.0, 0.0, 0.0, 0.0, 0.0, 0.0, 0.0, 0.0, 0.0, 0.0, 0.0, 0.0, 0.0, 0.0, 0.0, 0.0, 0.0, 0.0, 0.0, 0.0, 0.0, 0.0, 0.0, 0.0, 0.0, 0.0, 0.0, 0.0, 0.0, 0.0, 0.0, 0.0, 0.0, 0.0, 0.0, 0.0, 0.0, 0.0, 0.0, 0.0, 0.0, 0.0, 0.0, 0.0, 0.0, 0.0, 0.0, 0.0, 0.0, 0.0, 0.0, 0.0, 0.0, 0.0, 0.0, 0.0, 0.0, 0.0, 0.0, 0.0, 0.0, 0.0, 0.0, 0.0, 0.0, 0.0, 0.0, 0.0, 0.0, 0.0, 0.0, 0.0, 0.0, 0.0, 0.0, 0.0, 0.0, 0.0, 0.0, 0.0, 0.0, 0.0, 0.0, 0.0, 0.0, 0.0, 0.0, 0.0, 0.0, 0.0, 0.0, 0.0, 0.0, 0.0, 0.0, 0.0, 0.0, 0.0, 0.0, 0.0, 0.0, 0.0, 0.0, 0.0, 0.0, 0.0, 0.0, 0.0, 0.0, 0.0, 0.0, 0.0, 0.0, 0.0, 0.0, 0.0, 0.0, 0.0, 0.0, 0.0, 0.0, 0.0, 0.0, 0.0, 0.0, 0.0, 0.0, 0.0, 0.0, 0.0, 0.0, 0.0, 0.0, 0.0, 0.0, 0.0, 0.0, 0.0, 0.0, 0.0, 0.0, 0.0, 0.0, 0.0, 0.0, 0.0, 0.0, 0.0, 0.0, 0.0, 0.0, 0.0, 0.0, 0.0, 0.0, 0.0, 0.0, 0.0, 0.0, 0.0, 0.0, 0.0, 0.0, 0.0, 0.0, 0.0, 0.0, 0.0, 0.0, 0.0, 0.0, 0.0, 0.0, 0.0, 0.0, 0.0, 0.0, 0.0, 0.0, 0.0, 0.0, 0.0, 0.0, 0.0, 0.0, 0.0, 0.0, 0.0, 0.0, 0.0, 0.0, 0.0, 0.0, 0.0, 0.0, 0.0, 0.0, 0.0, 0.0, 0.0, 0.0, 0.0, 0.0, 0.0, 0.0, 0.0, 0.0, 0.0, 0.0, 0.0, 0.0, 0.0, 0.0, 0.0, 0.0, 0.0, 0.0, 0.0, 0.0, 0.0, 0.0, 0.0, 0.0, 0.0, 0.0, 0.0, 0.0, 0.0, 0.0, 0.0, 0.0, 0.0, 0.0, 0.0, 0.0, 0.0, 0.0, 0.0, 0.0, 0.0, 0.0, 0.0, 0.0, 0.0, 0.0, 0.0, 0.0, 0.0, 0.0, 0.0, 0.0, 0.0, 0.0, 0.0, 0.0, 0.0, 0.0, 0.0, 0.0, 0.0, 0.0, 0.0, 0.0, 0.0, 0.0, 0.0, 0.0, 0.0, 0.0, 0.0, 0.0, 0.0, 0.0, 0.0, 0.0, 0.0, 0.0, 0.0, 0.0, 0.0, 0.0, 0.0, 0.0, 0.0, 0.0, 0.0, 0.0, 0.0, 0.0, 0.0, 0.0, 0.0, 0.0, 0.0, 0.0, 0.0, 0.0, 0.0, 0.0, 0.0, 0.0, 0.0, 0.0, 0.0, 0.0, 0.0, 0.0, 0.0, 0.0, 0.0, 0.0, 0.0, 0.0, 0.0, 0.0, 0.0, 0.0, 0.0, 0.0, 0.0, 0.0, 0.0, 0.0, 0.0, 0.0, 0.0, 0.0, 0.0, 0.0, 0.0, 0.0, 0.0, 0.0, 0.0, 0.0, 0.0, 0.0, 0.0, 0.0, 0.0, 0.0, 0.0, 0.0, 0.0, 0.0, 0.0, 0.0, 0.0, 0.0, 0.0, 0.0, 0.0, 0.0, 0.0, 0.0, 0.0, 0.0, 0.0, 0.0, 0.0, 0.0, 0.0, 0.0, 0.0, 0.0, 0.0, 0.0, 0.0, 0.0, 0.0, 0.0, 0.0, 0.0, 0.0, 0.0, 0.0, 0.0, 0.0, 0.0, 0.0, 0.0, 0.0, 0.0, 0.0, 0.0, 0.0, 0.0, 0.0, 0.0, 0.0, 0.0, 0.0, 0.0, 0.0, 0.0, 0.0, 0.0, 0.0, 0.0, 0.0, 0.0, 0.0, 0.0, 0.0, 0.0, 0.0, 0.0, 0.0, 0.0, 0.0, 0.0, 0.0, 0.0, 0.0, 0.0, 0.0, 0.0, 0.0, 0.0, 0.0, 0.0, 0.0, 0.0, 0.0, 0.0, 0.0, 0.0, 0.0, 0.0, 0.0, 0.0, 0.0, 0.0, 0.0, 0.0, 0.0, 0.0, 0.0, 0.0, 0.0, 0.0, 0.0, 0.0, 0.0, 0.0, 0.0, 0.0, 0.0, 0.0, 0.0, 0.0, 0.0, 0.0, 0.0, 0.0, 0.0, 0.0, 0.0, 0.0, 0.0, 0.0, 0.0, 0.0, 0.0, 0.0, 0.0, 0.0, 0.0, 0.0, 0.0, 0.0, 0.0, 0.0, 0.0, 0.0, 0.0, 0.0, 0.0, 0.0, 0.0, 0.0, 0.0, 0.0, 0.0, 0.0, 0.0, 0.0, 0.0, 0.0, 0.0, 0.0, 0.0, 0.0, 0.0, 0.0, 0.0, 0.0, 0.0, 0.0, 0.0, 0.0, 0.0, 0.0, 0.0, 0.0, 0.0, 0.0, 0.0, 0.0, 0.0, 0.0, 0.0, 0.0, 0.0, 0.0, 0.0, 0.0, 0.0, 0.0, 0.0, 0.0, 0.0, 0.0, 0.0, 0.0, 0.0, 0.0, 0.0, 0.0, 0.0, 0.0, 0.0, 0.0, 0.0, 0.0, 0.0, 0.0, 0.0, 0.0, 0.0, 0.0, 0.0, 0.0, 0.0, 0.0, 0.0, 0.0, 0.0, 0.0, 0.0, 0.0, 0.0, 0.0, 0.0, 0.0, 0.0, 0.0, 0.0, 0.0, 0.0, 0.0, 0.0, 0.0, 0.0, 0.0, 0.0, 0.0, 0.0, 0.0, 0.0, 0.0, 0.0, 0.0, 0.0, 0.0, 0.0, 0.0, 0.0, 0.0, 0.0, 0.0, 0.0, 0.0, 0.0, 0.0, 0.0, 0.0, 0.0, 0.0, 0.0, 0.0, 0.0, 0.0, 0.0, 0.0, 0.0, 0.0, 0.0, 0.0, 0.0, 0.0, 0.0, 0.0, 0.0, 0.0, 0.0, 0.0, 0.0, 0.0, 0.0, 0.0, 0.0, 0.0, 0.0, 0.0, 0.0, 0.0, 0.0, 0.0, 0.0, 0.0, 0.0, 0.0, 0.0, 0.0, 0.0, 0.0, 0.0, 0.0, 0.0, 0.0, 0.0, 0.0, 0.0, 0.0, 0.0, 0.0, 0.0, 0.0, 0.0, 0.0, 0.0, 0.0, 0.0, 0.0, 0.0, 0.0, 0.0, 0.0, 0.0, 0.0, 0.0, 0.0, 0.0, 0.0, 0.0, 0.0, 0.0, 0.0, 0.0, 0.0, 0.0, 0.0, 0.0, 0.0, 0.0, 0.0, 0.0, 0.0, 0.0, 0.0, 0.0, 0.0, 0.0, 0.0, 0.0, 0.0, 0.0, 0.0, 0.0, 0.0, 0.0, 0.0, 0.0, 0.0, 0.0, 0.0, 0.0, 0.0, 0.0, 0.0, 0.0, 0.0, 0.0, 0.0, 0.0, 0.0, 0.0, 0.0, 0.0, 0.0, 0.0, 0.0, 0.0, 0.0, 0.0, 0.0, 0.0, 0.0, 0.0, 0.0, 0.0, 0.0, 0.0, 0.0, 0.0, 0.0, 0.0, 0.0, 0.0, 0.0, 0.0, 0.0, 0.0, 0.0, 0.0, 0.0, 0.0, 0.0, 0.0, 0.0, 0.0, 0.0, 0.0, 0.0, 0.0, 0.0, 0.0, 0.0, 0.0, 0.0, 0.0, 0.0, 0.0, 0.0, 0.0, 0.0, 0.0, 0.0, 0.0, 0.0, 0.0, 0.0, 0.0, 0.0, 0.0, 0.0, 0.0, 0.0, 0.0, 0.0, 0.0, 0.0, 0.0, 0.0, 0.0, 0.0, 0.0, 0.0, 0.0, 0.0, 0.0, 0.0, 0.0, 0.0, 0.0, 0.0, 0.0, 0.0, 0.0, 0.0, 0.0, 0.0, 0.0, 0.0, 0.0, 0.0, 0.0, 0.0, 0.0, 0.0, 0.0, 0.0, 0.0, 0.0, 0.0, 0.0, 0.0, 0.0, 0.0, 0.0, 0.0, 0.0, 0.0, 0.0, 0.0, 0.0, 0.0, 0.0, 0.0, 0.0, 0.0, 0.0, 0.0, 0.0, 0.0, 0.0, 0.0, 0.0, 0.0, 0.0, 0.0, 0.0, 0.0, 0.0, 0.0, 0.0, 0.0, 0.0, 0.0, 0.0, 0.0, 0.0, 0.0, 0.0, 0.0, 0.0, 0.0, 0.0, 0.0, 0.0, 0.0, 0.0, 0.0, 0.0, 0.0, 0.0, 0.0, 0.0, 0.0, 0.0, 0.0, 0.0, 0.0, 0.0, 0.0, 0.0, 0.0, 0.0, 0.0, 0.0, 0.0, 0.0, 0.0, 0.0, 0.0, 0.0, 0.0, 0.0, 0.0, 0.0, 0.0, 0.0, 0.0, 0.0, 0.0, 0.0, 0.0, 0.0, 0.0, 0.0, 0.0, 0.0, 0.0, 0.0, 0.0, 0.0, 0.0, 0.0, 0.0, 0.0, 0.0, 0.0, 0.0, 0.0, 0.0, 0.0, 0.0, 0.0, 0.0, 0.0, 0.0, 0.0, 0.0, 0.0, 0.0, 0.0, 0.0, 0.0, 0.0, 0.0, 0.0, 0.0, 0.0, 0.0, 0.0, 0.0, 0.0, 0.0, 0.0, 0.0, 0.0, 0.0, 0.0, 0.0, 0.0, 0.0, 0.0, 0.0, 0.0, 0.0, 0.0, 0.0, 0.0, 0.0, 0.0, 0.0, 0.0, 0.0, 0.0, 0.0, 0.0, 0.0, 0.0, 0.0, 0.0, 0.0, 0.0, 0.0, 0.0, 0.0, 0.0, 0.0, 0.0, 0.0, 0.0, 0.0, 0.0, 0.0, 0.0, 0.0, 0.0, 0.0, 0.0, 0.0, 0.0, 0.0, 0.0, 0.0, 0.0, 0.0, 0.0, 0.0, 0.0, 0.0, 0.0, 0.0, 0.0, 0.0, 0.0, 0.0, 0.0, 0.0, 0.0, 0.0, 0.0, 0.0, 0.0, 0.0, 0.0, 0.0, 0.0, 0.0, 0.0, 0.0, 0.0, 0.0, 0.0, 0.0, 0.0, 0.0, 0.0, 0.0, 0.0, 0.0, 0.0, 0.0, 0.0, 0.0, 0.0, 0.0, 0.0, 0.0, 0.0, 0.0, 0.0, 0.0, 0.0, 0.0, 0.0, 0.0, 0.0, 0.0, 0.0, 0.0, 0.0, 0.0, 0.0, 0.0, 0.0, 0.0, 0.0, 0.0, 0.0, 0.0, 0.0, 0.0, 0.0, 0.0, 0.0, 0.0, 0.0, 0.0, 0.0, 0.0, 0.0, 0.0, 0.0, 0.0, 0.0, 0.0, 0.0, 0.0, 0.0, 0.0, 0.0, 0.0, 0.0, 0.0, 0.0, 0.0, 0.0, 0.0, 0.0, 0.0, 0.0, 0.0, 0.0, 0.0, 0.0, 0.0, 0.0, 0.0, 0.0, 0.0, 0.0, 0.0, 0.0, 0.0, 0.0, 0.0, 0.0, 0.0, 0.0, 0.0, 0.0, 0.0, 0.0, 0.0, 0.0, 0.0, 0.0, 0.0, 0.0, 0.0, 0.0, 0.0, 0.0, 0.0, 0.0, 0.0, 0.0, 0.0, 0.0, 0.0, 0.0, 0.0, 0.0, 0.0, 0.0, 0.0, 0.0, 0.0, 0.0, 0.0, 0.0, 0.0, 0.0, 0.0, 0.0, 0.0, 0.0, 0.0, 0.0, 0.0, 0.0, 0.0, 0.0, 0.0, 0.0, 0.0, 0.0, 0.0, 0.0, 0.0, 0.0, 0.0, 0.0, 0.0, 0.0, 0.0, 0.0, 0.0, 0.0, 0.0, 0.0, 0.0, 0.0, 0.0, 0.0, 0.0, 0.0, 0.0, 0.0, 0.0, 0.0, 0.0, 0.0, 0.0, 0.0, 0.0, 0.0, 0.0, 0.0, 0.0, 0.0, 0.0, 0.0, 0.0, 0.0, 0.0, 0.0, 0.0, 0.0, 0.0, 0.0, 0.0, 0.0, 0.0, 0.0, 0.0, 0.0, 0.0, 0.0, 0.0, 0.0, 0.0, 0.0, 0.0, 0.0, 0.0, 0.0, 0.0, 0.0, 0.0, 0.0, 0.0, 0.0, 0.0, 0.0, 0.0, 0.0, 0.0, 0.0, 0.0, 0.0, 0.0, 0.0, 0.0, 0.0, 0.0, 0.0, 0.0, 0.0, 0.0, 0.0, 0.0, 0.0, 0.0, 0.0, 0.0, 0.0, 0.0, 0.0, 0.0, 0.0, 0.0, 0.0, 0.0, 0.0, 0.0, 0.0, 0.0, 0.0, 0.0, 0.0, 0.0, 0.0, 0.0, 0.0, 0.0, 0.0, 0.0, 0.0, 0.0, 0.0, 0.0, 0.0, 0.0, 0.0, 0.0, 0.0, 0.0, 0.0, 0.0, 0.0, 0.0, 0.0, 0.0, 0.0, 0.0, 0.0, 0.0, 0.0, 0.0, 0.0, 0.0, 0.0, 0.0, 0.0, 0.0, 0.0, 0.0, 0.0, 0.0, 0.0, 0.0, 0.0, 0.0, 0.0, 0.0, 0.0, 0.0, 0.0, 0.0, 0.0, 0.0, 0.0, 0.0, 0.0, 0.0, 0.0, 0.0, 0.0, 0.0, 0.0, 0.0, 0.0, 0.0, 0.0, 0.0, 0.0, 0.0, 0.0, 0.0, 0.0, 0.0, 0.0, 0.0, 0.0, 0.0, 0.0, 0.0, 0.0, 0.0, 0.0, 0.0, 0.0, 0.0, 0.0, 0.0, 0.0, 0.0, 0.0, 0.0, 0.0, 0.0, 0.0, 0.0, 0.0, 0.0, 0.0, 0.0, 0.0, 0.0, 0.0, 0.0, 0.0, 0.0, 0.0, 0.0, 0.0, 0.0, 0.0, 0.0, 0.0, 0.0, 0.0, 0.0, 0.0, 0.0, 0.0, 0.0, 0.0, 0.0, 0.0, 0.0, 0.0, 0.0, 0.0, 0.0, 0.0, 0.0, 0.0, 0.0, 0.0, 0.0, 0.0, 0.0, 0.0, 0.0, 0.0, 0.0, 0.0, 0.0, 0.0, 0.0, 0.0, 0.0, 0.0, 0.0, 0.0, 0.0, 0.0, 0.0, 0.0, 0.0, 0.0, 0.0, 0.0, 0.0, 0.0, 0.0, 0.0, 0.0, 0.0, 0.0, 0.0, 0.0, 0.0, 0.0, 0.0, 0.0, 0.0, 0.0, 0.0, 0.0, 0.0, 0.0, 0.0, 0.0, 0.0, 0.0, 0.0, 0.0, 0.0, 0.0, 0.0, 0.0, 0.0, 0.0, 0.0, 0.0, 0.0, 0.0, 0.0, 0.0, 0.0, 0.0, 0.0, 0.0, 0.0, 0.0, 0.0, 0.0, 0.0, 0.0, 0.0, 0.0, 0.0, 0.0, 0.0, 0.0, 0.0, 0.0, 0.0, 0.0, 0.0, 0.0, 0.0, 0.0, 0.0, 0.0, 0.0, 0.0, 0.0, 0.0, 0.0, 0.0, 0.0, 0.0, 0.0, 0.0, 0.0, 0.0, 0.0, 0.0, 0.0, 0.0, 0.0, 0.0, 0.0, 0.0, 0.0, 0.0, 0.0, 0.0, 0.0, 0.0, 0.0, 0.0, 0.0, 0.0, 0.0, 0.0, 0.0, 0.0, 0.0, 0.0, 0.0, 0.0, 0.0, 0.0, 0.0, 0.0, 0.0, 0.0, 0.0, 0.0, 0.0, 0.0, 0.0, 0.0, 0.0, 0.0, 0.0, 0.0, 0.0, 0.0, 0.0, 0.0, 0.0, 0.0, 0.0, 0.0, 0.0, 0.0, 0.0, 0.0, 0.0, 0.0, 0.0, 0.0, 0.0, 0.0, 0.0, 0.0, 0.0, 0.0, 0.0, 0.0, 0.0, 0.0, 0.0, 0.0, 0.0, 0.0, 0.0, 0.0, 0.0, 0.0, 0.0, 0.0, 0.0, 0.0, 0.0, 0.0, 0.0, 0.0, 0.0, 0.0, 0.0, 0.0, 0.0, 0.0, 0.0, 0.0, 0.0, 0.0, 0.0, 0.0, 0.0, 0.0, 0.0, 0.0, 0.0, 0.0, 0.0, 0.0, 0.0, 0.0, 0.0, 0.0, 0.0, 0.0, 0.0, 0.0, 0.0, 0.0, 0.0, 0.0, 0.0, 0.0, 0.0, 0.0, 0.0, 0.0, 0.0, 0.0, 0.0, 0.0, 0.0, 0.0, 0.0, 0.0, 0.0, 0.0, 0.0, 0.0, 0.0, 0.0, 0.0, 0.0, 0.0, 0.0, 0.0, 0.0, 0.0, 0.0, 0.0, 0.0, 0.0, 0.0, 0.0, 0.0, 0.0, 0.0, 0.0, 0.0, 0.0, 0.0, 0.0, 0.0, 0.0, 0.0, 0.0, 0.0, 0.0, 0.0, 0.0, 0.0, 0.0, 0.0, 0.0, 0.0, 0.0, 0.0, 0.0, 0.0, 0.0, 0.0, 0.0, 0.0, 0.0, 0.0, 0.0, 0.0, 0.0, 0.0, 0.0, 0.0, 0.0, 0.0, 0.0, 0.0, 0.0, 0.0, 0.0, 0.0, 0.0, 0.0, 0.0, 0.0, 0.0, 0.0, 0.0, 0.0, 0.0, 0.0, 0.0, 0.0, 0.0, 0.0, 0.0, 0.0, 0.0, 0.0, 0.0, 0.0, 0.0, 0.0, 0.0, 0.0, 0.0, 0.0, 0.0, 0.0, 0.0, 0.0, 0.0, 0.0, 0.0, 0.0, 0.0, 0.0, 0.0, 0.0, 0.0, 0.0, 0.0, 0.0, 0.0, 0.0, 0.0, 0.0, 0.0, 0.0, 0.0, 0.0, 0.0, 0.0, 0.0, 0.0, 0.0, 0.0, 0.0, 0.0, 0.0, 0.0, 0.0, 0.0, 0.0, 0.0, 0.0, 0.0, 0.0, 0.0, 0.0, 0.0, 0.0, 0.0, 0.0, 0.0, 0.0, 0.0, 0.0, 0.0, 0.0, 0.0, 0.0, 0.0, 0.0, 0.0, 0.0, 0.0, 0.0, 0.0, 0.0, 0.0, 0.0, 0.0, 0.0, 0.0, 0.0, 0.0, 0.0, 0.0, 0.0, 0.0, 0.0, 0.0, 0.0, 0.0, 0.0, 0.0, 0.0, 0.0, 0.0, 0.0, 0.0, 0.0, 0.0, 0.0, 0.0, 0.0, 0.0, 0.0, 0.0, 0.0, 0.0, 0.0, 0.0, 0.0, 0.0, 0.0, 0.0, 0.0, 0.0, 0.0, 0.0, 0.0, 0.0, 0.0, 0.0, 0.0, 0.0, 0.0, 0.0, 0.0, 0.0, 0.0, 0.0, 0.0, 0.0, 0.0, 0.0, 0.0, 0.0, 0.0, 0.0, 0.0, 0.0, 0.0, 0.0, 0.0, 0.0, 0.0, 0.0, 0.0, 0.0, 0.0, 0.0, 0.0, 0.0, 0.0, 0.0, 0.0, 0.0, 0.0, 0.0, 0.0, 0.0, 0.0, 0.0, 0.0, 0.0, 0.0, 0.0, 0.0, 0.0, 0.0, 0.0, 0.0, 0.0, 0.0, 0.0, 0.0, 0.0, 0.0, 0.0, 0.0, 0.0, 0.0, 0.0, 0.0, 0.0, 0.0, 0.0, 0.0, 0.0, 0.0, 0.0, 0.0, 0.0, 0.0, 0.0, 0.0, 0.0, 0.0, 0.0, 0.0, 0.0, 0.0, 0.0, 0.0, 0.0, 0.0, 0.0, 0.0, 0.0, 0.0, 0.0, 0.0, 0.0, 0.0, 0.0, 0.0, 0.0, 0.0, 0.0, 0.0, 0.0, 0.0, 0.0, 0.0, 0.0, 0.0, 0.0, 0.0, 0.0, 0.0, 0.0, 0.0, 0.0, 0.0, 0.0, 0.0, 0.0, 0.0, 0.0, 0.0, 0.0, 0.0, 0.0, 0.0, 0.0, 0.0, 0.0, 0.0, 0.0, 0.0, 0.0, 0.0, 0.0, 0.0, 0.0, 0.0, 0.0, 0.0, 0.0, 0.0, 0.0, 0.0, 0.0, 0.0, 0.0, 0.0, 0.0, 0.0, 0.0, 0.0, 0.0, 0.0, 0.0, 0.0, 0.0, 0.0, 0.0, 0.0, 0.0, 0.0, 0.0, 0.0, 0.0, 0.0, 0.0, 0.0, 0.0, 0.0, 0.0, 0.0, 0.0, 0.0, 0.0, 0.0, 0.0, 0.0, 0.0, 0.0, 0.0, 0.0, 0.0, 0.0, 0.0, 0.0, 0.0, 0.0, 0.0, 0.0, 0.0, 0.0, 0.0, 0.0, 0.0, 0.0, 0.0, 0.0, 0.0, 0.0, 0.0, 0.0, 0.0, 0.0, 0.0, 0.0, 0.0, 0.0, 0.0, 0.0, 0.0, 0.0, 0.0, 0.0, 0.0, 0.0, 0.0, 0.0, 0.0, 0.0, 0.0, 0.0, 0.0, 0.0, 0.0, 0.0, 0.0, 0.0, 0.0, 0.0, 0.0, 0.0, 0.0, 0.0, 0.0, 0.0, 0.0, 0.0, 0.0, 0.0, 0.0, 0.0, 0.0, 0.0, 0.0, 0.0, 0.0, 0.0, 0.0, 0.0, 0.0, 0.0, 0.0, 0.0, 0.0, 0.0, 0.0, 0.0, 0.0, 0.0, 0.0, 0.0, 0.0, 0.0, 0.0, 0.0, 0.0, 0.0, 0.0, 0.0, 0.0, 0.0, 0.0, 0.0, 0.0, 0.0, 0.0, 0.0, 0.0, 0.0, 0.0, 0.0, 0.0, 0.0, 0.0, 0.0, 0.0, 0.0, 0.0, 0.0, 0.0, 0.0, 0.0, 0.0, 0.0, 0.0, 0.0, 0.0, 0.0, 0.0, 0.0, 0.0, 0.0, 0.0, 0.0, 0.0, 0.0, 0.0, 0.0, 0.0, 0.0, 0.0, 0.0, 0.0, 0.0, 0.0, 0.0, 0.0, 0.0, 0.0, 0.0, 0.0, 0.0, 0.0, 0.0, 0.0, 0.0, 0.0, 0.0, 0.0, 0.0, 0.0, 0.0, 0.0, 0.0, 0.0, 0.0, 0.0, 0.0, 0.0, 0.0, 0.0, 0.0, 0.0, 0.0, 0.0, 0.0, 0.0, 0.0, 0.0, 0.0, 0.0, 0.0, 0.0, 0.0, 0.0, 0.0, 0.0, 0.0, 0.0, 0.0, 0.0, 0.0, 0.0, 0.0, 0.0, 0.0, 0.0, 0.0, 0.0, 0.0, 0.0, 0.0, 0.0, 0.0, 0.0, 0.0, 0.0, 0.0, 0.0, 0.0, 0.0, 0.0, 0.0, 0.0, 0.0, 0.0, 0.0, 0.0, 0.0, 0.0, 0.0, 0.0, 0.0, 0.0, 0.0, 0.0, 0.0, 0.0, 0.0, 0.0, 0.0, 0.0, 0.0, 0.0, 0.0, 0.0, 0.0, 0.0, 0.0, 0.0, 0.0, 0.0, 0.0, 0.0, 0.0, 0.0, 0.0, 0.0, 0.0, 0.0, 0.0, 0.0, 0.0, 0.0, 0.0, 0.0, 0.0, 0.0, 0.0, 0.0, 0.0, 0.0, 0.0, 0.0, 0.0, 0.0, 0.0, 0.0, 0.0, 0.0, 0.0, 0.0, 0.0, 0.0, 0.0, 0.0, 0.0, 0.0, 0.0, 0.0, 0.0, 0.0, 0.0, 0.0, 0.0, 0.0, 0.0, 0.0, 0.0, 0.0, 0.0, 0.0, 0.0, 0.0, 0.0, 0.0, 0.0, 0.0, 0.0, 0.0, 0.0, 0.0, 0.0, 0.0, 0.0, 0.0, 0.0, 0.0, 0.0, 0.0, 0.0, 0.0, 0.0, 0.0, 0.0, 0.0, 0.0, 0.0, 0.0, 0.0, 0.0, 0.0, 0.0, 0.0, 0.0, 0.0, 0.0, 0.0, 0.0, 0.0, 0.0, 0.0, 0.0, 0.0, 0.0, 0.0, 0.0, 0.0, 0.0, 0.0, 0.0, 0.0, 0.0, 0.0, 0.0, 0.0, 0.0, 0.0, 0.0, 0.0, 0.0, 0.0, 0.0, 0.0, 0.0, 0.0, 0.0, 0.0, 0.0, 0.0, 0.0, 0.0, 0.0, 0.0, 0.0, 0.0, 0.0, 0.0, 0.0, 0.0, 0.0, 0.0, 0.0, 0.0, 0.0, 0.0, 0.0, 0.0, 0.0, 0.0, 0.0, 0.0, 0.0, 0.0, 0.0, 0.0, 0.0, 0.0, 0.0, 0.0, 0.0, 0.0, 0.0, 0.0, 0.0, 0.0, 0.0, 0.0, 0.0, 0.0, 0.0, 0.0, 0.0, 0.0, 0.0, 0.0, 0.0, 0.0]\n",
      "\n",
      "Column 'BsmtUnfSF' has 241 zero values.\n",
      "Indices with 0 values in 'BsmtUnfSF': [17, 39, 42, 52, 54, 75, 90, 102, 120, 156, 174, 182, 188, 202, 233, 251, 259, 260, 262, 263, 273, 293, 303, 306, 322, 342, 352, 362, 371, 372, 373, 392, 411, 426, 461, 462, 470, 520, 532, 533, 543, 545, 548, 553, 557, 569, 582, 586, 592, 598, 614, 634, 643, 646, 649, 696, 705, 736, 738, 749, 764, 771, 778, 779, 783, 786, 810, 826, 828, 845, 856, 863, 868, 894, 897, 924, 942, 945, 954, 984, 1000, 1007, 1011, 1024, 1035, 1045, 1048, 1049, 1059, 1067, 1090, 1098, 1100, 1103, 1129, 1138, 1163, 1179, 1180, 1206, 1213, 1216, 1218, 1220, 1232, 1242, 1272, 1297, 1299, 1321, 1326, 1334, 1387, 1412, 1431, 1445, 1452, 1458, 1469, 1493, 1532, 1563, 1564, 1568, 1574, 1578, 1585, 1593, 1600, 1654, 1729, 1732, 1778, 1779, 1798, 1799, 1803, 1814, 1839, 1840, 1843, 1847, 1848, 1854, 1856, 1857, 1858, 1859, 1860, 1890, 1892, 1896, 1915, 1918, 1928, 1929, 1930, 1932, 1962, 2000, 2019, 2022, 2037, 2038, 2040, 2046, 2050, 2066, 2068, 2122, 2140, 2142, 2143, 2146, 2153, 2184, 2188, 2189, 2190, 2191, 2193, 2198, 2216, 2224, 2275, 2276, 2374, 2376, 2379, 2387, 2416, 2427, 2429, 2435, 2444, 2452, 2453, 2455, 2472, 2476, 2490, 2491, 2498, 2499, 2501, 2512, 2513, 2529, 2542, 2547, 2552, 2564, 2567, 2578, 2582, 2583, 2599, 2600, 2605, 2609, 2611, 2684, 2702, 2727, 2749, 2763, 2766, 2803, 2804, 2810, 2823, 2824, 2828, 2843, 2859, 2864, 2874, 2891, 2894, 2904, 2916]\n",
      "0 values in 'BsmtUnfSF': [0.0, 0.0, 0.0, 0.0, 0.0, 0.0, 0.0, 0.0, 0.0, 0.0, 0.0, 0.0, 0.0, 0.0, 0.0, 0.0, 0.0, 0.0, 0.0, 0.0, 0.0, 0.0, 0.0, 0.0, 0.0, 0.0, 0.0, 0.0, 0.0, 0.0, 0.0, 0.0, 0.0, 0.0, 0.0, 0.0, 0.0, 0.0, 0.0, 0.0, 0.0, 0.0, 0.0, 0.0, 0.0, 0.0, 0.0, 0.0, 0.0, 0.0, 0.0, 0.0, 0.0, 0.0, 0.0, 0.0, 0.0, 0.0, 0.0, 0.0, 0.0, 0.0, 0.0, 0.0, 0.0, 0.0, 0.0, 0.0, 0.0, 0.0, 0.0, 0.0, 0.0, 0.0, 0.0, 0.0, 0.0, 0.0, 0.0, 0.0, 0.0, 0.0, 0.0, 0.0, 0.0, 0.0, 0.0, 0.0, 0.0, 0.0, 0.0, 0.0, 0.0, 0.0, 0.0, 0.0, 0.0, 0.0, 0.0, 0.0, 0.0, 0.0, 0.0, 0.0, 0.0, 0.0, 0.0, 0.0, 0.0, 0.0, 0.0, 0.0, 0.0, 0.0, 0.0, 0.0, 0.0, 0.0, 0.0, 0.0, 0.0, 0.0, 0.0, 0.0, 0.0, 0.0, 0.0, 0.0, 0.0, 0.0, 0.0, 0.0, 0.0, 0.0, 0.0, 0.0, 0.0, 0.0, 0.0, 0.0, 0.0, 0.0, 0.0, 0.0, 0.0, 0.0, 0.0, 0.0, 0.0, 0.0, 0.0, 0.0, 0.0, 0.0, 0.0, 0.0, 0.0, 0.0, 0.0, 0.0, 0.0, 0.0, 0.0, 0.0, 0.0, 0.0, 0.0, 0.0, 0.0, 0.0, 0.0, 0.0, 0.0, 0.0, 0.0, 0.0, 0.0, 0.0, 0.0, 0.0, 0.0, 0.0, 0.0, 0.0, 0.0, 0.0, 0.0, 0.0, 0.0, 0.0, 0.0, 0.0, 0.0, 0.0, 0.0, 0.0, 0.0, 0.0, 0.0, 0.0, 0.0, 0.0, 0.0, 0.0, 0.0, 0.0, 0.0, 0.0, 0.0, 0.0, 0.0, 0.0, 0.0, 0.0, 0.0, 0.0, 0.0, 0.0, 0.0, 0.0, 0.0, 0.0, 0.0, 0.0, 0.0, 0.0, 0.0, 0.0, 0.0, 0.0, 0.0, 0.0, 0.0, 0.0, 0.0, 0.0, 0.0, 0.0, 0.0, 0.0, 0.0]\n",
      "\n",
      "Column 'TotalBsmtSF' has 78 zero values.\n",
      "Indices with 0 values in 'TotalBsmtSF': [17, 39, 90, 102, 156, 182, 259, 342, 362, 371, 392, 520, 532, 533, 553, 646, 705, 736, 749, 778, 868, 894, 897, 984, 1000, 1011, 1035, 1045, 1048, 1049, 1090, 1179, 1216, 1218, 1232, 1321, 1412, 1585, 1593, 1729, 1778, 1814, 1847, 1848, 1856, 1857, 1858, 1860, 1915, 2050, 2066, 2068, 2122, 2188, 2189, 2190, 2193, 2216, 2224, 2387, 2435, 2452, 2453, 2490, 2498, 2547, 2552, 2564, 2578, 2599, 2702, 2763, 2766, 2803, 2804, 2824, 2891, 2904]\n",
      "0 values in 'TotalBsmtSF': [0.0, 0.0, 0.0, 0.0, 0.0, 0.0, 0.0, 0.0, 0.0, 0.0, 0.0, 0.0, 0.0, 0.0, 0.0, 0.0, 0.0, 0.0, 0.0, 0.0, 0.0, 0.0, 0.0, 0.0, 0.0, 0.0, 0.0, 0.0, 0.0, 0.0, 0.0, 0.0, 0.0, 0.0, 0.0, 0.0, 0.0, 0.0, 0.0, 0.0, 0.0, 0.0, 0.0, 0.0, 0.0, 0.0, 0.0, 0.0, 0.0, 0.0, 0.0, 0.0, 0.0, 0.0, 0.0, 0.0, 0.0, 0.0, 0.0, 0.0, 0.0, 0.0, 0.0, 0.0, 0.0, 0.0, 0.0, 0.0, 0.0, 0.0, 0.0, 0.0, 0.0, 0.0, 0.0, 0.0, 0.0, 0.0]\n",
      "\n",
      "Column '2ndFlrSF' has 1668 zero values.\n",
      "Indices with 0 values in '2ndFlrSF': [1, 6, 9, 10, 12, 13, 14, 15, 16, 17, 18, 19, 21, 22, 23, 24, 25, 26, 27, 28, 29, 31, 32, 33, 34, 36, 37, 38, 39, 40, 41, 42, 43, 44, 45, 47, 49, 51, 52, 53, 54, 55, 59, 60, 62, 66, 67, 68, 70, 71, 73, 76, 78, 81, 82, 83, 88, 89, 90, 91, 92, 96, 97, 98, 99, 100, 102, 103, 106, 107, 109, 113, 116, 117, 120, 122, 123, 124, 125, 126, 127, 129, 132, 133, 134, 135, 136, 137, 140, 141, 143, 144, 146, 148, 150, 151, 153, 154, 156, 160, 162, 163, 166, 169, 170, 171, 173, 174, 175, 178, 179, 182, 186, 188, 189, 192, 194, 196, 199, 200, 201, 203, 205, 206, 207, 209, 210, 211, 213, 215, 216, 219, 220, 223, 224, 228, 229, 230, 233, 236, 238, 240, 241, 245, 247, 250, 251, 253, 254, 257, 259, 260, 262, 263, 264, 265, 268, 269, 271, 273, 274, 276, 277, 278, 281, 282, 283, 284, 287, 288, 294, 295, 299, 300, 302, 303, 305, 308, 309, 311, 313, 319, 323, 325, 326, 327, 330, 331, 332, 333, 336, 337, 338, 339, 341, 342, 343, 346, 347, 350, 351, 353, 355, 356, 357, 358, 360, 366, 367, 368, 369, 372, 373, 375, 376, 378, 381, 383, 385, 387, 388, 392, 393, 395, 396, 398, 400, 401, 402, 405, 406, 410, 411, 412, 413, 415, 419, 420, 421, 422, 424, 426, 427, 428, 429, 434, 437, 438, 440, 441, 443, 445, 446, 450, 451, 454, 455, 457, 462, 464, 465, 466, 468, 470, 472, 473, 474, 475, 476, 478, 479, 480, 481, 483, 484, 485, 486, 487, 489, 493, 494, 495, 496, 498, 499, 502, 503, 507, 509, 510, 511, 512, 513, 514, 515, 521, 525, 526, 528, 529, 530, 532, 533, 537, 538, 539, 540, 542, 543, 547, 548, 550, 551, 552, 553, 555, 556, 559, 560, 561, 562, 567, 569, 570, 571, 577, 580, 581, 582, 585, 586, 587, 588, 589, 592, 593, 594, 595, 597, 598, 604, 606, 609, 611, 613, 614, 615, 617, 618, 620, 622, 625, 626, 627, 629, 631, 632, 633, 634, 636, 638, 639, 640, 644, 645, 646, 647, 649, 654, 656, 659, 662, 663, 664, 667, 668, 669, 672, 673, 674, 677, 678, 679, 680, 682, 683, 688, 689, 690, 693, 695, 696, 697, 698, 699, 700, 701, 704, 706, 707, 709, 710, 712, 713, 715, 717, 719, 720, 721, 722, 724, 725, 726, 727, 728, 729, 730, 731, 733, 734, 736, 738, 741, 742, 743, 744, 748, 752, 754, 760, 761, 764, 765, 768, 770, 771, 772, 773, 774, 775, 776, 777, 778, 779, 780, 782, 783, 785, 788, 790, 791, 793, 796, 797, 801, 804, 805, 806, 808, 810, 811, 812, 813, 815, 816, 817, 818, 819, 821, 824, 825, 826, 827, 830, 833, 834, 835, 836, 838, 842, 843, 845, 847, 850, 851, 853, 854, 855, 856, 858, 861, 862, 863, 864, 865, 866, 867, 870, 872, 873, 876, 878, 879, 880, 884, 885, 886, 888, 889, 892, 893, 894, 896, 898, 899, 900, 901, 903, 904, 905, 906, 908, 911, 912, 916, 917, 919, 922, 923, 924, 925, 928, 930, 931, 932, 933, 934, 935, 936, 940, 942, 943, 944, 946, 947, 949, 950, 951, 952, 954, 957, 958, 960, 963, 967, 969, 972, 973, 976, 977, 978, 979, 980, 982, 985, 987, 994, 996, 997, 998, 999, 1000, 1001, 1002, 1003, 1004, 1005, 1006, 1008, 1009, 1011, 1013, 1014, 1016, 1017, 1019, 1020, 1021, 1023, 1024, 1025, 1026, 1027, 1033, 1034, 1035, 1036, 1039, 1040, 1042, 1044, 1045, 1047, 1048, 1049, 1050, 1051, 1053, 1055, 1056, 1060, 1061, 1063, 1064, 1069, 1070, 1074, 1077, 1078, 1079, 1080, 1081, 1082, 1083, 1085, 1089, 1090, 1093, 1094, 1095, 1097, 1099, 1100, 1101, 1102, 1103, 1106, 1109, 1112, 1113, 1114, 1115, 1117, 1119, 1120, 1121, 1122, 1123, 1125, 1126, 1127, 1129, 1131, 1135, 1138, 1139, 1140, 1143, 1146, 1150, 1151, 1152, 1153, 1155, 1156, 1157, 1158, 1161, 1162, 1163, 1164, 1165, 1166, 1170, 1171, 1176, 1179, 1181, 1183, 1184, 1187, 1190, 1193, 1198, 1199, 1200, 1203, 1204, 1205, 1206, 1207, 1208, 1209, 1212, 1213, 1214, 1215, 1217, 1220, 1221, 1223, 1225, 1227, 1228, 1229, 1231, 1232, 1233, 1238, 1239, 1241, 1242, 1243, 1247, 1249, 1250, 1251, 1252, 1256, 1257, 1258, 1259, 1261, 1264, 1267, 1271, 1272, 1273, 1277, 1280, 1281, 1282, 1286, 1287, 1288, 1290, 1294, 1295, 1296, 1297, 1299, 1303, 1305, 1306, 1307, 1308, 1309, 1310, 1311, 1314, 1316, 1317, 1318, 1319, 1320, 1321, 1323, 1324, 1325, 1326, 1327, 1330, 1331, 1332, 1335, 1336, 1337, 1339, 1340, 1341, 1345, 1346, 1347, 1348, 1356, 1357, 1359, 1361, 1368, 1369, 1371, 1373, 1375, 1376, 1380, 1381, 1383, 1388, 1390, 1391, 1392, 1394, 1396, 1402, 1403, 1405, 1406, 1407, 1412, 1413, 1415, 1418, 1419, 1421, 1422, 1424, 1425, 1428, 1429, 1431, 1432, 1434, 1435, 1436, 1437, 1438, 1441, 1443, 1444, 1445, 1446, 1449, 1451, 1452, 1453, 1454, 1456, 1458, 1459, 1460, 1461, 1464, 1466, 1468, 1469, 1470, 1474, 1476, 1477, 1478, 1479, 1481, 1482, 1483, 1487, 1488, 1489, 1491, 1492, 1495, 1502, 1504, 1505, 1509, 1510, 1511, 1513, 1516, 1517, 1518, 1519, 1520, 1521, 1523, 1524, 1525, 1526, 1528, 1529, 1531, 1532, 1536, 1543, 1550, 1554, 1560, 1561, 1562, 1563, 1565, 1566, 1569, 1570, 1571, 1572, 1573, 1574, 1576, 1578, 1580, 1581, 1582, 1584, 1585, 1586, 1587, 1589, 1590, 1591, 1592, 1598, 1599, 1600, 1602, 1603, 1605, 1606, 1607, 1608, 1610, 1611, 1612, 1613, 1617, 1618, 1622, 1624, 1625, 1629, 1630, 1631, 1635, 1638, 1640, 1644, 1645, 1646, 1647, 1648, 1649, 1650, 1654, 1658, 1659, 1662, 1663, 1664, 1665, 1667, 1668, 1669, 1670, 1671, 1673, 1674, 1675, 1676, 1677, 1678, 1679, 1680, 1681, 1682, 1685, 1698, 1701, 1702, 1703, 1704, 1705, 1706, 1707, 1708, 1709, 1711, 1712, 1713, 1715, 1716, 1717, 1719, 1720, 1721, 1722, 1723, 1726, 1730, 1731, 1732, 1733, 1734, 1735, 1736, 1739, 1740, 1743, 1744, 1748, 1749, 1751, 1752, 1754, 1755, 1756, 1757, 1758, 1759, 1760, 1762, 1763, 1764, 1765, 1766, 1767, 1768, 1769, 1770, 1771, 1772, 1773, 1774, 1775, 1776, 1777, 1778, 1780, 1781, 1784, 1785, 1787, 1788, 1789, 1791, 1792, 1793, 1794, 1795, 1797, 1798, 1799, 1801, 1803, 1804, 1813, 1814, 1815, 1819, 1820, 1822, 1823, 1826, 1828, 1836, 1838, 1839, 1840, 1842, 1843, 1845, 1846, 1847, 1848, 1849, 1851, 1852, 1853, 1854, 1858, 1859, 1860, 1864, 1865, 1866, 1867, 1868, 1869, 1870, 1873, 1874, 1876, 1877, 1878, 1879, 1880, 1884, 1885, 1886, 1887, 1889, 1890, 1891, 1892, 1893, 1894, 1898, 1901, 1903, 1904, 1906, 1911, 1913, 1914, 1915, 1917, 1918, 1919, 1920, 1921, 1923, 1925, 1926, 1927, 1928, 1929, 1930, 1937, 1938, 1939, 1942, 1944, 1945, 1946, 1947, 1948, 1949, 1950, 1951, 1952, 1956, 1959, 1960, 1965, 1966, 1967, 1968, 1974, 1975, 1978, 1979, 1980, 1981, 1982, 1984, 1985, 1986, 1990, 1997, 2001, 2004, 2005, 2006, 2007, 2010, 2011, 2017, 2018, 2019, 2020, 2021, 2025, 2029, 2030, 2031, 2032, 2038, 2040, 2042, 2043, 2044, 2045, 2047, 2048, 2050, 2051, 2052, 2054, 2055, 2056, 2058, 2059, 2060, 2061, 2062, 2063, 2064, 2065, 2066, 2067, 2068, 2070, 2072, 2073, 2074, 2075, 2076, 2077, 2079, 2081, 2083, 2084, 2085, 2088, 2093, 2095, 2098, 2099, 2107, 2108, 2109, 2115, 2118, 2120, 2122, 2128, 2130, 2132, 2134, 2136, 2137, 2138, 2139, 2140, 2141, 2142, 2143, 2144, 2145, 2146, 2148, 2149, 2151, 2152, 2153, 2156, 2160, 2161, 2162, 2163, 2164, 2165, 2166, 2170, 2171, 2172, 2175, 2178, 2179, 2180, 2181, 2182, 2183, 2184, 2185, 2186, 2188, 2189, 2190, 2191, 2194, 2195, 2197, 2205, 2208, 2210, 2214, 2216, 2220, 2221, 2222, 2225, 2226, 2227, 2231, 2232, 2233, 2234, 2235, 2236, 2237, 2238, 2239, 2240, 2241, 2245, 2247, 2248, 2249, 2251, 2257, 2259, 2260, 2261, 2263, 2264, 2265, 2266, 2267, 2268, 2270, 2272, 2273, 2274, 2275, 2277, 2278, 2279, 2280, 2281, 2284, 2285, 2286, 2287, 2288, 2291, 2292, 2294, 2297, 2301, 2302, 2304, 2305, 2306, 2307, 2308, 2309, 2310, 2316, 2319, 2320, 2321, 2322, 2324, 2336, 2337, 2338, 2339, 2340, 2341, 2342, 2345, 2346, 2350, 2351, 2353, 2354, 2355, 2356, 2359, 2360, 2362, 2363, 2364, 2365, 2366, 2367, 2368, 2371, 2374, 2375, 2376, 2377, 2379, 2380, 2381, 2382, 2384, 2385, 2386, 2387, 2388, 2389, 2390, 2391, 2392, 2393, 2395, 2396, 2397, 2398, 2400, 2401, 2402, 2403, 2404, 2405, 2406, 2407, 2408, 2409, 2410, 2411, 2412, 2413, 2414, 2415, 2416, 2417, 2419, 2420, 2421, 2423, 2428, 2429, 2430, 2431, 2432, 2433, 2434, 2435, 2436, 2437, 2438, 2440, 2441, 2442, 2452, 2453, 2458, 2476, 2477, 2478, 2479, 2480, 2481, 2482, 2483, 2484, 2485, 2488, 2489, 2490, 2491, 2492, 2493, 2494, 2495, 2497, 2498, 2499, 2500, 2505, 2506, 2507, 2508, 2509, 2510, 2513, 2514, 2516, 2517, 2522, 2523, 2524, 2525, 2526, 2527, 2528, 2529, 2530, 2533, 2536, 2538, 2539, 2542, 2543, 2545, 2546, 2549, 2550, 2551, 2552, 2553, 2555, 2556, 2558, 2564, 2567, 2568, 2570, 2571, 2572, 2573, 2577, 2578, 2580, 2581, 2582, 2583, 2584, 2585, 2586, 2587, 2588, 2589, 2590, 2591, 2592, 2593, 2594, 2595, 2596, 2598, 2599, 2600, 2605, 2606, 2607, 2609, 2610, 2611, 2612, 2613, 2614, 2615, 2616, 2617, 2618, 2625, 2626, 2632, 2633, 2634, 2636, 2639, 2640, 2641, 2647, 2648, 2649, 2652, 2653, 2654, 2660, 2661, 2663, 2664, 2665, 2668, 2671, 2672, 2673, 2674, 2686, 2687, 2688, 2691, 2692, 2693, 2698, 2699, 2701, 2703, 2704, 2705, 2706, 2707, 2708, 2709, 2712, 2717, 2718, 2719, 2720, 2722, 2723, 2724, 2725, 2726, 2727, 2729, 2730, 2731, 2732, 2733, 2734, 2736, 2737, 2738, 2739, 2740, 2741, 2742, 2743, 2744, 2745, 2746, 2747, 2748, 2749, 2750, 2751, 2752, 2755, 2756, 2760, 2761, 2762, 2763, 2766, 2767, 2768, 2769, 2770, 2771, 2779, 2780, 2781, 2783, 2785, 2787, 2790, 2791, 2795, 2799, 2800, 2802, 2803, 2804, 2805, 2806, 2807, 2808, 2809, 2810, 2811, 2812, 2813, 2814, 2815, 2816, 2817, 2819, 2823, 2824, 2825, 2828, 2830, 2831, 2832, 2834, 2836, 2837, 2839, 2843, 2844, 2847, 2853, 2854, 2857, 2859, 2860, 2862, 2864, 2869, 2870, 2871, 2886, 2888, 2889, 2891, 2894, 2895, 2896, 2897, 2898, 2899, 2900, 2901, 2902, 2903, 2904, 2905, 2907, 2908, 2909, 2911, 2916, 2917]\n",
      "0 values in '2ndFlrSF': [0, 0, 0, 0, 0, 0, 0, 0, 0, 0, 0, 0, 0, 0, 0, 0, 0, 0, 0, 0, 0, 0, 0, 0, 0, 0, 0, 0, 0, 0, 0, 0, 0, 0, 0, 0, 0, 0, 0, 0, 0, 0, 0, 0, 0, 0, 0, 0, 0, 0, 0, 0, 0, 0, 0, 0, 0, 0, 0, 0, 0, 0, 0, 0, 0, 0, 0, 0, 0, 0, 0, 0, 0, 0, 0, 0, 0, 0, 0, 0, 0, 0, 0, 0, 0, 0, 0, 0, 0, 0, 0, 0, 0, 0, 0, 0, 0, 0, 0, 0, 0, 0, 0, 0, 0, 0, 0, 0, 0, 0, 0, 0, 0, 0, 0, 0, 0, 0, 0, 0, 0, 0, 0, 0, 0, 0, 0, 0, 0, 0, 0, 0, 0, 0, 0, 0, 0, 0, 0, 0, 0, 0, 0, 0, 0, 0, 0, 0, 0, 0, 0, 0, 0, 0, 0, 0, 0, 0, 0, 0, 0, 0, 0, 0, 0, 0, 0, 0, 0, 0, 0, 0, 0, 0, 0, 0, 0, 0, 0, 0, 0, 0, 0, 0, 0, 0, 0, 0, 0, 0, 0, 0, 0, 0, 0, 0, 0, 0, 0, 0, 0, 0, 0, 0, 0, 0, 0, 0, 0, 0, 0, 0, 0, 0, 0, 0, 0, 0, 0, 0, 0, 0, 0, 0, 0, 0, 0, 0, 0, 0, 0, 0, 0, 0, 0, 0, 0, 0, 0, 0, 0, 0, 0, 0, 0, 0, 0, 0, 0, 0, 0, 0, 0, 0, 0, 0, 0, 0, 0, 0, 0, 0, 0, 0, 0, 0, 0, 0, 0, 0, 0, 0, 0, 0, 0, 0, 0, 0, 0, 0, 0, 0, 0, 0, 0, 0, 0, 0, 0, 0, 0, 0, 0, 0, 0, 0, 0, 0, 0, 0, 0, 0, 0, 0, 0, 0, 0, 0, 0, 0, 0, 0, 0, 0, 0, 0, 0, 0, 0, 0, 0, 0, 0, 0, 0, 0, 0, 0, 0, 0, 0, 0, 0, 0, 0, 0, 0, 0, 0, 0, 0, 0, 0, 0, 0, 0, 0, 0, 0, 0, 0, 0, 0, 0, 0, 0, 0, 0, 0, 0, 0, 0, 0, 0, 0, 0, 0, 0, 0, 0, 0, 0, 0, 0, 0, 0, 0, 0, 0, 0, 0, 0, 0, 0, 0, 0, 0, 0, 0, 0, 0, 0, 0, 0, 0, 0, 0, 0, 0, 0, 0, 0, 0, 0, 0, 0, 0, 0, 0, 0, 0, 0, 0, 0, 0, 0, 0, 0, 0, 0, 0, 0, 0, 0, 0, 0, 0, 0, 0, 0, 0, 0, 0, 0, 0, 0, 0, 0, 0, 0, 0, 0, 0, 0, 0, 0, 0, 0, 0, 0, 0, 0, 0, 0, 0, 0, 0, 0, 0, 0, 0, 0, 0, 0, 0, 0, 0, 0, 0, 0, 0, 0, 0, 0, 0, 0, 0, 0, 0, 0, 0, 0, 0, 0, 0, 0, 0, 0, 0, 0, 0, 0, 0, 0, 0, 0, 0, 0, 0, 0, 0, 0, 0, 0, 0, 0, 0, 0, 0, 0, 0, 0, 0, 0, 0, 0, 0, 0, 0, 0, 0, 0, 0, 0, 0, 0, 0, 0, 0, 0, 0, 0, 0, 0, 0, 0, 0, 0, 0, 0, 0, 0, 0, 0, 0, 0, 0, 0, 0, 0, 0, 0, 0, 0, 0, 0, 0, 0, 0, 0, 0, 0, 0, 0, 0, 0, 0, 0, 0, 0, 0, 0, 0, 0, 0, 0, 0, 0, 0, 0, 0, 0, 0, 0, 0, 0, 0, 0, 0, 0, 0, 0, 0, 0, 0, 0, 0, 0, 0, 0, 0, 0, 0, 0, 0, 0, 0, 0, 0, 0, 0, 0, 0, 0, 0, 0, 0, 0, 0, 0, 0, 0, 0, 0, 0, 0, 0, 0, 0, 0, 0, 0, 0, 0, 0, 0, 0, 0, 0, 0, 0, 0, 0, 0, 0, 0, 0, 0, 0, 0, 0, 0, 0, 0, 0, 0, 0, 0, 0, 0, 0, 0, 0, 0, 0, 0, 0, 0, 0, 0, 0, 0, 0, 0, 0, 0, 0, 0, 0, 0, 0, 0, 0, 0, 0, 0, 0, 0, 0, 0, 0, 0, 0, 0, 0, 0, 0, 0, 0, 0, 0, 0, 0, 0, 0, 0, 0, 0, 0, 0, 0, 0, 0, 0, 0, 0, 0, 0, 0, 0, 0, 0, 0, 0, 0, 0, 0, 0, 0, 0, 0, 0, 0, 0, 0, 0, 0, 0, 0, 0, 0, 0, 0, 0, 0, 0, 0, 0, 0, 0, 0, 0, 0, 0, 0, 0, 0, 0, 0, 0, 0, 0, 0, 0, 0, 0, 0, 0, 0, 0, 0, 0, 0, 0, 0, 0, 0, 0, 0, 0, 0, 0, 0, 0, 0, 0, 0, 0, 0, 0, 0, 0, 0, 0, 0, 0, 0, 0, 0, 0, 0, 0, 0, 0, 0, 0, 0, 0, 0, 0, 0, 0, 0, 0, 0, 0, 0, 0, 0, 0, 0, 0, 0, 0, 0, 0, 0, 0, 0, 0, 0, 0, 0, 0, 0, 0, 0, 0, 0, 0, 0, 0, 0, 0, 0, 0, 0, 0, 0, 0, 0, 0, 0, 0, 0, 0, 0, 0, 0, 0, 0, 0, 0, 0, 0, 0, 0, 0, 0, 0, 0, 0, 0, 0, 0, 0, 0, 0, 0, 0, 0, 0, 0, 0, 0, 0, 0, 0, 0, 0, 0, 0, 0, 0, 0, 0, 0, 0, 0, 0, 0, 0, 0, 0, 0, 0, 0, 0, 0, 0, 0, 0, 0, 0, 0, 0, 0, 0, 0, 0, 0, 0, 0, 0, 0, 0, 0, 0, 0, 0, 0, 0, 0, 0, 0, 0, 0, 0, 0, 0, 0, 0, 0, 0, 0, 0, 0, 0, 0, 0, 0, 0, 0, 0, 0, 0, 0, 0, 0, 0, 0, 0, 0, 0, 0, 0, 0, 0, 0, 0, 0, 0, 0, 0, 0, 0, 0, 0, 0, 0, 0, 0, 0, 0, 0, 0, 0, 0, 0, 0, 0, 0, 0, 0, 0, 0, 0, 0, 0, 0, 0, 0, 0, 0, 0, 0, 0, 0, 0, 0, 0, 0, 0, 0, 0, 0, 0, 0, 0, 0, 0, 0, 0, 0, 0, 0, 0, 0, 0, 0, 0, 0, 0, 0, 0, 0, 0, 0, 0, 0, 0, 0, 0, 0, 0, 0, 0, 0, 0, 0, 0, 0, 0, 0, 0, 0, 0, 0, 0, 0, 0, 0, 0, 0, 0, 0, 0, 0, 0, 0, 0, 0, 0, 0, 0, 0, 0, 0, 0, 0, 0, 0, 0, 0, 0, 0, 0, 0, 0, 0, 0, 0, 0, 0, 0, 0, 0, 0, 0, 0, 0, 0, 0, 0, 0, 0, 0, 0, 0, 0, 0, 0, 0, 0, 0, 0, 0, 0, 0, 0, 0, 0, 0, 0, 0, 0, 0, 0, 0, 0, 0, 0, 0, 0, 0, 0, 0, 0, 0, 0, 0, 0, 0, 0, 0, 0, 0, 0, 0, 0, 0, 0, 0, 0, 0, 0, 0, 0, 0, 0, 0, 0, 0, 0, 0, 0, 0, 0, 0, 0, 0, 0, 0, 0, 0, 0, 0, 0, 0, 0, 0, 0, 0, 0, 0, 0, 0, 0, 0, 0, 0, 0, 0, 0, 0, 0, 0, 0, 0, 0, 0, 0, 0, 0, 0, 0, 0, 0, 0, 0, 0, 0, 0, 0, 0, 0, 0, 0, 0, 0, 0, 0, 0, 0, 0, 0, 0, 0, 0, 0, 0, 0, 0, 0, 0, 0, 0, 0, 0, 0, 0, 0, 0, 0, 0, 0, 0, 0, 0, 0, 0, 0, 0, 0, 0, 0, 0, 0, 0, 0, 0, 0, 0, 0, 0, 0, 0, 0, 0, 0, 0, 0, 0, 0, 0, 0, 0, 0, 0, 0, 0, 0, 0, 0, 0, 0, 0, 0, 0, 0, 0, 0, 0, 0, 0, 0, 0, 0, 0, 0, 0, 0, 0, 0, 0, 0, 0, 0, 0, 0, 0, 0, 0, 0, 0, 0, 0, 0, 0, 0, 0, 0, 0, 0, 0, 0, 0, 0, 0, 0, 0, 0, 0, 0, 0, 0, 0, 0, 0, 0, 0, 0, 0, 0, 0, 0, 0, 0, 0, 0, 0, 0, 0, 0, 0, 0, 0, 0, 0, 0, 0, 0, 0, 0, 0, 0, 0, 0, 0, 0, 0, 0, 0, 0, 0, 0, 0, 0, 0, 0, 0, 0, 0, 0, 0, 0, 0, 0, 0, 0, 0, 0, 0, 0, 0, 0, 0, 0, 0, 0, 0, 0, 0, 0, 0, 0, 0, 0, 0, 0, 0, 0, 0, 0, 0, 0, 0, 0, 0, 0, 0, 0, 0, 0, 0, 0, 0, 0, 0, 0, 0, 0, 0, 0, 0, 0, 0, 0, 0, 0, 0, 0, 0, 0, 0, 0, 0, 0, 0, 0, 0, 0, 0, 0, 0, 0, 0, 0, 0, 0, 0, 0, 0, 0, 0, 0, 0, 0, 0, 0, 0, 0, 0, 0, 0, 0, 0, 0, 0, 0, 0, 0, 0, 0, 0, 0, 0, 0, 0, 0, 0, 0, 0, 0, 0, 0, 0, 0, 0, 0, 0, 0, 0, 0, 0, 0, 0, 0, 0, 0, 0, 0, 0, 0, 0, 0, 0, 0, 0, 0, 0, 0, 0, 0, 0, 0, 0, 0, 0, 0, 0, 0, 0, 0, 0, 0, 0, 0, 0, 0, 0, 0, 0, 0, 0, 0, 0, 0, 0, 0, 0, 0, 0, 0, 0, 0, 0, 0, 0, 0, 0, 0, 0, 0, 0, 0, 0, 0, 0, 0, 0, 0, 0, 0, 0, 0, 0, 0, 0, 0, 0, 0, 0, 0, 0, 0, 0, 0, 0, 0, 0, 0, 0, 0, 0, 0, 0, 0, 0, 0, 0, 0, 0, 0, 0, 0, 0, 0, 0, 0, 0, 0, 0, 0, 0, 0, 0, 0, 0, 0, 0, 0, 0, 0, 0, 0, 0, 0, 0, 0, 0, 0, 0, 0, 0, 0, 0, 0, 0, 0, 0, 0, 0, 0, 0, 0, 0, 0, 0, 0, 0, 0, 0, 0, 0, 0, 0, 0, 0, 0, 0, 0, 0, 0, 0, 0, 0, 0]\n",
      "\n",
      "Column 'GarageArea' has 157 zero values.\n",
      "Indices with 0 values in 'GarageArea': [39, 48, 78, 88, 89, 99, 108, 125, 127, 140, 148, 155, 163, 165, 198, 210, 241, 250, 287, 291, 307, 375, 386, 393, 431, 434, 441, 464, 495, 520, 528, 533, 535, 562, 582, 613, 614, 620, 635, 636, 638, 649, 705, 710, 738, 750, 784, 826, 843, 921, 942, 954, 960, 968, 970, 976, 1009, 1011, 1030, 1038, 1096, 1123, 1131, 1137, 1143, 1173, 1179, 1218, 1219, 1234, 1257, 1283, 1323, 1325, 1326, 1337, 1349, 1407, 1449, 1450, 1453, 1513, 1531, 1539, 1552, 1556, 1558, 1560, 1590, 1593, 1594, 1614, 1615, 1717, 1721, 1787, 1808, 1810, 1811, 1819, 1822, 1831, 1834, 1836, 1839, 1847, 1893, 2010, 2081, 2090, 2093, 2096, 2099, 2104, 2135, 2151, 2153, 2189, 2190, 2191, 2192, 2193, 2212, 2238, 2246, 2353, 2354, 2398, 2399, 2422, 2426, 2552, 2553, 2557, 2575, 2579, 2603, 2609, 2691, 2693, 2708, 2767, 2771, 2789, 2791, 2799, 2859, 2862, 2870, 2888, 2891, 2892, 2893, 2909, 2913, 2914, 2917]\n",
      "0 values in 'GarageArea': [0.0, 0.0, 0.0, 0.0, 0.0, 0.0, 0.0, 0.0, 0.0, 0.0, 0.0, 0.0, 0.0, 0.0, 0.0, 0.0, 0.0, 0.0, 0.0, 0.0, 0.0, 0.0, 0.0, 0.0, 0.0, 0.0, 0.0, 0.0, 0.0, 0.0, 0.0, 0.0, 0.0, 0.0, 0.0, 0.0, 0.0, 0.0, 0.0, 0.0, 0.0, 0.0, 0.0, 0.0, 0.0, 0.0, 0.0, 0.0, 0.0, 0.0, 0.0, 0.0, 0.0, 0.0, 0.0, 0.0, 0.0, 0.0, 0.0, 0.0, 0.0, 0.0, 0.0, 0.0, 0.0, 0.0, 0.0, 0.0, 0.0, 0.0, 0.0, 0.0, 0.0, 0.0, 0.0, 0.0, 0.0, 0.0, 0.0, 0.0, 0.0, 0.0, 0.0, 0.0, 0.0, 0.0, 0.0, 0.0, 0.0, 0.0, 0.0, 0.0, 0.0, 0.0, 0.0, 0.0, 0.0, 0.0, 0.0, 0.0, 0.0, 0.0, 0.0, 0.0, 0.0, 0.0, 0.0, 0.0, 0.0, 0.0, 0.0, 0.0, 0.0, 0.0, 0.0, 0.0, 0.0, 0.0, 0.0, 0.0, 0.0, 0.0, 0.0, 0.0, 0.0, 0.0, 0.0, 0.0, 0.0, 0.0, 0.0, 0.0, 0.0, 0.0, 0.0, 0.0, 0.0, 0.0, 0.0, 0.0, 0.0, 0.0, 0.0, 0.0, 0.0, 0.0, 0.0, 0.0, 0.0, 0.0, 0.0, 0.0, 0.0, 0.0, 0.0, 0.0, 0.0]\n",
      "\n",
      "Column 'WoodDeckSF' has 1523 zero values.\n",
      "Indices with 0 values in 'WoodDeckSF': [0, 2, 3, 9, 10, 14, 16, 17, 18, 19, 21, 25, 27, 30, 31, 32, 33, 37, 38, 39, 40, 41, 44, 47, 48, 49, 50, 54, 55, 57, 60, 61, 68, 69, 71, 72, 73, 74, 76, 77, 78, 80, 81, 87, 88, 89, 90, 91, 92, 93, 94, 98, 102, 103, 104, 106, 107, 108, 109, 115, 116, 119, 120, 121, 122, 123, 126, 127, 129, 132, 134, 136, 137, 140, 142, 144, 145, 148, 150, 151, 152, 154, 155, 156, 157, 158, 160, 162, 163, 164, 173, 175, 176, 177, 178, 179, 180, 181, 185, 187, 189, 190, 191, 192, 193, 194, 197, 198, 199, 202, 204, 205, 206, 209, 210, 214, 215, 217, 218, 225, 227, 228, 230, 231, 232, 235, 239, 242, 243, 244, 246, 247, 249, 258, 259, 260, 261, 263, 264, 268, 277, 280, 281, 284, 285, 286, 287, 288, 289, 290, 291, 292, 293, 297, 299, 300, 307, 311, 312, 313, 314, 325, 327, 328, 329, 331, 332, 339, 342, 345, 346, 347, 348, 349, 351, 354, 355, 360, 361, 362, 365, 366, 368, 371, 375, 376, 380, 383, 386, 390, 392, 393, 394, 397, 398, 399, 401, 404, 406, 407, 409, 410, 412, 413, 416, 417, 418, 419, 420, 422, 423, 424, 425, 427, 429, 430, 431, 433, 436, 437, 438, 439, 440, 441, 442, 445, 446, 448, 449, 450, 453, 454, 455, 456, 459, 460, 462, 463, 464, 466, 468, 470, 471, 472, 475, 479, 482, 483, 484, 485, 486, 489, 491, 492, 493, 495, 497, 501, 502, 503, 505, 507, 508, 512, 514, 516, 518, 519, 521, 522, 528, 529, 531, 532, 533, 541, 545, 546, 550, 551, 553, 555, 557, 560, 564, 565, 567, 570, 576, 578, 579, 581, 582, 584, 586, 587, 588, 589, 590, 592, 594, 596, 598, 601, 603, 605, 608, 611, 613, 617, 618, 620, 623, 625, 626, 627, 630, 635, 636, 637, 641, 645, 646, 647, 648, 649, 650, 652, 655, 656, 657, 659, 660, 662, 663, 666, 669, 673, 676, 679, 681, 684, 687, 693, 696, 697, 701, 704, 705, 709, 710, 713, 714, 715, 716, 719, 722, 723, 728, 729, 735, 736, 737, 745, 750, 751, 755, 758, 760, 761, 763, 764, 765, 771, 773, 775, 778, 779, 781, 782, 784, 785, 786, 787, 788, 795, 797, 799, 801, 804, 805, 807, 808, 812, 813, 815, 816, 818, 820, 821, 824, 826, 829, 830, 831, 833, 834, 836, 837, 839, 840, 842, 843, 845, 847, 852, 854, 855, 856, 857, 858, 859, 860, 861, 862, 863, 864, 865, 870, 871, 873, 876, 879, 880, 883, 884, 889, 890, 894, 895, 896, 898, 899, 900, 901, 902, 904, 905, 906, 907, 910, 912, 913, 914, 915, 916, 917, 919, 921, 923, 927, 929, 931, 932, 934, 935, 936, 937, 938, 941, 943, 944, 947, 949, 954, 955, 957, 958, 959, 964, 965, 966, 967, 968, 969, 970, 971, 973, 976, 977, 978, 979, 983, 984, 985, 988, 989, 990, 991, 993, 995, 996, 998, 1000, 1001, 1003, 1006, 1009, 1010, 1011, 1013, 1014, 1015, 1022, 1024, 1026, 1028, 1029, 1030, 1033, 1034, 1037, 1038, 1039, 1040, 1041, 1045, 1047, 1048, 1049, 1050, 1051, 1052, 1055, 1058, 1059, 1060, 1061, 1062, 1064, 1066, 1069, 1070, 1071, 1072, 1075, 1079, 1081, 1083, 1088, 1089, 1090, 1091, 1093, 1094, 1095, 1097, 1098, 1099, 1100, 1101, 1102, 1103, 1104, 1106, 1107, 1111, 1112, 1113, 1114, 1115, 1117, 1120, 1123, 1125, 1131, 1132, 1133, 1135, 1136, 1137, 1139, 1140, 1143, 1144, 1145, 1147, 1148, 1149, 1150, 1151, 1152, 1153, 1155, 1156, 1158, 1159, 1162, 1165, 1167, 1168, 1171, 1172, 1174, 1175, 1177, 1179, 1180, 1184, 1185, 1186, 1187, 1192, 1193, 1197, 1199, 1200, 1202, 1204, 1206, 1208, 1212, 1215, 1216, 1218, 1220, 1221, 1222, 1223, 1227, 1228, 1229, 1231, 1232, 1233, 1234, 1236, 1238, 1240, 1241, 1242, 1244, 1246, 1247, 1248, 1249, 1250, 1255, 1257, 1260, 1261, 1263, 1265, 1266, 1269, 1271, 1273, 1275, 1277, 1278, 1280, 1281, 1282, 1286, 1292, 1293, 1294, 1297, 1300, 1301, 1304, 1307, 1308, 1310, 1314, 1317, 1319, 1321, 1324, 1325, 1326, 1327, 1328, 1329, 1331, 1332, 1333, 1334, 1335, 1336, 1337, 1339, 1340, 1341, 1343, 1344, 1345, 1346, 1347, 1349, 1350, 1351, 1354, 1355, 1356, 1357, 1358, 1363, 1364, 1365, 1366, 1369, 1370, 1371, 1376, 1377, 1380, 1381, 1383, 1384, 1385, 1386, 1389, 1391, 1393, 1396, 1398, 1400, 1407, 1408, 1410, 1411, 1412, 1414, 1416, 1417, 1418, 1419, 1420, 1421, 1425, 1427, 1428, 1429, 1431, 1432, 1433, 1435, 1436, 1437, 1438, 1439, 1443, 1445, 1447, 1449, 1451, 1452, 1454, 1455, 1457, 1464, 1467, 1472, 1474, 1476, 1478, 1488, 1489, 1496, 1497, 1498, 1499, 1500, 1501, 1505, 1507, 1508, 1509, 1510, 1511, 1512, 1513, 1514, 1515, 1519, 1520, 1521, 1522, 1523, 1524, 1525, 1526, 1528, 1532, 1533, 1534, 1535, 1536, 1538, 1539, 1540, 1541, 1542, 1544, 1545, 1546, 1549, 1550, 1553, 1554, 1555, 1556, 1557, 1558, 1560, 1561, 1563, 1568, 1569, 1570, 1572, 1573, 1574, 1576, 1577, 1579, 1581, 1585, 1588, 1589, 1590, 1591, 1592, 1593, 1594, 1595, 1596, 1597, 1600, 1601, 1602, 1604, 1606, 1608, 1610, 1611, 1615, 1616, 1617, 1624, 1633, 1634, 1635, 1636, 1640, 1641, 1642, 1644, 1645, 1647, 1648, 1651, 1652, 1654, 1655, 1659, 1661, 1671, 1689, 1691, 1692, 1693, 1694, 1696, 1703, 1706, 1709, 1711, 1714, 1715, 1717, 1721, 1722, 1723, 1724, 1725, 1726, 1728, 1729, 1730, 1731, 1734, 1735, 1738, 1739, 1740, 1741, 1742, 1745, 1747, 1749, 1751, 1753, 1754, 1755, 1756, 1757, 1758, 1760, 1761, 1763, 1764, 1765, 1766, 1768, 1770, 1772, 1773, 1774, 1775, 1776, 1777, 1779, 1781, 1783, 1784, 1785, 1786, 1787, 1788, 1789, 1790, 1791, 1792, 1793, 1794, 1795, 1796, 1797, 1798, 1799, 1800, 1802, 1803, 1804, 1806, 1807, 1808, 1809, 1810, 1812, 1813, 1814, 1815, 1816, 1817, 1818, 1819, 1820, 1821, 1822, 1825, 1826, 1828, 1829, 1831, 1832, 1833, 1834, 1835, 1836, 1837, 1838, 1840, 1841, 1842, 1843, 1845, 1847, 1848, 1849, 1850, 1852, 1854, 1856, 1858, 1860, 1874, 1877, 1879, 1882, 1887, 1889, 1890, 1891, 1892, 1893, 1894, 1896, 1898, 1899, 1900, 1902, 1903, 1904, 1905, 1906, 1913, 1919, 1921, 1927, 1932, 1933, 1937, 1938, 1939, 1940, 1941, 1942, 1945, 1947, 1948, 1952, 1954, 1955, 1956, 1958, 1960, 1963, 1964, 1965, 1976, 1978, 1979, 1981, 1982, 1983, 1987, 1994, 1995, 2001, 2004, 2010, 2011, 2012, 2015, 2019, 2020, 2022, 2025, 2026, 2027, 2028, 2034, 2037, 2042, 2044, 2045, 2046, 2048, 2049, 2050, 2051, 2053, 2054, 2055, 2057, 2058, 2061, 2062, 2063, 2064, 2065, 2066, 2067, 2068, 2071, 2073, 2075, 2076, 2077, 2079, 2080, 2081, 2082, 2083, 2084, 2085, 2086, 2088, 2089, 2090, 2092, 2093, 2094, 2095, 2096, 2097, 2099, 2101, 2102, 2103, 2105, 2106, 2107, 2108, 2111, 2112, 2114, 2115, 2117, 2118, 2119, 2120, 2121, 2122, 2123, 2124, 2125, 2127, 2128, 2129, 2130, 2131, 2132, 2133, 2136, 2141, 2143, 2147, 2151, 2153, 2154, 2161, 2167, 2168, 2171, 2173, 2176, 2180, 2181, 2182, 2185, 2187, 2188, 2189, 2190, 2193, 2195, 2196, 2197, 2199, 2202, 2203, 2206, 2207, 2208, 2210, 2211, 2212, 2213, 2214, 2215, 2216, 2217, 2218, 2219, 2222, 2224, 2227, 2228, 2230, 2235, 2236, 2237, 2238, 2239, 2240, 2241, 2244, 2248, 2249, 2250, 2251, 2252, 2255, 2257, 2259, 2260, 2261, 2263, 2265, 2268, 2270, 2274, 2276, 2281, 2283, 2285, 2287, 2295, 2303, 2309, 2315, 2319, 2326, 2328, 2334, 2336, 2340, 2344, 2345, 2346, 2348, 2350, 2353, 2354, 2355, 2356, 2361, 2365, 2366, 2367, 2368, 2369, 2370, 2372, 2374, 2377, 2378, 2380, 2385, 2387, 2388, 2391, 2392, 2394, 2395, 2396, 2398, 2399, 2401, 2402, 2404, 2405, 2406, 2408, 2409, 2410, 2412, 2414, 2415, 2416, 2418, 2421, 2424, 2425, 2426, 2428, 2429, 2430, 2431, 2432, 2433, 2434, 2435, 2438, 2439, 2440, 2441, 2442, 2444, 2445, 2446, 2447, 2450, 2451, 2452, 2453, 2454, 2455, 2456, 2457, 2458, 2460, 2463, 2464, 2465, 2466, 2467, 2468, 2469, 2471, 2472, 2475, 2478, 2479, 2480, 2482, 2485, 2487, 2489, 2490, 2491, 2492, 2493, 2494, 2495, 2497, 2498, 2499, 2500, 2501, 2502, 2503, 2510, 2514, 2519, 2520, 2522, 2524, 2525, 2526, 2527, 2531, 2537, 2539, 2541, 2543, 2544, 2545, 2547, 2548, 2550, 2552, 2554, 2555, 2557, 2558, 2560, 2562, 2565, 2566, 2567, 2568, 2572, 2574, 2575, 2577, 2579, 2580, 2585, 2596, 2600, 2601, 2603, 2604, 2608, 2611, 2615, 2616, 2617, 2618, 2620, 2622, 2625, 2637, 2642, 2643, 2644, 2645, 2647, 2648, 2649, 2650, 2651, 2652, 2653, 2666, 2667, 2676, 2679, 2686, 2688, 2689, 2690, 2693, 2698, 2699, 2700, 2701, 2702, 2704, 2705, 2707, 2708, 2712, 2713, 2714, 2715, 2716, 2717, 2719, 2720, 2721, 2725, 2728, 2729, 2733, 2734, 2736, 2737, 2738, 2739, 2740, 2743, 2744, 2745, 2746, 2747, 2748, 2749, 2750, 2751, 2754, 2755, 2756, 2757, 2761, 2763, 2766, 2767, 2768, 2769, 2770, 2772, 2773, 2774, 2775, 2778, 2779, 2781, 2782, 2783, 2785, 2786, 2788, 2789, 2790, 2791, 2793, 2794, 2796, 2798, 2799, 2800, 2801, 2802, 2803, 2804, 2805, 2806, 2809, 2814, 2815, 2817, 2821, 2824, 2825, 2826, 2827, 2829, 2831, 2836, 2837, 2839, 2844, 2848, 2854, 2855, 2859, 2860, 2863, 2864, 2865, 2866, 2867, 2868, 2869, 2870, 2871, 2873, 2874, 2876, 2877, 2878, 2879, 2880, 2881, 2882, 2883, 2884, 2885, 2888, 2890, 2891, 2892, 2893, 2897, 2899, 2900, 2901, 2904, 2905, 2907, 2908, 2909, 2910, 2912, 2913, 2914, 2915]\n",
      "0 values in 'WoodDeckSF': [0, 0, 0, 0, 0, 0, 0, 0, 0, 0, 0, 0, 0, 0, 0, 0, 0, 0, 0, 0, 0, 0, 0, 0, 0, 0, 0, 0, 0, 0, 0, 0, 0, 0, 0, 0, 0, 0, 0, 0, 0, 0, 0, 0, 0, 0, 0, 0, 0, 0, 0, 0, 0, 0, 0, 0, 0, 0, 0, 0, 0, 0, 0, 0, 0, 0, 0, 0, 0, 0, 0, 0, 0, 0, 0, 0, 0, 0, 0, 0, 0, 0, 0, 0, 0, 0, 0, 0, 0, 0, 0, 0, 0, 0, 0, 0, 0, 0, 0, 0, 0, 0, 0, 0, 0, 0, 0, 0, 0, 0, 0, 0, 0, 0, 0, 0, 0, 0, 0, 0, 0, 0, 0, 0, 0, 0, 0, 0, 0, 0, 0, 0, 0, 0, 0, 0, 0, 0, 0, 0, 0, 0, 0, 0, 0, 0, 0, 0, 0, 0, 0, 0, 0, 0, 0, 0, 0, 0, 0, 0, 0, 0, 0, 0, 0, 0, 0, 0, 0, 0, 0, 0, 0, 0, 0, 0, 0, 0, 0, 0, 0, 0, 0, 0, 0, 0, 0, 0, 0, 0, 0, 0, 0, 0, 0, 0, 0, 0, 0, 0, 0, 0, 0, 0, 0, 0, 0, 0, 0, 0, 0, 0, 0, 0, 0, 0, 0, 0, 0, 0, 0, 0, 0, 0, 0, 0, 0, 0, 0, 0, 0, 0, 0, 0, 0, 0, 0, 0, 0, 0, 0, 0, 0, 0, 0, 0, 0, 0, 0, 0, 0, 0, 0, 0, 0, 0, 0, 0, 0, 0, 0, 0, 0, 0, 0, 0, 0, 0, 0, 0, 0, 0, 0, 0, 0, 0, 0, 0, 0, 0, 0, 0, 0, 0, 0, 0, 0, 0, 0, 0, 0, 0, 0, 0, 0, 0, 0, 0, 0, 0, 0, 0, 0, 0, 0, 0, 0, 0, 0, 0, 0, 0, 0, 0, 0, 0, 0, 0, 0, 0, 0, 0, 0, 0, 0, 0, 0, 0, 0, 0, 0, 0, 0, 0, 0, 0, 0, 0, 0, 0, 0, 0, 0, 0, 0, 0, 0, 0, 0, 0, 0, 0, 0, 0, 0, 0, 0, 0, 0, 0, 0, 0, 0, 0, 0, 0, 0, 0, 0, 0, 0, 0, 0, 0, 0, 0, 0, 0, 0, 0, 0, 0, 0, 0, 0, 0, 0, 0, 0, 0, 0, 0, 0, 0, 0, 0, 0, 0, 0, 0, 0, 0, 0, 0, 0, 0, 0, 0, 0, 0, 0, 0, 0, 0, 0, 0, 0, 0, 0, 0, 0, 0, 0, 0, 0, 0, 0, 0, 0, 0, 0, 0, 0, 0, 0, 0, 0, 0, 0, 0, 0, 0, 0, 0, 0, 0, 0, 0, 0, 0, 0, 0, 0, 0, 0, 0, 0, 0, 0, 0, 0, 0, 0, 0, 0, 0, 0, 0, 0, 0, 0, 0, 0, 0, 0, 0, 0, 0, 0, 0, 0, 0, 0, 0, 0, 0, 0, 0, 0, 0, 0, 0, 0, 0, 0, 0, 0, 0, 0, 0, 0, 0, 0, 0, 0, 0, 0, 0, 0, 0, 0, 0, 0, 0, 0, 0, 0, 0, 0, 0, 0, 0, 0, 0, 0, 0, 0, 0, 0, 0, 0, 0, 0, 0, 0, 0, 0, 0, 0, 0, 0, 0, 0, 0, 0, 0, 0, 0, 0, 0, 0, 0, 0, 0, 0, 0, 0, 0, 0, 0, 0, 0, 0, 0, 0, 0, 0, 0, 0, 0, 0, 0, 0, 0, 0, 0, 0, 0, 0, 0, 0, 0, 0, 0, 0, 0, 0, 0, 0, 0, 0, 0, 0, 0, 0, 0, 0, 0, 0, 0, 0, 0, 0, 0, 0, 0, 0, 0, 0, 0, 0, 0, 0, 0, 0, 0, 0, 0, 0, 0, 0, 0, 0, 0, 0, 0, 0, 0, 0, 0, 0, 0, 0, 0, 0, 0, 0, 0, 0, 0, 0, 0, 0, 0, 0, 0, 0, 0, 0, 0, 0, 0, 0, 0, 0, 0, 0, 0, 0, 0, 0, 0, 0, 0, 0, 0, 0, 0, 0, 0, 0, 0, 0, 0, 0, 0, 0, 0, 0, 0, 0, 0, 0, 0, 0, 0, 0, 0, 0, 0, 0, 0, 0, 0, 0, 0, 0, 0, 0, 0, 0, 0, 0, 0, 0, 0, 0, 0, 0, 0, 0, 0, 0, 0, 0, 0, 0, 0, 0, 0, 0, 0, 0, 0, 0, 0, 0, 0, 0, 0, 0, 0, 0, 0, 0, 0, 0, 0, 0, 0, 0, 0, 0, 0, 0, 0, 0, 0, 0, 0, 0, 0, 0, 0, 0, 0, 0, 0, 0, 0, 0, 0, 0, 0, 0, 0, 0, 0, 0, 0, 0, 0, 0, 0, 0, 0, 0, 0, 0, 0, 0, 0, 0, 0, 0, 0, 0, 0, 0, 0, 0, 0, 0, 0, 0, 0, 0, 0, 0, 0, 0, 0, 0, 0, 0, 0, 0, 0, 0, 0, 0, 0, 0, 0, 0, 0, 0, 0, 0, 0, 0, 0, 0, 0, 0, 0, 0, 0, 0, 0, 0, 0, 0, 0, 0, 0, 0, 0, 0, 0, 0, 0, 0, 0, 0, 0, 0, 0, 0, 0, 0, 0, 0, 0, 0, 0, 0, 0, 0, 0, 0, 0, 0, 0, 0, 0, 0, 0, 0, 0, 0, 0, 0, 0, 0, 0, 0, 0, 0, 0, 0, 0, 0, 0, 0, 0, 0, 0, 0, 0, 0, 0, 0, 0, 0, 0, 0, 0, 0, 0, 0, 0, 0, 0, 0, 0, 0, 0, 0, 0, 0, 0, 0, 0, 0, 0, 0, 0, 0, 0, 0, 0, 0, 0, 0, 0, 0, 0, 0, 0, 0, 0, 0, 0, 0, 0, 0, 0, 0, 0, 0, 0, 0, 0, 0, 0, 0, 0, 0, 0, 0, 0, 0, 0, 0, 0, 0, 0, 0, 0, 0, 0, 0, 0, 0, 0, 0, 0, 0, 0, 0, 0, 0, 0, 0, 0, 0, 0, 0, 0, 0, 0, 0, 0, 0, 0, 0, 0, 0, 0, 0, 0, 0, 0, 0, 0, 0, 0, 0, 0, 0, 0, 0, 0, 0, 0, 0, 0, 0, 0, 0, 0, 0, 0, 0, 0, 0, 0, 0, 0, 0, 0, 0, 0, 0, 0, 0, 0, 0, 0, 0, 0, 0, 0, 0, 0, 0, 0, 0, 0, 0, 0, 0, 0, 0, 0, 0, 0, 0, 0, 0, 0, 0, 0, 0, 0, 0, 0, 0, 0, 0, 0, 0, 0, 0, 0, 0, 0, 0, 0, 0, 0, 0, 0, 0, 0, 0, 0, 0, 0, 0, 0, 0, 0, 0, 0, 0, 0, 0, 0, 0, 0, 0, 0, 0, 0, 0, 0, 0, 0, 0, 0, 0, 0, 0, 0, 0, 0, 0, 0, 0, 0, 0, 0, 0, 0, 0, 0, 0, 0, 0, 0, 0, 0, 0, 0, 0, 0, 0, 0, 0, 0, 0, 0, 0, 0, 0, 0, 0, 0, 0, 0, 0, 0, 0, 0, 0, 0, 0, 0, 0, 0, 0, 0, 0, 0, 0, 0, 0, 0, 0, 0, 0, 0, 0, 0, 0, 0, 0, 0, 0, 0, 0, 0, 0, 0, 0, 0, 0, 0, 0, 0, 0, 0, 0, 0, 0, 0, 0, 0, 0, 0, 0, 0, 0, 0, 0, 0, 0, 0, 0, 0, 0, 0, 0, 0, 0, 0, 0, 0, 0, 0, 0, 0, 0, 0, 0, 0, 0, 0, 0, 0, 0, 0, 0, 0, 0, 0, 0, 0, 0, 0, 0, 0, 0, 0, 0, 0, 0, 0, 0, 0, 0, 0, 0, 0, 0, 0, 0, 0, 0, 0, 0, 0, 0, 0, 0, 0, 0, 0, 0, 0, 0, 0, 0, 0, 0, 0, 0, 0, 0, 0, 0, 0, 0, 0, 0, 0, 0, 0, 0, 0, 0, 0, 0, 0, 0, 0, 0, 0, 0, 0, 0, 0, 0, 0, 0, 0, 0, 0, 0, 0, 0, 0, 0, 0, 0, 0, 0, 0, 0, 0, 0, 0, 0, 0, 0, 0, 0, 0, 0, 0, 0, 0, 0, 0, 0, 0, 0, 0, 0, 0, 0, 0, 0, 0, 0, 0, 0, 0, 0, 0, 0, 0, 0, 0, 0, 0, 0, 0, 0, 0, 0, 0, 0, 0, 0, 0, 0, 0, 0, 0, 0, 0, 0, 0, 0, 0, 0, 0, 0, 0, 0, 0, 0, 0, 0, 0, 0, 0, 0, 0, 0, 0, 0, 0, 0, 0, 0, 0, 0, 0, 0, 0, 0, 0, 0, 0, 0, 0, 0, 0, 0, 0, 0, 0, 0, 0, 0, 0, 0, 0, 0, 0, 0, 0, 0, 0, 0, 0, 0, 0, 0, 0, 0, 0, 0, 0, 0, 0, 0, 0, 0, 0, 0, 0, 0, 0, 0, 0, 0, 0, 0, 0, 0, 0, 0, 0, 0, 0, 0, 0, 0, 0, 0, 0, 0, 0, 0, 0, 0, 0, 0, 0, 0, 0, 0, 0, 0, 0, 0, 0, 0, 0, 0, 0, 0, 0, 0, 0, 0, 0, 0, 0, 0, 0, 0, 0, 0, 0, 0, 0, 0, 0, 0, 0, 0, 0, 0, 0, 0, 0, 0, 0, 0, 0, 0, 0, 0, 0, 0, 0, 0, 0, 0, 0, 0, 0, 0, 0, 0, 0, 0]\n",
      "\n",
      "Column 'OpenPorchSF' has 1298 zero values.\n",
      "Indices with 0 values in 'OpenPorchSF': [1, 8, 10, 12, 16, 17, 19, 21, 29, 37, 39, 42, 43, 44, 48, 49, 51, 52, 55, 56, 58, 59, 61, 66, 68, 70, 71, 73, 74, 76, 77, 78, 79, 83, 88, 89, 91, 92, 93, 97, 98, 99, 102, 104, 106, 107, 108, 110, 111, 114, 118, 121, 122, 124, 125, 127, 132, 135, 137, 140, 142, 144, 146, 148, 150, 153, 154, 156, 160, 161, 163, 164, 165, 166, 170, 174, 177, 179, 180, 181, 182, 184, 187, 188, 194, 195, 202, 203, 207, 209, 210, 213, 215, 219, 223, 225, 227, 228, 230, 232, 233, 235, 242, 250, 251, 253, 254, 255, 260, 263, 264, 265, 271, 273, 274, 275, 277, 284, 286, 287, 288, 289, 292, 294, 295, 296, 298, 300, 303, 304, 305, 308, 311, 312, 313, 314, 324, 325, 329, 330, 331, 332, 335, 339, 340, 341, 342, 344, 345, 346, 349, 352, 353, 354, 358, 360, 361, 362, 363, 372, 373, 375, 376, 378, 380, 383, 387, 392, 393, 395, 396, 398, 401, 402, 406, 407, 410, 411, 413, 416, 417, 418, 420, 421, 422, 425, 426, 427, 429, 430, 434, 436, 437, 438, 441, 442, 445, 446, 447, 448, 454, 455, 456, 459, 461, 462, 463, 464, 466, 467, 471, 482, 486, 487, 488, 489, 491, 492, 493, 498, 502, 504, 505, 508, 512, 513, 514, 517, 519, 526, 528, 529, 530, 531, 532, 533, 535, 537, 538, 539, 545, 547, 551, 555, 556, 560, 562, 567, 569, 570, 571, 573, 574, 575, 579, 584, 586, 587, 589, 592, 593, 594, 598, 599, 606, 607, 608, 609, 611, 615, 617, 619, 620, 622, 624, 625, 626, 627, 628, 629, 630, 632, 633, 636, 637, 638, 639, 643, 647, 649, 650, 651, 653, 655, 656, 657, 658, 659, 662, 663, 668, 669, 671, 674, 675, 676, 677, 679, 680, 681, 682, 685, 688, 690, 693, 694, 695, 696, 697, 701, 703, 705, 709, 710, 711, 715, 717, 719, 721, 722, 723, 725, 727, 733, 734, 736, 738, 740, 741, 743, 744, 747, 749, 757, 758, 760, 761, 767, 770, 771, 772, 773, 777, 778, 779, 785, 786, 788, 791, 796, 797, 799, 801, 804, 806, 808, 810, 811, 812, 813, 814, 816, 818, 823, 826, 828, 830, 833, 834, 835, 837, 838, 839, 840, 843, 844, 845, 847, 850, 852, 853, 856, 858, 861, 862, 863, 865, 867, 870, 872, 874, 876, 877, 878, 879, 884, 887, 889, 890, 891, 892, 894, 897, 899, 900, 901, 904, 905, 907, 908, 910, 911, 912, 913, 915, 916, 917, 922, 925, 929, 931, 934, 935, 939, 940, 941, 942, 943, 945, 946, 949, 950, 951, 952, 954, 955, 956, 957, 960, 962, 967, 968, 969, 970, 972, 976, 978, 981, 983, 984, 986, 997, 1000, 1003, 1004, 1005, 1006, 1007, 1009, 1010, 1011, 1012, 1017, 1018, 1022, 1025, 1026, 1028, 1030, 1034, 1035, 1036, 1038, 1039, 1040, 1045, 1047, 1048, 1049, 1055, 1059, 1060, 1069, 1071, 1072, 1073, 1075, 1078, 1080, 1081, 1085, 1090, 1092, 1094, 1096, 1098, 1099, 1100, 1101, 1103, 1104, 1112, 1114, 1115, 1116, 1117, 1119, 1122, 1125, 1129, 1136, 1137, 1139, 1140, 1144, 1145, 1147, 1148, 1149, 1150, 1152, 1153, 1160, 1161, 1162, 1163, 1168, 1170, 1171, 1173, 1174, 1176, 1177, 1178, 1180, 1183, 1185, 1190, 1191, 1192, 1197, 1198, 1200, 1202, 1208, 1213, 1215, 1216, 1218, 1219, 1220, 1222, 1225, 1229, 1232, 1233, 1238, 1244, 1247, 1248, 1250, 1252, 1255, 1258, 1259, 1261, 1262, 1263, 1266, 1269, 1270, 1271, 1272, 1273, 1274, 1275, 1277, 1279, 1282, 1283, 1284, 1285, 1290, 1291, 1294, 1295, 1299, 1300, 1301, 1312, 1315, 1319, 1320, 1321, 1323, 1325, 1326, 1327, 1331, 1332, 1339, 1340, 1343, 1344, 1345, 1347, 1350, 1352, 1356, 1357, 1360, 1362, 1368, 1370, 1378, 1379, 1380, 1382, 1383, 1384, 1389, 1396, 1397, 1398, 1400, 1404, 1406, 1407, 1408, 1411, 1412, 1414, 1416, 1422, 1427, 1428, 1429, 1432, 1433, 1436, 1440, 1441, 1445, 1449, 1456, 1458, 1460, 1468, 1469, 1471, 1472, 1473, 1484, 1487, 1491, 1492, 1510, 1513, 1514, 1515, 1516, 1517, 1519, 1522, 1523, 1524, 1525, 1526, 1527, 1528, 1529, 1530, 1531, 1532, 1533, 1535, 1536, 1540, 1541, 1542, 1543, 1544, 1545, 1546, 1547, 1548, 1550, 1551, 1552, 1553, 1555, 1556, 1557, 1558, 1561, 1562, 1563, 1565, 1566, 1568, 1570, 1571, 1572, 1578, 1581, 1584, 1585, 1586, 1587, 1588, 1589, 1590, 1591, 1592, 1593, 1595, 1596, 1597, 1600, 1602, 1606, 1609, 1610, 1611, 1612, 1613, 1615, 1616, 1617, 1618, 1619, 1620, 1621, 1624, 1632, 1640, 1644, 1645, 1646, 1648, 1649, 1650, 1651, 1652, 1653, 1656, 1657, 1683, 1686, 1692, 1694, 1695, 1696, 1716, 1729, 1732, 1733, 1734, 1735, 1736, 1749, 1751, 1755, 1756, 1757, 1762, 1767, 1768, 1769, 1771, 1773, 1774, 1775, 1776, 1777, 1778, 1779, 1780, 1782, 1783, 1784, 1785, 1786, 1788, 1790, 1791, 1792, 1793, 1794, 1796, 1797, 1799, 1804, 1805, 1807, 1808, 1810, 1811, 1813, 1814, 1815, 1816, 1820, 1821, 1825, 1827, 1828, 1829, 1832, 1835, 1836, 1837, 1838, 1839, 1840, 1841, 1843, 1845, 1847, 1848, 1849, 1851, 1854, 1856, 1857, 1858, 1859, 1860, 1861, 1862, 1863, 1868, 1873, 1878, 1879, 1886, 1891, 1893, 1894, 1895, 1896, 1898, 1901, 1902, 1903, 1905, 1907, 1908, 1909, 1913, 1917, 1919, 1926, 1928, 1929, 1931, 1938, 1945, 1947, 1949, 1950, 1951, 1952, 1954, 1959, 1960, 1961, 1962, 1963, 1964, 1980, 1991, 1998, 2018, 2019, 2020, 2022, 2033, 2034, 2035, 2036, 2042, 2043, 2045, 2047, 2048, 2049, 2050, 2051, 2052, 2053, 2059, 2060, 2061, 2062, 2063, 2067, 2068, 2069, 2071, 2075, 2077, 2078, 2079, 2080, 2081, 2082, 2083, 2084, 2086, 2088, 2089, 2091, 2092, 2094, 2095, 2098, 2099, 2100, 2102, 2103, 2107, 2108, 2109, 2110, 2112, 2115, 2116, 2117, 2118, 2119, 2120, 2126, 2128, 2131, 2133, 2134, 2135, 2137, 2138, 2139, 2140, 2142, 2143, 2144, 2147, 2148, 2149, 2150, 2152, 2153, 2161, 2164, 2165, 2170, 2171, 2172, 2178, 2183, 2184, 2185, 2186, 2187, 2189, 2190, 2191, 2192, 2193, 2194, 2195, 2196, 2197, 2198, 2199, 2200, 2204, 2206, 2209, 2210, 2211, 2212, 2215, 2216, 2218, 2224, 2226, 2229, 2231, 2232, 2237, 2245, 2246, 2247, 2248, 2249, 2250, 2252, 2264, 2268, 2270, 2274, 2277, 2278, 2279, 2282, 2285, 2311, 2319, 2323, 2325, 2348, 2355, 2358, 2359, 2360, 2363, 2369, 2373, 2376, 2379, 2381, 2384, 2387, 2389, 2390, 2391, 2392, 2393, 2394, 2396, 2400, 2401, 2402, 2404, 2405, 2406, 2407, 2408, 2409, 2412, 2413, 2414, 2416, 2417, 2418, 2419, 2420, 2422, 2423, 2425, 2428, 2429, 2431, 2432, 2433, 2434, 2435, 2436, 2438, 2439, 2441, 2442, 2444, 2445, 2446, 2447, 2448, 2452, 2456, 2457, 2458, 2459, 2460, 2461, 2462, 2465, 2466, 2468, 2470, 2471, 2472, 2474, 2477, 2478, 2479, 2481, 2482, 2483, 2484, 2485, 2487, 2488, 2489, 2490, 2494, 2496, 2497, 2498, 2500, 2501, 2502, 2513, 2514, 2516, 2517, 2522, 2523, 2524, 2525, 2526, 2528, 2529, 2542, 2543, 2544, 2545, 2546, 2547, 2551, 2552, 2553, 2554, 2555, 2556, 2558, 2559, 2560, 2561, 2562, 2563, 2566, 2568, 2569, 2570, 2571, 2574, 2575, 2576, 2577, 2578, 2579, 2581, 2582, 2583, 2588, 2589, 2590, 2592, 2593, 2601, 2604, 2606, 2609, 2612, 2613, 2614, 2615, 2616, 2630, 2636, 2640, 2642, 2644, 2645, 2646, 2648, 2651, 2652, 2668, 2674, 2676, 2687, 2701, 2702, 2703, 2704, 2707, 2708, 2709, 2720, 2722, 2723, 2729, 2730, 2732, 2734, 2736, 2737, 2739, 2741, 2742, 2744, 2746, 2747, 2748, 2749, 2750, 2751, 2752, 2756, 2757, 2758, 2759, 2765, 2766, 2767, 2768, 2769, 2770, 2773, 2774, 2776, 2777, 2779, 2781, 2782, 2783, 2784, 2785, 2786, 2787, 2790, 2791, 2794, 2795, 2796, 2797, 2799, 2800, 2801, 2803, 2804, 2808, 2810, 2811, 2812, 2813, 2814, 2816, 2817, 2819, 2820, 2825, 2826, 2828, 2837, 2843, 2844, 2853, 2858, 2859, 2862, 2866, 2867, 2868, 2870, 2871, 2872, 2873, 2874, 2875, 2876, 2877, 2879, 2880, 2881, 2882, 2883, 2885, 2886, 2887, 2888, 2889, 2891, 2892, 2893, 2897, 2899, 2900, 2904, 2906, 2908, 2909, 2910, 2911, 2912, 2914, 2916]\n",
      "0 values in 'OpenPorchSF': [0, 0, 0, 0, 0, 0, 0, 0, 0, 0, 0, 0, 0, 0, 0, 0, 0, 0, 0, 0, 0, 0, 0, 0, 0, 0, 0, 0, 0, 0, 0, 0, 0, 0, 0, 0, 0, 0, 0, 0, 0, 0, 0, 0, 0, 0, 0, 0, 0, 0, 0, 0, 0, 0, 0, 0, 0, 0, 0, 0, 0, 0, 0, 0, 0, 0, 0, 0, 0, 0, 0, 0, 0, 0, 0, 0, 0, 0, 0, 0, 0, 0, 0, 0, 0, 0, 0, 0, 0, 0, 0, 0, 0, 0, 0, 0, 0, 0, 0, 0, 0, 0, 0, 0, 0, 0, 0, 0, 0, 0, 0, 0, 0, 0, 0, 0, 0, 0, 0, 0, 0, 0, 0, 0, 0, 0, 0, 0, 0, 0, 0, 0, 0, 0, 0, 0, 0, 0, 0, 0, 0, 0, 0, 0, 0, 0, 0, 0, 0, 0, 0, 0, 0, 0, 0, 0, 0, 0, 0, 0, 0, 0, 0, 0, 0, 0, 0, 0, 0, 0, 0, 0, 0, 0, 0, 0, 0, 0, 0, 0, 0, 0, 0, 0, 0, 0, 0, 0, 0, 0, 0, 0, 0, 0, 0, 0, 0, 0, 0, 0, 0, 0, 0, 0, 0, 0, 0, 0, 0, 0, 0, 0, 0, 0, 0, 0, 0, 0, 0, 0, 0, 0, 0, 0, 0, 0, 0, 0, 0, 0, 0, 0, 0, 0, 0, 0, 0, 0, 0, 0, 0, 0, 0, 0, 0, 0, 0, 0, 0, 0, 0, 0, 0, 0, 0, 0, 0, 0, 0, 0, 0, 0, 0, 0, 0, 0, 0, 0, 0, 0, 0, 0, 0, 0, 0, 0, 0, 0, 0, 0, 0, 0, 0, 0, 0, 0, 0, 0, 0, 0, 0, 0, 0, 0, 0, 0, 0, 0, 0, 0, 0, 0, 0, 0, 0, 0, 0, 0, 0, 0, 0, 0, 0, 0, 0, 0, 0, 0, 0, 0, 0, 0, 0, 0, 0, 0, 0, 0, 0, 0, 0, 0, 0, 0, 0, 0, 0, 0, 0, 0, 0, 0, 0, 0, 0, 0, 0, 0, 0, 0, 0, 0, 0, 0, 0, 0, 0, 0, 0, 0, 0, 0, 0, 0, 0, 0, 0, 0, 0, 0, 0, 0, 0, 0, 0, 0, 0, 0, 0, 0, 0, 0, 0, 0, 0, 0, 0, 0, 0, 0, 0, 0, 0, 0, 0, 0, 0, 0, 0, 0, 0, 0, 0, 0, 0, 0, 0, 0, 0, 0, 0, 0, 0, 0, 0, 0, 0, 0, 0, 0, 0, 0, 0, 0, 0, 0, 0, 0, 0, 0, 0, 0, 0, 0, 0, 0, 0, 0, 0, 0, 0, 0, 0, 0, 0, 0, 0, 0, 0, 0, 0, 0, 0, 0, 0, 0, 0, 0, 0, 0, 0, 0, 0, 0, 0, 0, 0, 0, 0, 0, 0, 0, 0, 0, 0, 0, 0, 0, 0, 0, 0, 0, 0, 0, 0, 0, 0, 0, 0, 0, 0, 0, 0, 0, 0, 0, 0, 0, 0, 0, 0, 0, 0, 0, 0, 0, 0, 0, 0, 0, 0, 0, 0, 0, 0, 0, 0, 0, 0, 0, 0, 0, 0, 0, 0, 0, 0, 0, 0, 0, 0, 0, 0, 0, 0, 0, 0, 0, 0, 0, 0, 0, 0, 0, 0, 0, 0, 0, 0, 0, 0, 0, 0, 0, 0, 0, 0, 0, 0, 0, 0, 0, 0, 0, 0, 0, 0, 0, 0, 0, 0, 0, 0, 0, 0, 0, 0, 0, 0, 0, 0, 0, 0, 0, 0, 0, 0, 0, 0, 0, 0, 0, 0, 0, 0, 0, 0, 0, 0, 0, 0, 0, 0, 0, 0, 0, 0, 0, 0, 0, 0, 0, 0, 0, 0, 0, 0, 0, 0, 0, 0, 0, 0, 0, 0, 0, 0, 0, 0, 0, 0, 0, 0, 0, 0, 0, 0, 0, 0, 0, 0, 0, 0, 0, 0, 0, 0, 0, 0, 0, 0, 0, 0, 0, 0, 0, 0, 0, 0, 0, 0, 0, 0, 0, 0, 0, 0, 0, 0, 0, 0, 0, 0, 0, 0, 0, 0, 0, 0, 0, 0, 0, 0, 0, 0, 0, 0, 0, 0, 0, 0, 0, 0, 0, 0, 0, 0, 0, 0, 0, 0, 0, 0, 0, 0, 0, 0, 0, 0, 0, 0, 0, 0, 0, 0, 0, 0, 0, 0, 0, 0, 0, 0, 0, 0, 0, 0, 0, 0, 0, 0, 0, 0, 0, 0, 0, 0, 0, 0, 0, 0, 0, 0, 0, 0, 0, 0, 0, 0, 0, 0, 0, 0, 0, 0, 0, 0, 0, 0, 0, 0, 0, 0, 0, 0, 0, 0, 0, 0, 0, 0, 0, 0, 0, 0, 0, 0, 0, 0, 0, 0, 0, 0, 0, 0, 0, 0, 0, 0, 0, 0, 0, 0, 0, 0, 0, 0, 0, 0, 0, 0, 0, 0, 0, 0, 0, 0, 0, 0, 0, 0, 0, 0, 0, 0, 0, 0, 0, 0, 0, 0, 0, 0, 0, 0, 0, 0, 0, 0, 0, 0, 0, 0, 0, 0, 0, 0, 0, 0, 0, 0, 0, 0, 0, 0, 0, 0, 0, 0, 0, 0, 0, 0, 0, 0, 0, 0, 0, 0, 0, 0, 0, 0, 0, 0, 0, 0, 0, 0, 0, 0, 0, 0, 0, 0, 0, 0, 0, 0, 0, 0, 0, 0, 0, 0, 0, 0, 0, 0, 0, 0, 0, 0, 0, 0, 0, 0, 0, 0, 0, 0, 0, 0, 0, 0, 0, 0, 0, 0, 0, 0, 0, 0, 0, 0, 0, 0, 0, 0, 0, 0, 0, 0, 0, 0, 0, 0, 0, 0, 0, 0, 0, 0, 0, 0, 0, 0, 0, 0, 0, 0, 0, 0, 0, 0, 0, 0, 0, 0, 0, 0, 0, 0, 0, 0, 0, 0, 0, 0, 0, 0, 0, 0, 0, 0, 0, 0, 0, 0, 0, 0, 0, 0, 0, 0, 0, 0, 0, 0, 0, 0, 0, 0, 0, 0, 0, 0, 0, 0, 0, 0, 0, 0, 0, 0, 0, 0, 0, 0, 0, 0, 0, 0, 0, 0, 0, 0, 0, 0, 0, 0, 0, 0, 0, 0, 0, 0, 0, 0, 0, 0, 0, 0, 0, 0, 0, 0, 0, 0, 0, 0, 0, 0, 0, 0, 0, 0, 0, 0, 0, 0, 0, 0, 0, 0, 0, 0, 0, 0, 0, 0, 0, 0, 0, 0, 0, 0, 0, 0, 0, 0, 0, 0, 0, 0, 0, 0, 0, 0, 0, 0, 0, 0, 0, 0, 0, 0, 0, 0, 0, 0, 0, 0, 0, 0, 0, 0, 0, 0, 0, 0, 0, 0, 0, 0, 0, 0, 0, 0, 0, 0, 0, 0, 0, 0, 0, 0, 0, 0, 0, 0, 0, 0, 0, 0, 0, 0, 0, 0, 0, 0, 0, 0, 0, 0, 0, 0, 0, 0, 0, 0, 0, 0, 0, 0, 0, 0, 0, 0, 0, 0, 0, 0, 0, 0, 0, 0, 0, 0, 0, 0, 0, 0, 0, 0, 0, 0, 0, 0, 0, 0, 0, 0, 0, 0, 0, 0, 0, 0, 0, 0, 0, 0, 0, 0, 0, 0, 0, 0, 0, 0, 0, 0, 0, 0, 0, 0, 0, 0, 0, 0, 0, 0, 0, 0, 0, 0, 0, 0, 0, 0, 0, 0, 0, 0, 0, 0, 0, 0, 0, 0, 0, 0, 0, 0, 0, 0, 0, 0, 0, 0, 0, 0, 0, 0, 0, 0, 0, 0, 0, 0, 0, 0, 0, 0, 0, 0, 0, 0, 0, 0, 0, 0, 0, 0, 0, 0, 0, 0, 0, 0, 0, 0, 0, 0, 0, 0, 0, 0, 0, 0, 0, 0, 0, 0, 0, 0, 0, 0, 0, 0, 0, 0, 0, 0, 0, 0, 0, 0, 0, 0, 0, 0, 0, 0, 0, 0, 0, 0, 0, 0, 0, 0, 0, 0, 0, 0, 0]\n",
      "\n"
     ],
     "output_type":"stream"
    }
   ],
   "metadata":{
    "datalore":{
     "node_id":"6td1EtCw4bkEFJyjIIMlfq",
     "type":"CODE",
     "hide_input_from_viewers":true,
     "hide_output_from_viewers":true
    }
   }
  },
  {
   "cell_type":"markdown",
   "source":[
    "# Modeling"
   ],
   "attachments":{
    
   },
   "metadata":{
    "datalore":{
     "node_id":"BDOgSYmqndEtLPfgSHdayW",
     "type":"MD",
     "hide_input_from_viewers":true,
     "hide_output_from_viewers":true
    }
   }
  },
  {
   "cell_type":"markdown",
   "source":[
    "### training and testing data"
   ],
   "attachments":{
    
   },
   "metadata":{
    "datalore":{
     "node_id":"DKUviQx3xsBPmJYM6uNUmH",
     "type":"MD",
     "hide_input_from_viewers":true,
     "hide_output_from_viewers":true
    }
   }
  },
  {
   "cell_type":"code",
   "source":[
    "from sklearn.model_selection import train_test_split\n",
    "\n",
    "# separate the independent variables (features) from the dependent variable (target)\n",
    "features = combined_df.drop('SalePrice', axis=1)\n",
    "target = combined_df['SalePrice']\n",
    "\n",
    "# dats split: 80% for training and 20% for testing\n",
    "features_train, features_test, target_train, target_test = train_test_split(features, target, test_size=0.2, random_state=42)\n",
    "\n",
    "print('Training Features Shape:', features_train.shape)\n",
    "print('Training Target Shape:', target_train.shape)\n",
    "print('Testing Features Shape:', features_test.shape)\n",
    "print('Testing Target Shape:', target_test.shape)"
   ],
   "execution_count":25,
   "outputs":[
    {
     "name":"stdout",
     "text":[
      "Training Features Shape: (2335, 13)\n",
      "Training Target Shape: (2335,)\n",
      "Testing Features Shape: (584, 13)\n",
      "Testing Target Shape: (584,)\n"
     ],
     "output_type":"stream"
    }
   ],
   "metadata":{
    "datalore":{
     "node_id":"2eA0Q55uBJWDCsBH7BKta1",
     "type":"CODE",
     "hide_input_from_viewers":true,
     "hide_output_from_viewers":true
    }
   }
  },
  {
   "cell_type":"markdown",
   "source":[
    "#### Linear regression model, Actual vs Predicted values, Risidual plot( should randomly be arounf the 0 value)"
   ],
   "attachments":{
    
   },
   "metadata":{
    "datalore":{
     "node_id":"CiOBeKQNK6i0DC1NS0Fv9s",
     "type":"MD",
     "hide_input_from_viewers":true,
     "hide_output_from_viewers":true
    }
   }
  },
  {
   "cell_type":"code",
   "source":[
    "\n",
    "from sklearn.linear_model import LinearRegression\n",
    "from sklearn.metrics import mean_squared_error\n",
    "import numpy as np\n",
    "\n",
    "\n",
    "reg = LinearRegression()\n",
    "reg.fit(features_train, target_train)\n",
    "\n",
    "predictions = reg.predict(features_test)\n",
    "\n",
    "# RMSE\n",
    "MSE = mean_squared_error(target_test, predictions)\n",
    "print('Mean Squared Error of the model is: {:.4f}'.format(MSE))\n",
    "print('Root Mean Squared Error of the model is: {:.4f}'.format(np.sqrt(MSE)))\n",
    "\n",
    "import seaborn as sns\n",
    "\n",
    "# residuals: difference between actual and predicted values\n",
    "residuals = target_test - predictions\n",
    "\n",
    "plt.figure(figsize=(10,6))\n",
    "\n",
    "# Plotting residuals\n",
    "sns.scatterplot(x=target_test, y=residuals)\n",
    "plt.axhline(y=0, color='r', linestyle='--')\n",
    "plt.title('Residuals Plot')\n",
    "plt.xlabel('Predicted SalePrice')\n",
    "plt.ylabel('Residuals (Actual - Predicted SalePrice)')\n",
    "plt.show()\n",
    "\n",
    "neg_predictions = predictions[predictions < 0]\n",
    "if len(neg_predictions) > 0:\n",
    "    print(\"Negative Predictions: \", neg_predictions)\n",
    "else:\n",
    "    print(\"No negative predictions.\")"
   ],
   "execution_count":44,
   "outputs":[
    {
     "name":"stdout",
     "text":[
      "Mean Squared Error of the model is: 4012198518.0605\n",
      "Root Mean Squared Error of the model is: 63341.9175\n",
      "Negative Predictions:  [-32067.76260083 -27550.52459799 -23307.66218927 -39233.79250138\n",
      " -27686.98342716 -46399.72095856  -9774.64612818  -9138.47821565\n",
      "  -1936.9959027  -18276.60352608 -19985.97884672 -32011.28752321\n",
      " -16604.24046505 -21239.28295876 -18207.09276892 -39067.69269697\n",
      " -26989.12256384 -48557.15061732 -35551.08274908 -62213.29886494\n",
      " -26248.50894042 -64968.83783606 -38372.87322427 -15680.68317988\n",
      " -48182.52573228 -35443.40891897 -54996.70310147 -47084.97782785\n",
      " -50972.03258999 -24734.7667437  -36665.24127799 -21971.36489185\n",
      " -42128.00286041 -17105.93664335  -1590.74425506 -39230.56421335\n",
      " -22169.50891182 -58685.88914314 -19948.81228748 -15583.44552094\n",
      " -30319.50845508  -6839.70584646 -76655.3638719  -25336.34076993\n",
      " -29322.60945185 -35633.0497428  -12295.54325602 -10032.13584292\n",
      "   -146.17628    -27443.73264145  -7122.72905579   -681.64375722\n",
      " -52775.61625749 -80145.06704539 -14933.02159756 -23551.38836329\n",
      " -33831.32352826 -18810.6666858    -654.9525945  -18372.92378488\n",
      " -99695.67121294  -6342.85419588 -19557.32568838 -20310.66636136\n",
      " -68095.07011148 -19326.19841468 -23149.0274253  -29135.5477749\n",
      " -59589.8519373   -5289.3288328  -88698.38213967 -35177.88850304\n",
      " -65240.50575148 -20453.02264454  -4380.82347018 -17634.43547679\n",
      " -54263.06863828 -90853.57695133 -45979.95770085 -50431.9528881\n",
      " -18638.47591135  -5586.44649037 -15616.74325514 -57586.36043454\n",
      " -74043.78440441 -17351.08051909 -60755.21383664 -11073.78896591\n",
      " -72624.63114196 -28306.12077195 -27702.99823297  -5338.07640135\n",
      " -21191.52116828 -40507.00731995 -33402.67061861 -32235.73824405\n",
      " -12407.15681524 -40427.35422389 -30658.53779238 -33767.28070261\n",
      " -47318.94364826 -77767.65261321 -59683.61141094 -19368.22439815\n",
      " -14728.64504979 -45252.11475834]\n"
     ],
     "output_type":"stream"
    },
    {
     "data":{
      "image\/png":"[encoded data removed]"
     },
     "metadata":{
      "image\/png":{
       
      }
     },
     "output_type":"display_data"
    }
   ],
   "metadata":{
    "datalore":{
     "node_id":"DtEse4WjfHA3WnsuwdNFjz",
     "type":"CODE",
     "hide_input_from_viewers":true,
     "hide_output_from_viewers":true
    }
   }
  },
  {
   "cell_type":"code",
   "source":[
    "# scatter plot of actual vs. predicted values\n",
    "plt.figure(figsize=(10,6))\n",
    "sns.scatterplot(x=target_test, y=predictions)\n",
    "plt.title('Actual vs. Predicted SalePrice')\n",
    "plt.xlabel('Actual SalePrice')\n",
    "plt.ylabel('Predicted SalePrice')\n",
    "\n",
    "# line that represents perfect predictions\n",
    "plt.plot([target_test.min(), target_test.max()], [target_test.min(), target_test.max()], color='red', lw=2)\n",
    "plt.show()"
   ],
   "execution_count":50,
   "outputs":[
    {
     "data":{
      "image\/png":"[encoded data removed]"
     },
     "metadata":{
      "image\/png":{
       
      }
     },
     "output_type":"display_data"
    }
   ],
   "metadata":{
    "datalore":{
     "node_id":"3noqczcLki4J1KgcACQb1Z",
     "type":"CODE",
     "hide_input_from_viewers":true,
     "hide_output_from_viewers":true
    }
   }
  }
 ],
 "metadata":{
  "kernelspec":{
   "display_name":"Python",
   "language":"python",
   "name":"python"
  },
  "datalore":{
   "computation_mode":"JUPYTER",
   "package_manager":"pip",
   "base_environment":"default",
   "packages":[
    
   ],
   "report_row_ids":[
    
   ],
   "version":3
  }
 },
 "nbformat":4,
 "nbformat_minor":4
}